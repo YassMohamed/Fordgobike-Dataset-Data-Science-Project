{
 "cells": [
  {
   "cell_type": "markdown",
   "id": "58b74018",
   "metadata": {
    "execution": {
     "iopub.execute_input": "2022-07-09T14:25:43.577524Z",
     "iopub.status.busy": "2022-07-09T14:25:43.577125Z",
     "iopub.status.idle": "2022-07-09T14:25:43.583064Z",
     "shell.execute_reply": "2022-07-09T14:25:43.581948Z",
     "shell.execute_reply.started": "2022-07-09T14:25:43.577494Z"
    },
    "papermill": {
     "duration": 0.020455,
     "end_time": "2024-05-08T19:18:46.175321",
     "exception": false,
     "start_time": "2024-05-08T19:18:46.154866",
     "status": "completed"
    },
    "tags": []
   },
   "source": [
    "\n",
    "<div style=\"border-radius:10px;\n",
    "            border : #015a2c solid;\n",
    "            background-color:#D7D9DB;\n",
    "           font-size:110%;\n",
    "           letter-spacing:0.5px;\n",
    "            text-align: center\">\n",
    "​\n",
    "<center><h1 style=\"padding: 25px 0px; color:#015a4c; font-weight: bold; font-family: Cursive\">\n",
    "Amit Project for Data Science Module <br><br>💡💡💡💡💡 <br><br> AI Online 74  </h1></center>\n",
    "<center><h3 style=\"padding-bottom: 25px; color:#025b2c; font-weight: bold; font-style:italic; font-family: Cursive\">\n",
    "Using Project: Trip data Ford go bike  </h3></center>     \n",
    "​\n",
    "</div>"
   ]
  },
  {
   "cell_type": "markdown",
   "id": "8255d1c5",
   "metadata": {
    "papermill": {
     "duration": 0.019782,
     "end_time": "2024-05-08T19:18:46.214320",
     "exception": false,
     "start_time": "2024-05-08T19:18:46.194538",
     "status": "completed"
    },
    "tags": []
   },
   "source": [
    "# Part I - (Dataset Exploration for Ford GoBike)\n",
    "\n",
    "### worked by (Yassin Mohamed Hassan/2024 )\n",
    "\n",
    "## Introduction\n",
    "\n",
    ".\n",
    "\n",
    "> **Let's introduce our dataset:**\n",
    "\n",
    "\n",
    "======================================\n",
    "\n",
    ".\n",
    "\n",
    "**This data set information was produced from `Ford GoBike` System** the information in it talked about individual rides that were made in a bike-sharing system for covering San Francisco Bay area.** \n",
    "\n",
    ".\n"
   ]
  },
  {
   "cell_type": "markdown",
   "id": "5da4edda",
   "metadata": {
    "papermill": {
     "duration": 0.018105,
     "end_time": "2024-05-08T19:18:46.251444",
     "exception": false,
     "start_time": "2024-05-08T19:18:46.233339",
     "status": "completed"
    },
    "tags": []
   },
   "source": [
    "\n",
    "\n",
    "> ## And here are the main exploring questions \n",
    "\n",
    "\n",
    "\n",
    "   **==================================================**\n",
    "\n",
    "\n",
    "\n",
    "- What is the structure of your dataset?\n",
    "\n",
    "\n",
    "- What are the main interesting features in the dataset?\n",
    "\n",
    "\n",
    "- What features in the dataset supported my investigation for these interesting features?\n",
    "\n",
    "\n",
    "\n",
    "\n",
    ".\n",
    "\n",
    "> ### Also here are the investigative questions classified into three types\n",
    "\n",
    "\n",
    "\n",
    "   **================================================**\n",
    "   \n",
    "   \n",
    "\n",
    "\n",
    "###  <a href='#011'> Univariate Exploration</a> \n",
    "\n",
    "- <a href='#1'> 1 ) . What is the distribution of `User type`?</a>  \n",
    "- <a href='#2'> 2 ) . What is the distribution for the `bike share users on all Trips`?</a>  \n",
    "- <a href='#3'> 3 ) . What is the distribution for users' `ages`?</a>  \n",
    "- <a href='#4'> 4 ) . Do the users' ages have `outlier` values?</a>\n",
    "- <a href='#5'> 5 ) . What is the distribution for the trip duration in `minutes`? </a>\n",
    "- <a href='#6'> 6) . What is the distribution for `member_gender`? </a>\n",
    "- <a href='#7'> 7) . What is the distribution for the trip duration in `Hours`?  </a>\n",
    "\n",
    "\n",
    "\n",
    "\n",
    "##  <a href='#111'> Bivariate Exploration</a> \n",
    "\n",
    "\n",
    "- <a href='#8'> 8 ) . What the `average duration` of trip for the categories of `user type`? </a>\n",
    "- <a href='#9'> 9 ) . How long is the duration of the trip for `each gender` in `minutes`? </a>\n",
    "- <a href='#10'> 10 ) . How long is the duration of the trip for each `user_type` in `minutes`?  </a>\n",
    "- <a href='#11'> 11 ) . How the user distribution depending on their `Age` and `user_type` ?</a>\n",
    "- <a href='#12'>12 ). How the user distribution depending on their `Age` and `member_gender` ?  </a>\n",
    "\n",
    "\n",
    "##  <a href='#1111'> Multivariate Exploration</a> \n",
    "\n",
    "\n",
    "- <a href='#13'> 13 ) . What is the Correlation between `each` variable in the dataset?</a>  \n",
    "- <a href='#14'> 14 ) . What is the Correlation between `specific numeric variables` in the dataset?</a>  \n",
    "- <a href='#15'> 15 ) . What is the  Correlation between `data_stat` variables in the dataset?</a>  \n",
    "\n",
    "\n",
    "##  <a href='#1100'> Conclusions </a> \n",
    "\n",
    "\n",
    "\n"
   ]
  },
  {
   "cell_type": "markdown",
   "id": "f600ad88",
   "metadata": {
    "papermill": {
     "duration": 0.018288,
     "end_time": "2024-05-08T19:18:46.353867",
     "exception": false,
     "start_time": "2024-05-08T19:18:46.335579",
     "status": "completed"
    },
    "tags": []
   },
   "source": [
    "# <p style=\"border-radius:15px;border-style:solid;border-color:lightblue;border-width:3px;background-color:lightblue;padding: 20px;font-family:Verdana;color:#D81F26;font-size:30px;text-align: center;\">Import Libraries</p>"
   ]
  },
  {
   "cell_type": "code",
   "execution_count": 1,
   "id": "be25aff1",
   "metadata": {
    "execution": {
     "iopub.execute_input": "2024-05-08T19:18:46.395860Z",
     "iopub.status.busy": "2024-05-08T19:18:46.394969Z",
     "iopub.status.idle": "2024-05-08T19:18:47.624619Z",
     "shell.execute_reply": "2024-05-08T19:18:47.623289Z"
    },
    "papermill": {
     "duration": 1.255463,
     "end_time": "2024-05-08T19:18:47.627956",
     "exception": false,
     "start_time": "2024-05-08T19:18:46.372493",
     "status": "completed"
    },
    "tags": []
   },
   "outputs": [],
   "source": [
    "import numpy as np # linear algebra\n",
    "import pandas as pd # data processing, CSV file I/O (e.g. pd.read_csv)\n",
    "import os\n",
    "import matplotlib.pyplot as plt\n",
    "\n",
    "import seaborn as sb\n",
    "\n",
    "%matplotlib inline"
   ]
  },
  {
   "cell_type": "code",
   "execution_count": 2,
   "id": "ca12f426",
   "metadata": {
    "execution": {
     "iopub.execute_input": "2024-05-08T19:18:47.668552Z",
     "iopub.status.busy": "2024-05-08T19:18:47.667822Z",
     "iopub.status.idle": "2024-05-08T19:18:48.581464Z",
     "shell.execute_reply": "2024-05-08T19:18:48.580158Z"
    },
    "papermill": {
     "duration": 0.937184,
     "end_time": "2024-05-08T19:18:48.584608",
     "exception": false,
     "start_time": "2024-05-08T19:18:47.647424",
     "status": "completed"
    },
    "tags": []
   },
   "outputs": [],
   "source": [
    "df = pd.read_csv(\"D:/AMIT/Amit/DataScienceProject/fordgobike-tripdataFor201902.csv\")"
   ]
  },
  {
   "cell_type": "code",
   "execution_count": 3,
   "id": "77211578",
   "metadata": {
    "execution": {
     "iopub.execute_input": "2024-05-08T19:18:48.623710Z",
     "iopub.status.busy": "2024-05-08T19:18:48.623116Z",
     "iopub.status.idle": "2024-05-08T19:18:48.629135Z",
     "shell.execute_reply": "2024-05-08T19:18:48.627907Z"
    },
    "papermill": {
     "duration": 0.028342,
     "end_time": "2024-05-08T19:18:48.631603",
     "exception": false,
     "start_time": "2024-05-08T19:18:48.603261",
     "status": "completed"
    },
    "tags": []
   },
   "outputs": [
    {
     "name": "stdout",
     "output_type": "stream",
     "text": [
      "<class 'pandas.core.frame.DataFrame'>\n",
      "RangeIndex: 183416 entries, 0 to 183415\n",
      "Data columns (total 16 columns):\n",
      " #   Column                   Non-Null Count   Dtype  \n",
      "---  ------                   --------------   -----  \n",
      " 0   duration_sec             183416 non-null  int64  \n",
      " 1   start_time               183416 non-null  object \n",
      " 2   end_time                 183416 non-null  object \n",
      " 3   start_station_id         183219 non-null  float64\n",
      " 4   start_station_name       183219 non-null  object \n",
      " 5   start_station_latitude   183416 non-null  float64\n",
      " 6   start_station_longitude  183416 non-null  float64\n",
      " 7   end_station_id           183219 non-null  float64\n",
      " 8   end_station_name         183219 non-null  object \n",
      " 9   end_station_latitude     183416 non-null  float64\n",
      " 10  end_station_longitude    183416 non-null  float64\n",
      " 11  bike_id                  183416 non-null  int64  \n",
      " 12  user_type                183416 non-null  object \n",
      " 13  member_birth_year        175151 non-null  float64\n",
      " 14  member_gender            175151 non-null  object \n",
      " 15  bike_share_for_all_trip  183416 non-null  object \n",
      "dtypes: float64(7), int64(2), object(7)\n",
      "memory usage: 22.4+ MB\n"
     ]
    }
   ],
   "source": [
    "# here we make overview in high-level for data shape and composition\n",
    "df.info()\n"
   ]
  },
  {
   "cell_type": "code",
   "execution_count": 4,
   "id": "ba2001a7",
   "metadata": {
    "execution": {
     "iopub.execute_input": "2024-05-08T19:18:48.671066Z",
     "iopub.status.busy": "2024-05-08T19:18:48.670599Z",
     "iopub.status.idle": "2024-05-08T19:18:48.678028Z",
     "shell.execute_reply": "2024-05-08T19:18:48.676571Z"
    },
    "papermill": {
     "duration": 0.03103,
     "end_time": "2024-05-08T19:18:48.681691",
     "exception": false,
     "start_time": "2024-05-08T19:18:48.650661",
     "status": "completed"
    },
    "tags": []
   },
   "outputs": [
    {
     "data": {
      "text/html": [
       "<div>\n",
       "<style scoped>\n",
       "    .dataframe tbody tr th:only-of-type {\n",
       "        vertical-align: middle;\n",
       "    }\n",
       "\n",
       "    .dataframe tbody tr th {\n",
       "        vertical-align: top;\n",
       "    }\n",
       "\n",
       "    .dataframe thead th {\n",
       "        text-align: right;\n",
       "    }\n",
       "</style>\n",
       "<table border=\"1\" class=\"dataframe\">\n",
       "  <thead>\n",
       "    <tr style=\"text-align: right;\">\n",
       "      <th></th>\n",
       "      <th>duration_sec</th>\n",
       "      <th>start_time</th>\n",
       "      <th>end_time</th>\n",
       "      <th>start_station_id</th>\n",
       "      <th>start_station_name</th>\n",
       "      <th>start_station_latitude</th>\n",
       "      <th>start_station_longitude</th>\n",
       "      <th>end_station_id</th>\n",
       "      <th>end_station_name</th>\n",
       "      <th>end_station_latitude</th>\n",
       "      <th>end_station_longitude</th>\n",
       "      <th>bike_id</th>\n",
       "      <th>user_type</th>\n",
       "      <th>member_birth_year</th>\n",
       "      <th>member_gender</th>\n",
       "      <th>bike_share_for_all_trip</th>\n",
       "    </tr>\n",
       "  </thead>\n",
       "  <tbody>\n",
       "    <tr>\n",
       "      <th>DataType</th>\n",
       "      <td>int64</td>\n",
       "      <td>object</td>\n",
       "      <td>object</td>\n",
       "      <td>float64</td>\n",
       "      <td>object</td>\n",
       "      <td>float64</td>\n",
       "      <td>float64</td>\n",
       "      <td>float64</td>\n",
       "      <td>object</td>\n",
       "      <td>float64</td>\n",
       "      <td>float64</td>\n",
       "      <td>int64</td>\n",
       "      <td>object</td>\n",
       "      <td>float64</td>\n",
       "      <td>object</td>\n",
       "      <td>object</td>\n",
       "    </tr>\n",
       "    <tr>\n",
       "      <th>Number DataTypes</th>\n",
       "      <td>83685</td>\n",
       "      <td>83685</td>\n",
       "      <td>83685</td>\n",
       "      <td>83685</td>\n",
       "      <td>83685</td>\n",
       "      <td>83685</td>\n",
       "      <td>83685</td>\n",
       "      <td>83685</td>\n",
       "      <td>83685</td>\n",
       "      <td>83685</td>\n",
       "      <td>83685</td>\n",
       "      <td>83685</td>\n",
       "      <td>83685</td>\n",
       "      <td>83685</td>\n",
       "      <td>83685</td>\n",
       "      <td>83685</td>\n",
       "    </tr>\n",
       "  </tbody>\n",
       "</table>\n",
       "</div>"
      ],
      "text/plain": [
       "                 duration_sec start_time end_time start_station_id  \\\n",
       "DataType                int64     object   object          float64   \n",
       "Number DataTypes        83685      83685    83685            83685   \n",
       "\n",
       "                 start_station_name start_station_latitude  \\\n",
       "DataType                     object                float64   \n",
       "Number DataTypes              83685                  83685   \n",
       "\n",
       "                 start_station_longitude end_station_id end_station_name  \\\n",
       "DataType                         float64        float64           object   \n",
       "Number DataTypes                   83685          83685            83685   \n",
       "\n",
       "                 end_station_latitude end_station_longitude bike_id user_type  \\\n",
       "DataType                      float64               float64   int64    object   \n",
       "Number DataTypes                83685                 83685   83685     83685   \n",
       "\n",
       "                 member_birth_year member_gender bike_share_for_all_trip  \n",
       "DataType                   float64        object                  object  \n",
       "Number DataTypes             83685         83685                   83685  "
      ]
     },
     "execution_count": 4,
     "metadata": {},
     "output_type": "execute_result"
    }
   ],
   "source": [
    "## check each var  datatype \n",
    "dataTypes = df.dtypes\n",
    "numberDataTypes = df.nunique().sum()\n",
    "dataframe = pd.DataFrame({\"DataType\":dataTypes,\"Number DataTypes\":numberDataTypes}).T\n",
    "dataframe"
   ]
  },
  {
   "cell_type": "code",
   "execution_count": 5,
   "id": "7c3ef00c",
   "metadata": {},
   "outputs": [
    {
     "name": "stdout",
     "output_type": "stream",
     "text": [
      "['start_time', 'end_time', 'start_station_name', 'end_station_name', 'user_type', 'member_gender', 'bike_share_for_all_trip']\n"
     ]
    }
   ],
   "source": [
    "numuric_col = [\"duration_sec\",\"start_station_id\",\"start_station_latitude\",\"start_station_longitude\",\"end_station_id\",\"end_station_latitude\",\"end_station_longitude\",\"bike_id\",\"member_birth_year\",]\n",
    "cat_col = [] #List to convert to categorical datatype\n",
    "for list in df.columns:\n",
    "    if(list not in numuric_col):\n",
    "        cat_col.append(list)\n",
    "print(cat_col)"
   ]
  },
  {
   "cell_type": "code",
   "execution_count": 6,
   "id": "de903a61",
   "metadata": {},
   "outputs": [
    {
     "data": {
      "text/html": [
       "<div>\n",
       "<style scoped>\n",
       "    .dataframe tbody tr th:only-of-type {\n",
       "        vertical-align: middle;\n",
       "    }\n",
       "\n",
       "    .dataframe tbody tr th {\n",
       "        vertical-align: top;\n",
       "    }\n",
       "\n",
       "    .dataframe thead th {\n",
       "        text-align: right;\n",
       "    }\n",
       "</style>\n",
       "<table border=\"1\" class=\"dataframe\">\n",
       "  <thead>\n",
       "    <tr style=\"text-align: right;\">\n",
       "      <th></th>\n",
       "      <th>duration_sec</th>\n",
       "      <th>start_time</th>\n",
       "      <th>end_time</th>\n",
       "      <th>start_station_id</th>\n",
       "      <th>start_station_name</th>\n",
       "      <th>start_station_latitude</th>\n",
       "      <th>start_station_longitude</th>\n",
       "      <th>end_station_id</th>\n",
       "      <th>end_station_name</th>\n",
       "      <th>end_station_latitude</th>\n",
       "      <th>end_station_longitude</th>\n",
       "      <th>bike_id</th>\n",
       "      <th>user_type</th>\n",
       "      <th>member_birth_year</th>\n",
       "      <th>member_gender</th>\n",
       "      <th>bike_share_for_all_trip</th>\n",
       "    </tr>\n",
       "  </thead>\n",
       "  <tbody>\n",
       "    <tr>\n",
       "      <th>DataType</th>\n",
       "      <td>int64</td>\n",
       "      <td>category</td>\n",
       "      <td>category</td>\n",
       "      <td>float64</td>\n",
       "      <td>category</td>\n",
       "      <td>float64</td>\n",
       "      <td>float64</td>\n",
       "      <td>float64</td>\n",
       "      <td>category</td>\n",
       "      <td>float64</td>\n",
       "      <td>float64</td>\n",
       "      <td>int64</td>\n",
       "      <td>category</td>\n",
       "      <td>float64</td>\n",
       "      <td>category</td>\n",
       "      <td>category</td>\n",
       "    </tr>\n",
       "    <tr>\n",
       "      <th>Number DataTypes</th>\n",
       "      <td>83685</td>\n",
       "      <td>83685</td>\n",
       "      <td>83685</td>\n",
       "      <td>83685</td>\n",
       "      <td>83685</td>\n",
       "      <td>83685</td>\n",
       "      <td>83685</td>\n",
       "      <td>83685</td>\n",
       "      <td>83685</td>\n",
       "      <td>83685</td>\n",
       "      <td>83685</td>\n",
       "      <td>83685</td>\n",
       "      <td>83685</td>\n",
       "      <td>83685</td>\n",
       "      <td>83685</td>\n",
       "      <td>83685</td>\n",
       "    </tr>\n",
       "  </tbody>\n",
       "</table>\n",
       "</div>"
      ],
      "text/plain": [
       "                 duration_sec start_time  end_time start_station_id  \\\n",
       "DataType                int64   category  category          float64   \n",
       "Number DataTypes        83685      83685     83685            83685   \n",
       "\n",
       "                 start_station_name start_station_latitude  \\\n",
       "DataType                   category                float64   \n",
       "Number DataTypes              83685                  83685   \n",
       "\n",
       "                 start_station_longitude end_station_id end_station_name  \\\n",
       "DataType                         float64        float64         category   \n",
       "Number DataTypes                   83685          83685            83685   \n",
       "\n",
       "                 end_station_latitude end_station_longitude bike_id user_type  \\\n",
       "DataType                      float64               float64   int64  category   \n",
       "Number DataTypes                83685                 83685   83685     83685   \n",
       "\n",
       "                 member_birth_year member_gender bike_share_for_all_trip  \n",
       "DataType                   float64      category                category  \n",
       "Number DataTypes             83685         83685                   83685  "
      ]
     },
     "execution_count": 6,
     "metadata": {},
     "output_type": "execute_result"
    }
   ],
   "source": [
    "#Converting non numeric columns to  categorical\n",
    "df[cat_col] = df[cat_col].astype(\"category\")\n",
    "                                                #df['start_time'] = pd.to_numeric(df['start_time'], errors='coerce')\n",
    "                                                #df['end_time'] = pd.to_numeric(df['end_time'], errors='coerce')\n",
    "'''\n",
    "Next step will be checking datatypes again\n",
    "to assure that the conversion went right\n",
    "'''\n",
    "dataTypes = df.dtypes\n",
    "numberDataTypes = df.nunique().sum()\n",
    "dataframe = pd.DataFrame({\"DataType\":dataTypes,\"Number DataTypes\":numberDataTypes}).T\n",
    "dataframe"
   ]
  },
  {
   "cell_type": "code",
   "execution_count": 7,
   "id": "10407f10",
   "metadata": {
    "execution": {
     "iopub.execute_input": "2024-05-08T19:18:48.722892Z",
     "iopub.status.busy": "2024-05-08T19:18:48.722449Z",
     "iopub.status.idle": "2024-05-08T19:18:48.743090Z",
     "shell.execute_reply": "2024-05-08T19:18:48.741887Z"
    },
    "papermill": {
     "duration": 0.044069,
     "end_time": "2024-05-08T19:18:48.745705",
     "exception": false,
     "start_time": "2024-05-08T19:18:48.701636",
     "status": "completed"
    },
    "tags": []
   },
   "outputs": [
    {
     "data": {
      "text/html": [
       "<div>\n",
       "<style scoped>\n",
       "    .dataframe tbody tr th:only-of-type {\n",
       "        vertical-align: middle;\n",
       "    }\n",
       "\n",
       "    .dataframe tbody tr th {\n",
       "        vertical-align: top;\n",
       "    }\n",
       "\n",
       "    .dataframe thead th {\n",
       "        text-align: right;\n",
       "    }\n",
       "</style>\n",
       "<table border=\"1\" class=\"dataframe\">\n",
       "  <thead>\n",
       "    <tr style=\"text-align: right;\">\n",
       "      <th></th>\n",
       "      <th>duration_sec</th>\n",
       "      <th>start_time</th>\n",
       "      <th>end_time</th>\n",
       "      <th>start_station_id</th>\n",
       "      <th>start_station_name</th>\n",
       "      <th>start_station_latitude</th>\n",
       "      <th>start_station_longitude</th>\n",
       "      <th>end_station_id</th>\n",
       "      <th>end_station_name</th>\n",
       "      <th>end_station_latitude</th>\n",
       "      <th>end_station_longitude</th>\n",
       "      <th>bike_id</th>\n",
       "      <th>user_type</th>\n",
       "      <th>member_birth_year</th>\n",
       "      <th>member_gender</th>\n",
       "      <th>bike_share_for_all_trip</th>\n",
       "    </tr>\n",
       "  </thead>\n",
       "  <tbody>\n",
       "    <tr>\n",
       "      <th>0</th>\n",
       "      <td>52185</td>\n",
       "      <td>32:10.1</td>\n",
       "      <td>01:56.0</td>\n",
       "      <td>21.0</td>\n",
       "      <td>Montgomery St BART Station (Market St at 2nd St)</td>\n",
       "      <td>37.789625</td>\n",
       "      <td>-122.400811</td>\n",
       "      <td>13.0</td>\n",
       "      <td>Commercial St at Montgomery St</td>\n",
       "      <td>37.794231</td>\n",
       "      <td>-122.402923</td>\n",
       "      <td>4902</td>\n",
       "      <td>Customer</td>\n",
       "      <td>1984.0</td>\n",
       "      <td>Male</td>\n",
       "      <td>No</td>\n",
       "    </tr>\n",
       "    <tr>\n",
       "      <th>1</th>\n",
       "      <td>42521</td>\n",
       "      <td>53:21.8</td>\n",
       "      <td>42:03.1</td>\n",
       "      <td>23.0</td>\n",
       "      <td>The Embarcadero at Steuart St</td>\n",
       "      <td>37.791464</td>\n",
       "      <td>-122.391034</td>\n",
       "      <td>81.0</td>\n",
       "      <td>Berry St at 4th St</td>\n",
       "      <td>37.775880</td>\n",
       "      <td>-122.393170</td>\n",
       "      <td>2535</td>\n",
       "      <td>Customer</td>\n",
       "      <td>NaN</td>\n",
       "      <td>NaN</td>\n",
       "      <td>No</td>\n",
       "    </tr>\n",
       "    <tr>\n",
       "      <th>2</th>\n",
       "      <td>61854</td>\n",
       "      <td>13:13.2</td>\n",
       "      <td>24:08.1</td>\n",
       "      <td>86.0</td>\n",
       "      <td>Market St at Dolores St</td>\n",
       "      <td>37.769305</td>\n",
       "      <td>-122.426826</td>\n",
       "      <td>3.0</td>\n",
       "      <td>Powell St BART Station (Market St at 4th St)</td>\n",
       "      <td>37.786375</td>\n",
       "      <td>-122.404904</td>\n",
       "      <td>5905</td>\n",
       "      <td>Customer</td>\n",
       "      <td>1972.0</td>\n",
       "      <td>Male</td>\n",
       "      <td>No</td>\n",
       "    </tr>\n",
       "    <tr>\n",
       "      <th>3</th>\n",
       "      <td>36490</td>\n",
       "      <td>54:26.0</td>\n",
       "      <td>02:36.8</td>\n",
       "      <td>375.0</td>\n",
       "      <td>Grove St at Masonic Ave</td>\n",
       "      <td>37.774836</td>\n",
       "      <td>-122.446546</td>\n",
       "      <td>70.0</td>\n",
       "      <td>Central Ave at Fell St</td>\n",
       "      <td>37.773311</td>\n",
       "      <td>-122.444293</td>\n",
       "      <td>6638</td>\n",
       "      <td>Subscriber</td>\n",
       "      <td>1989.0</td>\n",
       "      <td>Other</td>\n",
       "      <td>No</td>\n",
       "    </tr>\n",
       "    <tr>\n",
       "      <th>4</th>\n",
       "      <td>1585</td>\n",
       "      <td>54:18.5</td>\n",
       "      <td>20:44.1</td>\n",
       "      <td>7.0</td>\n",
       "      <td>Frank H Ogawa Plaza</td>\n",
       "      <td>37.804562</td>\n",
       "      <td>-122.271738</td>\n",
       "      <td>222.0</td>\n",
       "      <td>10th Ave at E 15th St</td>\n",
       "      <td>37.792714</td>\n",
       "      <td>-122.248780</td>\n",
       "      <td>4898</td>\n",
       "      <td>Subscriber</td>\n",
       "      <td>1974.0</td>\n",
       "      <td>Male</td>\n",
       "      <td>Yes</td>\n",
       "    </tr>\n",
       "    <tr>\n",
       "      <th>5</th>\n",
       "      <td>1793</td>\n",
       "      <td>49:58.6</td>\n",
       "      <td>19:51.8</td>\n",
       "      <td>93.0</td>\n",
       "      <td>4th St at Mission Bay Blvd S</td>\n",
       "      <td>37.770407</td>\n",
       "      <td>-122.391198</td>\n",
       "      <td>323.0</td>\n",
       "      <td>Broadway at Kearny</td>\n",
       "      <td>37.798014</td>\n",
       "      <td>-122.405950</td>\n",
       "      <td>5200</td>\n",
       "      <td>Subscriber</td>\n",
       "      <td>1959.0</td>\n",
       "      <td>Male</td>\n",
       "      <td>No</td>\n",
       "    </tr>\n",
       "    <tr>\n",
       "      <th>6</th>\n",
       "      <td>1147</td>\n",
       "      <td>55:35.1</td>\n",
       "      <td>14:42.6</td>\n",
       "      <td>300.0</td>\n",
       "      <td>Palm St at Willow St</td>\n",
       "      <td>37.317298</td>\n",
       "      <td>-121.884995</td>\n",
       "      <td>312.0</td>\n",
       "      <td>San Jose Diridon Station</td>\n",
       "      <td>37.329732</td>\n",
       "      <td>-121.901782</td>\n",
       "      <td>3803</td>\n",
       "      <td>Subscriber</td>\n",
       "      <td>1983.0</td>\n",
       "      <td>Female</td>\n",
       "      <td>No</td>\n",
       "    </tr>\n",
       "    <tr>\n",
       "      <th>7</th>\n",
       "      <td>1615</td>\n",
       "      <td>41:06.8</td>\n",
       "      <td>08:02.8</td>\n",
       "      <td>10.0</td>\n",
       "      <td>Washington St at Kearny St</td>\n",
       "      <td>37.795393</td>\n",
       "      <td>-122.404770</td>\n",
       "      <td>127.0</td>\n",
       "      <td>Valencia St at 21st St</td>\n",
       "      <td>37.756708</td>\n",
       "      <td>-122.421025</td>\n",
       "      <td>6329</td>\n",
       "      <td>Subscriber</td>\n",
       "      <td>1989.0</td>\n",
       "      <td>Male</td>\n",
       "      <td>No</td>\n",
       "    </tr>\n",
       "    <tr>\n",
       "      <th>8</th>\n",
       "      <td>1570</td>\n",
       "      <td>41:48.8</td>\n",
       "      <td>07:59.7</td>\n",
       "      <td>10.0</td>\n",
       "      <td>Washington St at Kearny St</td>\n",
       "      <td>37.795393</td>\n",
       "      <td>-122.404770</td>\n",
       "      <td>127.0</td>\n",
       "      <td>Valencia St at 21st St</td>\n",
       "      <td>37.756708</td>\n",
       "      <td>-122.421025</td>\n",
       "      <td>6548</td>\n",
       "      <td>Subscriber</td>\n",
       "      <td>1988.0</td>\n",
       "      <td>Other</td>\n",
       "      <td>No</td>\n",
       "    </tr>\n",
       "    <tr>\n",
       "      <th>9</th>\n",
       "      <td>1049</td>\n",
       "      <td>49:47.7</td>\n",
       "      <td>07:17.0</td>\n",
       "      <td>19.0</td>\n",
       "      <td>Post St at Kearny St</td>\n",
       "      <td>37.788975</td>\n",
       "      <td>-122.403452</td>\n",
       "      <td>121.0</td>\n",
       "      <td>Mission Playground</td>\n",
       "      <td>37.759210</td>\n",
       "      <td>-122.421339</td>\n",
       "      <td>6488</td>\n",
       "      <td>Subscriber</td>\n",
       "      <td>1992.0</td>\n",
       "      <td>Male</td>\n",
       "      <td>No</td>\n",
       "    </tr>\n",
       "    <tr>\n",
       "      <th>10</th>\n",
       "      <td>458</td>\n",
       "      <td>57:57.2</td>\n",
       "      <td>05:35.4</td>\n",
       "      <td>370.0</td>\n",
       "      <td>Jones St at Post St</td>\n",
       "      <td>37.787327</td>\n",
       "      <td>-122.413278</td>\n",
       "      <td>43.0</td>\n",
       "      <td>San Francisco Public Library (Grove St at Hyde...</td>\n",
       "      <td>37.778768</td>\n",
       "      <td>-122.415929</td>\n",
       "      <td>5318</td>\n",
       "      <td>Subscriber</td>\n",
       "      <td>1996.0</td>\n",
       "      <td>Female</td>\n",
       "      <td>Yes</td>\n",
       "    </tr>\n",
       "    <tr>\n",
       "      <th>11</th>\n",
       "      <td>506</td>\n",
       "      <td>56:55.5</td>\n",
       "      <td>05:21.7</td>\n",
       "      <td>44.0</td>\n",
       "      <td>Civic Center/UN Plaza BART Station (Market St ...</td>\n",
       "      <td>37.781074</td>\n",
       "      <td>-122.411738</td>\n",
       "      <td>343.0</td>\n",
       "      <td>Bryant St at 2nd St</td>\n",
       "      <td>37.783172</td>\n",
       "      <td>-122.393572</td>\n",
       "      <td>5848</td>\n",
       "      <td>Subscriber</td>\n",
       "      <td>1993.0</td>\n",
       "      <td>Male</td>\n",
       "      <td>No</td>\n",
       "    </tr>\n",
       "    <tr>\n",
       "      <th>12</th>\n",
       "      <td>1176</td>\n",
       "      <td>45:12.7</td>\n",
       "      <td>04:49.2</td>\n",
       "      <td>127.0</td>\n",
       "      <td>Valencia St at 21st St</td>\n",
       "      <td>37.756708</td>\n",
       "      <td>-122.421025</td>\n",
       "      <td>323.0</td>\n",
       "      <td>Broadway at Kearny</td>\n",
       "      <td>37.798014</td>\n",
       "      <td>-122.405950</td>\n",
       "      <td>5328</td>\n",
       "      <td>Customer</td>\n",
       "      <td>1990.0</td>\n",
       "      <td>Male</td>\n",
       "      <td>No</td>\n",
       "    </tr>\n",
       "    <tr>\n",
       "      <th>13</th>\n",
       "      <td>915</td>\n",
       "      <td>49:06.1</td>\n",
       "      <td>04:21.9</td>\n",
       "      <td>252.0</td>\n",
       "      <td>Channing Way at Shattuck Ave</td>\n",
       "      <td>37.865847</td>\n",
       "      <td>-122.267443</td>\n",
       "      <td>244.0</td>\n",
       "      <td>Shattuck Ave at Hearst Ave</td>\n",
       "      <td>37.873676</td>\n",
       "      <td>-122.268487</td>\n",
       "      <td>5101</td>\n",
       "      <td>Subscriber</td>\n",
       "      <td>NaN</td>\n",
       "      <td>NaN</td>\n",
       "      <td>No</td>\n",
       "    </tr>\n",
       "    <tr>\n",
       "      <th>14</th>\n",
       "      <td>395</td>\n",
       "      <td>56:26.8</td>\n",
       "      <td>03:01.9</td>\n",
       "      <td>243.0</td>\n",
       "      <td>Bancroft Way at College Ave</td>\n",
       "      <td>37.869360</td>\n",
       "      <td>-122.254337</td>\n",
       "      <td>252.0</td>\n",
       "      <td>Channing Way at Shattuck Ave</td>\n",
       "      <td>37.865847</td>\n",
       "      <td>-122.267443</td>\n",
       "      <td>4786</td>\n",
       "      <td>Subscriber</td>\n",
       "      <td>1988.0</td>\n",
       "      <td>Male</td>\n",
       "      <td>No</td>\n",
       "    </tr>\n",
       "  </tbody>\n",
       "</table>\n",
       "</div>"
      ],
      "text/plain": [
       "    duration_sec start_time end_time  start_station_id  \\\n",
       "0          52185    32:10.1  01:56.0              21.0   \n",
       "1          42521    53:21.8  42:03.1              23.0   \n",
       "2          61854    13:13.2  24:08.1              86.0   \n",
       "3          36490    54:26.0  02:36.8             375.0   \n",
       "4           1585    54:18.5  20:44.1               7.0   \n",
       "5           1793    49:58.6  19:51.8              93.0   \n",
       "6           1147    55:35.1  14:42.6             300.0   \n",
       "7           1615    41:06.8  08:02.8              10.0   \n",
       "8           1570    41:48.8  07:59.7              10.0   \n",
       "9           1049    49:47.7  07:17.0              19.0   \n",
       "10           458    57:57.2  05:35.4             370.0   \n",
       "11           506    56:55.5  05:21.7              44.0   \n",
       "12          1176    45:12.7  04:49.2             127.0   \n",
       "13           915    49:06.1  04:21.9             252.0   \n",
       "14           395    56:26.8  03:01.9             243.0   \n",
       "\n",
       "                                   start_station_name  start_station_latitude  \\\n",
       "0    Montgomery St BART Station (Market St at 2nd St)               37.789625   \n",
       "1                       The Embarcadero at Steuart St               37.791464   \n",
       "2                             Market St at Dolores St               37.769305   \n",
       "3                             Grove St at Masonic Ave               37.774836   \n",
       "4                                 Frank H Ogawa Plaza               37.804562   \n",
       "5                        4th St at Mission Bay Blvd S               37.770407   \n",
       "6                                Palm St at Willow St               37.317298   \n",
       "7                          Washington St at Kearny St               37.795393   \n",
       "8                          Washington St at Kearny St               37.795393   \n",
       "9                                Post St at Kearny St               37.788975   \n",
       "10                                Jones St at Post St               37.787327   \n",
       "11  Civic Center/UN Plaza BART Station (Market St ...               37.781074   \n",
       "12                             Valencia St at 21st St               37.756708   \n",
       "13                       Channing Way at Shattuck Ave               37.865847   \n",
       "14                        Bancroft Way at College Ave               37.869360   \n",
       "\n",
       "    start_station_longitude  end_station_id  \\\n",
       "0               -122.400811            13.0   \n",
       "1               -122.391034            81.0   \n",
       "2               -122.426826             3.0   \n",
       "3               -122.446546            70.0   \n",
       "4               -122.271738           222.0   \n",
       "5               -122.391198           323.0   \n",
       "6               -121.884995           312.0   \n",
       "7               -122.404770           127.0   \n",
       "8               -122.404770           127.0   \n",
       "9               -122.403452           121.0   \n",
       "10              -122.413278            43.0   \n",
       "11              -122.411738           343.0   \n",
       "12              -122.421025           323.0   \n",
       "13              -122.267443           244.0   \n",
       "14              -122.254337           252.0   \n",
       "\n",
       "                                     end_station_name  end_station_latitude  \\\n",
       "0                      Commercial St at Montgomery St             37.794231   \n",
       "1                                  Berry St at 4th St             37.775880   \n",
       "2        Powell St BART Station (Market St at 4th St)             37.786375   \n",
       "3                              Central Ave at Fell St             37.773311   \n",
       "4                               10th Ave at E 15th St             37.792714   \n",
       "5                                  Broadway at Kearny             37.798014   \n",
       "6                            San Jose Diridon Station             37.329732   \n",
       "7                              Valencia St at 21st St             37.756708   \n",
       "8                              Valencia St at 21st St             37.756708   \n",
       "9                                  Mission Playground             37.759210   \n",
       "10  San Francisco Public Library (Grove St at Hyde...             37.778768   \n",
       "11                                Bryant St at 2nd St             37.783172   \n",
       "12                                 Broadway at Kearny             37.798014   \n",
       "13                         Shattuck Ave at Hearst Ave             37.873676   \n",
       "14                       Channing Way at Shattuck Ave             37.865847   \n",
       "\n",
       "    end_station_longitude  bike_id   user_type  member_birth_year  \\\n",
       "0             -122.402923     4902    Customer             1984.0   \n",
       "1             -122.393170     2535    Customer                NaN   \n",
       "2             -122.404904     5905    Customer             1972.0   \n",
       "3             -122.444293     6638  Subscriber             1989.0   \n",
       "4             -122.248780     4898  Subscriber             1974.0   \n",
       "5             -122.405950     5200  Subscriber             1959.0   \n",
       "6             -121.901782     3803  Subscriber             1983.0   \n",
       "7             -122.421025     6329  Subscriber             1989.0   \n",
       "8             -122.421025     6548  Subscriber             1988.0   \n",
       "9             -122.421339     6488  Subscriber             1992.0   \n",
       "10            -122.415929     5318  Subscriber             1996.0   \n",
       "11            -122.393572     5848  Subscriber             1993.0   \n",
       "12            -122.405950     5328    Customer             1990.0   \n",
       "13            -122.268487     5101  Subscriber                NaN   \n",
       "14            -122.267443     4786  Subscriber             1988.0   \n",
       "\n",
       "   member_gender bike_share_for_all_trip  \n",
       "0           Male                      No  \n",
       "1            NaN                      No  \n",
       "2           Male                      No  \n",
       "3          Other                      No  \n",
       "4           Male                     Yes  \n",
       "5           Male                      No  \n",
       "6         Female                      No  \n",
       "7           Male                      No  \n",
       "8          Other                      No  \n",
       "9           Male                      No  \n",
       "10        Female                     Yes  \n",
       "11          Male                      No  \n",
       "12          Male                      No  \n",
       "13           NaN                      No  \n",
       "14          Male                      No  "
      ]
     },
     "execution_count": 7,
     "metadata": {},
     "output_type": "execute_result"
    }
   ],
   "source": [
    "## I display 15 rows to understand the content values more \n",
    "df.head(15)\n"
   ]
  },
  {
   "cell_type": "code",
   "execution_count": 8,
   "id": "2ea7b86a",
   "metadata": {
    "execution": {
     "iopub.execute_input": "2024-05-08T19:18:48.785984Z",
     "iopub.status.busy": "2024-05-08T19:18:48.785173Z",
     "iopub.status.idle": "2024-05-08T19:18:48.917818Z",
     "shell.execute_reply": "2024-05-08T19:18:48.916122Z"
    },
    "papermill": {
     "duration": 0.156422,
     "end_time": "2024-05-08T19:18:48.920941",
     "exception": false,
     "start_time": "2024-05-08T19:18:48.764519",
     "status": "completed"
    },
    "tags": []
   },
   "outputs": [
    {
     "data": {
      "text/plain": [
       "(183416, 16)"
      ]
     },
     "execution_count": 8,
     "metadata": {},
     "output_type": "execute_result"
    }
   ],
   "source": [
    "# descriptive statistics for numeric variables\n",
    "df[numuric_col].describe()\n",
    "df.shape"
   ]
  },
  {
   "cell_type": "code",
   "execution_count": 9,
   "id": "620e95a3",
   "metadata": {},
   "outputs": [
    {
     "data": {
      "text/plain": [
       "duration_sec                  0\n",
       "start_station_id            197\n",
       "start_station_latitude        0\n",
       "start_station_longitude       0\n",
       "end_station_id              197\n",
       "end_station_latitude          0\n",
       "end_station_longitude         0\n",
       "bike_id                       0\n",
       "member_birth_year          8265\n",
       "dtype: int64"
      ]
     },
     "execution_count": 9,
     "metadata": {},
     "output_type": "execute_result"
    }
   ],
   "source": [
    "df[numuric_col].isnull().sum()"
   ]
  },
  {
   "cell_type": "code",
   "execution_count": 10,
   "id": "4d143218",
   "metadata": {},
   "outputs": [
    {
     "data": {
      "text/plain": [
       "0         False\n",
       "1         False\n",
       "2         False\n",
       "3         False\n",
       "4         False\n",
       "          ...  \n",
       "183411    False\n",
       "183412     True\n",
       "183413     True\n",
       "183414     True\n",
       "183415     True\n",
       "Length: 183416, dtype: bool"
      ]
     },
     "execution_count": 10,
     "metadata": {},
     "output_type": "execute_result"
    }
   ],
   "source": [
    "dublicateditems = df[numuric_col].duplicated()\n",
    "dublicateditems"
   ]
  },
  {
   "cell_type": "markdown",
   "id": "4eae9eea",
   "metadata": {
    "execution": {
     "iopub.execute_input": "2022-07-09T14:43:28.843544Z",
     "iopub.status.busy": "2022-07-09T14:43:28.843133Z",
     "iopub.status.idle": "2022-07-09T14:43:29.410168Z",
     "shell.execute_reply": "2022-07-09T14:43:29.409279Z",
     "shell.execute_reply.started": "2022-07-09T14:43:28.84351Z"
    },
    "papermill": {
     "duration": 0.01949,
     "end_time": "2024-05-08T19:18:48.959466",
     "exception": false,
     "start_time": "2024-05-08T19:18:48.939976",
     "status": "completed"
    },
    "tags": []
   },
   "source": [
    "\n",
    "\n",
    "> ### What is the structure of your dataset?\n",
    "\n",
    "\n",
    "\n",
    "\n",
    "\n",
    "- The structure of the dataset contains  16 columns and 183416 rows.\n",
    " \n",
    " \n",
    "- Most variables are Numeric in nature , and here are **dtypes summary :**\n",
    "\n",
    "        - category(7)\n",
    "        - float64 (8)\n",
    "        - int64   (1)\n",
    "        \n",
    "\n",
    "\n",
    "\n",
    "> ### What are the main interesting features in the dataset?\n",
    "  duration_sec\n",
    "\n",
    "\n",
    "\n",
    " **We got three main feature areas which are :**\n",
    " \n",
    " \n",
    " \n",
    " \n",
    "- duration_sec\n",
    " \n",
    " \n",
    " \n",
    "- member_birth_year\n",
    " \n",
    "  \n",
    " \n",
    "  \n",
    "- member_gender\n",
    "\n",
    "\n",
    "\n",
    "\n",
    "> ### What features in the dataset supported my investigation for these interesting features?\n",
    "\n",
    "\n",
    "\n",
    "- member_gender\n",
    "\n",
    "\n",
    "\n",
    "- member_birth_year\n",
    "\n",
    "\n",
    "\n",
    "- start_station_longitude\n",
    "\n",
    "\n",
    "\n",
    "- start_station_latitude\n",
    "\n",
    "\n",
    "\n",
    "\n",
    "- end_station_longitude\n",
    "\n",
    "\n",
    "\n",
    "\n",
    "-end_station_latitude\n",
    "\n",
    "\n"
   ]
  },
  {
   "cell_type": "markdown",
   "id": "c2f86aee",
   "metadata": {
    "execution": {
     "iopub.execute_input": "2022-07-30T03:19:48.371337Z",
     "iopub.status.busy": "2022-07-30T03:19:48.370908Z",
     "iopub.status.idle": "2022-07-30T03:19:48.376456Z",
     "shell.execute_reply": "2022-07-30T03:19:48.375263Z",
     "shell.execute_reply.started": "2022-07-30T03:19:48.371292Z"
    },
    "papermill": {
     "duration": 0.018643,
     "end_time": "2024-05-08T19:18:48.997310",
     "exception": false,
     "start_time": "2024-05-08T19:18:48.978667",
     "status": "completed"
    },
    "tags": []
   },
   "source": [
    "##  More Exploring ideas to begin my investigation"
   ]
  },
  {
   "cell_type": "code",
   "execution_count": 11,
   "id": "67439e25",
   "metadata": {
    "execution": {
     "iopub.execute_input": "2024-05-08T19:18:49.038282Z",
     "iopub.status.busy": "2024-05-08T19:18:49.037800Z",
     "iopub.status.idle": "2024-05-08T19:18:49.168949Z",
     "shell.execute_reply": "2024-05-08T19:18:49.167261Z"
    },
    "papermill": {
     "duration": 0.155189,
     "end_time": "2024-05-08T19:18:49.172375",
     "exception": false,
     "start_time": "2024-05-08T19:18:49.017186",
     "status": "completed"
    },
    "tags": []
   },
   "outputs": [
    {
     "data": {
      "text/plain": [
       "'\\ngetting two points from longtiude and latitude an (x , y) point represent Start Point\\nand another point represent the end point. where we can get and add the displacement column\\nwhich can be used as a feature for expecting the duration time next to member gender.\\n'"
      ]
     },
     "execution_count": 11,
     "metadata": {},
     "output_type": "execute_result"
    }
   ],
   "source": [
    "#This code for describing statistical data ideas in a more organized and readable table\n",
    "'''\n",
    "getting two points from longtiude and latitude an (x , y) point represent Start Point\n",
    "and another point represent the end point. where we can get and add the displacement column\n",
    "which can be used as a feature for expecting the duration time next to member gender.\n",
    "'''\n",
    "\n"
   ]
  },
  {
   "cell_type": "code",
   "execution_count": 12,
   "id": "1c1776a1",
   "metadata": {
    "execution": {
     "iopub.execute_input": "2024-05-08T19:18:49.221830Z",
     "iopub.status.busy": "2024-05-08T19:18:49.221408Z",
     "iopub.status.idle": "2024-05-08T19:18:49.311952Z",
     "shell.execute_reply": "2024-05-08T19:18:49.309888Z"
    },
    "papermill": {
     "duration": 0.115831,
     "end_time": "2024-05-08T19:18:49.315083",
     "exception": false,
     "start_time": "2024-05-08T19:18:49.199252",
     "status": "completed"
    },
    "tags": []
   },
   "outputs": [
    {
     "data": {
      "text/html": [
       "<div>\n",
       "<style scoped>\n",
       "    .dataframe tbody tr th:only-of-type {\n",
       "        vertical-align: middle;\n",
       "    }\n",
       "\n",
       "    .dataframe tbody tr th {\n",
       "        vertical-align: top;\n",
       "    }\n",
       "\n",
       "    .dataframe thead th {\n",
       "        text-align: right;\n",
       "    }\n",
       "</style>\n",
       "<table border=\"1\" class=\"dataframe\">\n",
       "  <thead>\n",
       "    <tr style=\"text-align: right;\">\n",
       "      <th></th>\n",
       "      <th>duration_sec</th>\n",
       "      <th>start_time</th>\n",
       "      <th>end_time</th>\n",
       "      <th>start_station_id</th>\n",
       "      <th>start_station_name</th>\n",
       "      <th>start_station_latitude</th>\n",
       "      <th>start_station_longitude</th>\n",
       "      <th>end_station_id</th>\n",
       "      <th>end_station_name</th>\n",
       "      <th>end_station_latitude</th>\n",
       "      <th>end_station_longitude</th>\n",
       "      <th>bike_id</th>\n",
       "      <th>user_type</th>\n",
       "      <th>member_birth_year</th>\n",
       "      <th>member_gender</th>\n",
       "      <th>bike_share_for_all_trip</th>\n",
       "    </tr>\n",
       "  </thead>\n",
       "  <tbody>\n",
       "    <tr>\n",
       "      <th>DataType</th>\n",
       "      <td>int64</td>\n",
       "      <td>category</td>\n",
       "      <td>category</td>\n",
       "      <td>float64</td>\n",
       "      <td>category</td>\n",
       "      <td>float64</td>\n",
       "      <td>float64</td>\n",
       "      <td>float64</td>\n",
       "      <td>category</td>\n",
       "      <td>float64</td>\n",
       "      <td>float64</td>\n",
       "      <td>int64</td>\n",
       "      <td>category</td>\n",
       "      <td>float64</td>\n",
       "      <td>category</td>\n",
       "      <td>category</td>\n",
       "    </tr>\n",
       "    <tr>\n",
       "      <th>Number DataTypes</th>\n",
       "      <td>83685</td>\n",
       "      <td>83685</td>\n",
       "      <td>83685</td>\n",
       "      <td>83685</td>\n",
       "      <td>83685</td>\n",
       "      <td>83685</td>\n",
       "      <td>83685</td>\n",
       "      <td>83685</td>\n",
       "      <td>83685</td>\n",
       "      <td>83685</td>\n",
       "      <td>83685</td>\n",
       "      <td>83685</td>\n",
       "      <td>83685</td>\n",
       "      <td>83685</td>\n",
       "      <td>83685</td>\n",
       "      <td>83685</td>\n",
       "    </tr>\n",
       "    <tr>\n",
       "      <th>Null values</th>\n",
       "      <td>0</td>\n",
       "      <td>0</td>\n",
       "      <td>0</td>\n",
       "      <td>197</td>\n",
       "      <td>197</td>\n",
       "      <td>0</td>\n",
       "      <td>0</td>\n",
       "      <td>197</td>\n",
       "      <td>197</td>\n",
       "      <td>0</td>\n",
       "      <td>0</td>\n",
       "      <td>0</td>\n",
       "      <td>0</td>\n",
       "      <td>8265</td>\n",
       "      <td>8265</td>\n",
       "      <td>0</td>\n",
       "    </tr>\n",
       "    <tr>\n",
       "      <th>Duplicated</th>\n",
       "      <td>4</td>\n",
       "      <td>4</td>\n",
       "      <td>4</td>\n",
       "      <td>4</td>\n",
       "      <td>4</td>\n",
       "      <td>4</td>\n",
       "      <td>4</td>\n",
       "      <td>4</td>\n",
       "      <td>4</td>\n",
       "      <td>4</td>\n",
       "      <td>4</td>\n",
       "      <td>4</td>\n",
       "      <td>4</td>\n",
       "      <td>4</td>\n",
       "      <td>4</td>\n",
       "      <td>4</td>\n",
       "    </tr>\n",
       "  </tbody>\n",
       "</table>\n",
       "</div>"
      ],
      "text/plain": [
       "                 duration_sec start_time  end_time start_station_id  \\\n",
       "DataType                int64   category  category          float64   \n",
       "Number DataTypes        83685      83685     83685            83685   \n",
       "Null values                 0          0         0              197   \n",
       "Duplicated                  4          4         4                4   \n",
       "\n",
       "                 start_station_name start_station_latitude  \\\n",
       "DataType                   category                float64   \n",
       "Number DataTypes              83685                  83685   \n",
       "Null values                     197                      0   \n",
       "Duplicated                        4                      4   \n",
       "\n",
       "                 start_station_longitude end_station_id end_station_name  \\\n",
       "DataType                         float64        float64         category   \n",
       "Number DataTypes                   83685          83685            83685   \n",
       "Null values                            0            197              197   \n",
       "Duplicated                             4              4                4   \n",
       "\n",
       "                 end_station_latitude end_station_longitude bike_id user_type  \\\n",
       "DataType                      float64               float64   int64  category   \n",
       "Number DataTypes                83685                 83685   83685     83685   \n",
       "Null values                         0                     0       0         0   \n",
       "Duplicated                          4                     4       4         4   \n",
       "\n",
       "                 member_birth_year member_gender bike_share_for_all_trip  \n",
       "DataType                   float64      category                category  \n",
       "Number DataTypes             83685         83685                   83685  \n",
       "Null values                   8265          8265                       0  \n",
       "Duplicated                       4             4                       4  "
      ]
     },
     "execution_count": 12,
     "metadata": {},
     "output_type": "execute_result"
    }
   ],
   "source": [
    "# display the information about each column\n",
    "dataTypes = df.dtypes\n",
    "numberDataTypes = df.nunique().sum()\n",
    "numberOfNull = df.isnull().sum()\n",
    "numberOfDublicated = df.duplicated().sum()\n",
    "dataframe = pd.DataFrame({\"DataType\":dataTypes,\"Number DataTypes\":numberDataTypes,\"Null values\": numberOfNull,\"Duplicated\":numberOfDublicated}).T\n",
    "dataframe\n"
   ]
  },
  {
   "cell_type": "markdown",
   "id": "c847664a",
   "metadata": {
    "papermill": {
     "duration": 0.020416,
     "end_time": "2024-05-08T19:18:49.357002",
     "exception": false,
     "start_time": "2024-05-08T19:18:49.336586",
     "status": "completed"
    },
    "tags": []
   },
   "source": [
    "## The above result show some missing values exist in some columns So let's display them "
   ]
  },
  {
   "cell_type": "code",
   "execution_count": null,
   "id": "b35fa248",
   "metadata": {
    "execution": {
     "iopub.execute_input": "2024-05-08T19:18:49.399184Z",
     "iopub.status.busy": "2024-05-08T19:18:49.398751Z",
     "iopub.status.idle": "2024-05-08T19:18:49.477290Z",
     "shell.execute_reply": "2024-05-08T19:18:49.475887Z"
    },
    "papermill": {
     "duration": 0.102282,
     "end_time": "2024-05-08T19:18:49.480112",
     "exception": false,
     "start_time": "2024-05-08T19:18:49.377830",
     "status": "completed"
    },
    "tags": []
   },
   "outputs": [],
   "source": []
  },
  {
   "cell_type": "markdown",
   "id": "e29ddd13",
   "metadata": {
    "papermill": {
     "duration": 0.020625,
     "end_time": "2024-05-08T19:18:49.521635",
     "exception": false,
     "start_time": "2024-05-08T19:18:49.501010",
     "status": "completed"
    },
    "tags": []
   },
   "source": [
    "\n",
    "\n",
    "> ## The result above shows many missing data \n",
    "\n",
    "\n",
    "\n",
    "###  To fix this issue You will fill these values with --Mean-- for numeric and --Mode--for categorical"
   ]
  },
  {
   "cell_type": "code",
   "execution_count": 13,
   "id": "290bf1eb",
   "metadata": {
    "execution": {
     "iopub.execute_input": "2024-05-08T19:18:49.563277Z",
     "iopub.status.busy": "2024-05-08T19:18:49.562861Z",
     "iopub.status.idle": "2024-05-08T19:18:49.641347Z",
     "shell.execute_reply": "2024-05-08T19:18:49.640013Z"
    },
    "papermill": {
     "duration": 0.102178,
     "end_time": "2024-05-08T19:18:49.644179",
     "exception": false,
     "start_time": "2024-05-08T19:18:49.542001",
     "status": "completed"
    },
    "tags": []
   },
   "outputs": [
    {
     "name": "stderr",
     "output_type": "stream",
     "text": [
      "C:\\Users\\ASUS\\AppData\\Local\\Temp\\ipykernel_33140\\1650919853.py:3: FutureWarning: A value is trying to be set on a copy of a DataFrame or Series through chained assignment using an inplace method.\n",
      "The behavior will change in pandas 3.0. This inplace method will never work because the intermediate object on which we are setting values always behaves as a copy.\n",
      "\n",
      "For example, when doing 'df[col].method(value, inplace=True)', try using 'df.method({col: value}, inplace=True)' or df[col] = df[col].method(value) instead, to perform the operation inplace on the original object.\n",
      "\n",
      "\n",
      "  df[i].fillna(df[i].mean(),inplace= True)\n",
      "C:\\Users\\ASUS\\AppData\\Local\\Temp\\ipykernel_33140\\1650919853.py:5: FutureWarning: A value is trying to be set on a copy of a DataFrame or Series through chained assignment using an inplace method.\n",
      "The behavior will change in pandas 3.0. This inplace method will never work because the intermediate object on which we are setting values always behaves as a copy.\n",
      "\n",
      "For example, when doing 'df[col].method(value, inplace=True)', try using 'df.method({col: value}, inplace=True)' or df[col] = df[col].method(value) instead, to perform the operation inplace on the original object.\n",
      "\n",
      "\n",
      "  df[i].fillna(df[i].mode(),inplace= True)\n"
     ]
    }
   ],
   "source": [
    "# trying to fill missing values in my datset using for loop \n",
    "for i in numuric_col:\n",
    "    df[i].fillna(df[i].mean(),inplace= True)\n",
    "for i in cat_col:\n",
    "    df[i].fillna(df[i].mode(),inplace= True) \n"
   ]
  },
  {
   "cell_type": "code",
   "execution_count": 14,
   "id": "9609a1af",
   "metadata": {
    "execution": {
     "iopub.execute_input": "2024-05-08T19:18:49.685764Z",
     "iopub.status.busy": "2024-05-08T19:18:49.685335Z",
     "iopub.status.idle": "2024-05-08T19:18:49.764792Z",
     "shell.execute_reply": "2024-05-08T19:18:49.763405Z"
    },
    "papermill": {
     "duration": 0.103491,
     "end_time": "2024-05-08T19:18:49.767579",
     "exception": false,
     "start_time": "2024-05-08T19:18:49.664088",
     "status": "completed"
    },
    "tags": []
   },
   "outputs": [
    {
     "data": {
      "text/html": [
       "<div>\n",
       "<style scoped>\n",
       "    .dataframe tbody tr th:only-of-type {\n",
       "        vertical-align: middle;\n",
       "    }\n",
       "\n",
       "    .dataframe tbody tr th {\n",
       "        vertical-align: top;\n",
       "    }\n",
       "\n",
       "    .dataframe thead th {\n",
       "        text-align: right;\n",
       "    }\n",
       "</style>\n",
       "<table border=\"1\" class=\"dataframe\">\n",
       "  <thead>\n",
       "    <tr style=\"text-align: right;\">\n",
       "      <th></th>\n",
       "      <th>duration_sec</th>\n",
       "      <th>start_time</th>\n",
       "      <th>end_time</th>\n",
       "      <th>start_station_id</th>\n",
       "      <th>start_station_name</th>\n",
       "      <th>start_station_latitude</th>\n",
       "      <th>start_station_longitude</th>\n",
       "      <th>end_station_id</th>\n",
       "      <th>end_station_name</th>\n",
       "      <th>end_station_latitude</th>\n",
       "      <th>end_station_longitude</th>\n",
       "      <th>bike_id</th>\n",
       "      <th>user_type</th>\n",
       "      <th>member_birth_year</th>\n",
       "      <th>member_gender</th>\n",
       "      <th>bike_share_for_all_trip</th>\n",
       "    </tr>\n",
       "  </thead>\n",
       "  <tbody>\n",
       "    <tr>\n",
       "      <th>DataType</th>\n",
       "      <td>int64</td>\n",
       "      <td>category</td>\n",
       "      <td>category</td>\n",
       "      <td>float64</td>\n",
       "      <td>category</td>\n",
       "      <td>float64</td>\n",
       "      <td>float64</td>\n",
       "      <td>float64</td>\n",
       "      <td>category</td>\n",
       "      <td>float64</td>\n",
       "      <td>float64</td>\n",
       "      <td>int64</td>\n",
       "      <td>category</td>\n",
       "      <td>float64</td>\n",
       "      <td>category</td>\n",
       "      <td>category</td>\n",
       "    </tr>\n",
       "    <tr>\n",
       "      <th>Number DataTypes</th>\n",
       "      <td>83688</td>\n",
       "      <td>83688</td>\n",
       "      <td>83688</td>\n",
       "      <td>83688</td>\n",
       "      <td>83688</td>\n",
       "      <td>83688</td>\n",
       "      <td>83688</td>\n",
       "      <td>83688</td>\n",
       "      <td>83688</td>\n",
       "      <td>83688</td>\n",
       "      <td>83688</td>\n",
       "      <td>83688</td>\n",
       "      <td>83688</td>\n",
       "      <td>83688</td>\n",
       "      <td>83688</td>\n",
       "      <td>83688</td>\n",
       "    </tr>\n",
       "    <tr>\n",
       "      <th>Null values</th>\n",
       "      <td>0</td>\n",
       "      <td>0</td>\n",
       "      <td>0</td>\n",
       "      <td>0</td>\n",
       "      <td>197</td>\n",
       "      <td>0</td>\n",
       "      <td>0</td>\n",
       "      <td>0</td>\n",
       "      <td>197</td>\n",
       "      <td>0</td>\n",
       "      <td>0</td>\n",
       "      <td>0</td>\n",
       "      <td>0</td>\n",
       "      <td>0</td>\n",
       "      <td>8265</td>\n",
       "      <td>0</td>\n",
       "    </tr>\n",
       "    <tr>\n",
       "      <th>Duplicated</th>\n",
       "      <td>4</td>\n",
       "      <td>4</td>\n",
       "      <td>4</td>\n",
       "      <td>4</td>\n",
       "      <td>4</td>\n",
       "      <td>4</td>\n",
       "      <td>4</td>\n",
       "      <td>4</td>\n",
       "      <td>4</td>\n",
       "      <td>4</td>\n",
       "      <td>4</td>\n",
       "      <td>4</td>\n",
       "      <td>4</td>\n",
       "      <td>4</td>\n",
       "      <td>4</td>\n",
       "      <td>4</td>\n",
       "    </tr>\n",
       "  </tbody>\n",
       "</table>\n",
       "</div>"
      ],
      "text/plain": [
       "                 duration_sec start_time  end_time start_station_id  \\\n",
       "DataType                int64   category  category          float64   \n",
       "Number DataTypes        83688      83688     83688            83688   \n",
       "Null values                 0          0         0                0   \n",
       "Duplicated                  4          4         4                4   \n",
       "\n",
       "                 start_station_name start_station_latitude  \\\n",
       "DataType                   category                float64   \n",
       "Number DataTypes              83688                  83688   \n",
       "Null values                     197                      0   \n",
       "Duplicated                        4                      4   \n",
       "\n",
       "                 start_station_longitude end_station_id end_station_name  \\\n",
       "DataType                         float64        float64         category   \n",
       "Number DataTypes                   83688          83688            83688   \n",
       "Null values                            0              0              197   \n",
       "Duplicated                             4              4                4   \n",
       "\n",
       "                 end_station_latitude end_station_longitude bike_id user_type  \\\n",
       "DataType                      float64               float64   int64  category   \n",
       "Number DataTypes                83688                 83688   83688     83688   \n",
       "Null values                         0                     0       0         0   \n",
       "Duplicated                          4                     4       4         4   \n",
       "\n",
       "                 member_birth_year member_gender bike_share_for_all_trip  \n",
       "DataType                   float64      category                category  \n",
       "Number DataTypes             83688         83688                   83688  \n",
       "Null values                      0          8265                       0  \n",
       "Duplicated                       4             4                       4  "
      ]
     },
     "execution_count": 14,
     "metadata": {},
     "output_type": "execute_result"
    }
   ],
   "source": [
    "dataTypes = df.dtypes\n",
    "numberDataTypes = df.nunique().sum()\n",
    "numberOfNull = df.isnull().sum()\n",
    "numberOfDublicated = df.duplicated().sum()\n",
    "dataframe = pd.DataFrame({\"DataType\":dataTypes,\"Number DataTypes\":numberDataTypes,\"Null values\": numberOfNull,\"Duplicated\":numberOfDublicated}).T\n",
    "dataframe"
   ]
  },
  {
   "cell_type": "markdown",
   "id": "d41407c1",
   "metadata": {
    "papermill": {
     "duration": 0.019537,
     "end_time": "2024-05-08T19:18:49.808235",
     "exception": false,
     "start_time": "2024-05-08T19:18:49.788698",
     "status": "completed"
    },
    "tags": []
   },
   "source": [
    "### **And with a proper category for other (member gender)**"
   ]
  },
  {
   "cell_type": "code",
   "execution_count": 15,
   "id": "c713848e",
   "metadata": {
    "execution": {
     "iopub.execute_input": "2024-05-08T19:18:49.849728Z",
     "iopub.status.busy": "2024-05-08T19:18:49.849329Z",
     "iopub.status.idle": "2024-05-08T19:18:49.856593Z",
     "shell.execute_reply": "2024-05-08T19:18:49.855292Z"
    },
    "papermill": {
     "duration": 0.031278,
     "end_time": "2024-05-08T19:18:49.859460",
     "exception": false,
     "start_time": "2024-05-08T19:18:49.828182",
     "status": "completed"
    },
    "tags": []
   },
   "outputs": [
    {
     "name": "stdout",
     "output_type": "stream",
     "text": [
      "0       Male\n",
      "1        NaN\n",
      "2       Male\n",
      "3      Other\n",
      "4       Male\n",
      "5       Male\n",
      "6     Female\n",
      "7       Male\n",
      "8      Other\n",
      "9       Male\n",
      "10    Female\n",
      "11      Male\n",
      "12      Male\n",
      "13       NaN\n",
      "14      Male\n",
      "Name: member_gender, dtype: category\n",
      "Categories (3, object): ['Female', 'Male', 'Other']\n"
     ]
    }
   ],
   "source": [
    "##  still got a missing value in the member_gender, so let's explore this column more \n",
    "\n",
    "print(df.member_gender.head(15))"
   ]
  },
  {
   "cell_type": "code",
   "execution_count": 16,
   "id": "d325b144",
   "metadata": {
    "execution": {
     "iopub.execute_input": "2024-05-08T19:18:49.901264Z",
     "iopub.status.busy": "2024-05-08T19:18:49.900822Z",
     "iopub.status.idle": "2024-05-08T19:18:49.920563Z",
     "shell.execute_reply": "2024-05-08T19:18:49.919286Z"
    },
    "papermill": {
     "duration": 0.044514,
     "end_time": "2024-05-08T19:18:49.923678",
     "exception": false,
     "start_time": "2024-05-08T19:18:49.879164",
     "status": "completed"
    },
    "tags": []
   },
   "outputs": [
    {
     "data": {
      "text/plain": [
       "0       Male\n",
       "1        NaN\n",
       "2       Male\n",
       "3      Other\n",
       "4       Male\n",
       "5       Male\n",
       "6     Female\n",
       "7       Male\n",
       "8      Other\n",
       "9       Male\n",
       "10    Female\n",
       "11      Male\n",
       "12      Male\n",
       "13       NaN\n",
       "14      Male\n",
       "Name: member_gender, dtype: category\n",
       "Categories (3, object): ['Female', 'Male', 'Other']"
      ]
     },
     "execution_count": 16,
     "metadata": {},
     "output_type": "execute_result"
    }
   ],
   "source": [
    "# fill  dataset with missing values.\n",
    "df.member_gender.head(15)"
   ]
  },
  {
   "cell_type": "code",
   "execution_count": 17,
   "id": "eb829705",
   "metadata": {},
   "outputs": [
    {
     "name": "stderr",
     "output_type": "stream",
     "text": [
      "C:\\Users\\ASUS\\AppData\\Local\\Temp\\ipykernel_33140\\1913631383.py:1: FutureWarning: A value is trying to be set on a copy of a DataFrame or Series through chained assignment using an inplace method.\n",
      "The behavior will change in pandas 3.0. This inplace method will never work because the intermediate object on which we are setting values always behaves as a copy.\n",
      "\n",
      "For example, when doing 'df[col].method(value, inplace=True)', try using 'df.method({col: value}, inplace=True)' or df[col] = df[col].method(value) instead, to perform the operation inplace on the original object.\n",
      "\n",
      "\n",
      "  df.member_gender.fillna(df.member_gender.mode()[0],inplace=True)\n",
      "C:\\Users\\ASUS\\AppData\\Local\\Temp\\ipykernel_33140\\1913631383.py:2: FutureWarning: A value is trying to be set on a copy of a DataFrame or Series through chained assignment using an inplace method.\n",
      "The behavior will change in pandas 3.0. This inplace method will never work because the intermediate object on which we are setting values always behaves as a copy.\n",
      "\n",
      "For example, when doing 'df[col].method(value, inplace=True)', try using 'df.method({col: value}, inplace=True)' or df[col] = df[col].method(value) instead, to perform the operation inplace on the original object.\n",
      "\n",
      "\n",
      "  df.start_station_name.fillna(df.start_station_name.mode()[0],inplace=True)\n",
      "C:\\Users\\ASUS\\AppData\\Local\\Temp\\ipykernel_33140\\1913631383.py:3: FutureWarning: A value is trying to be set on a copy of a DataFrame or Series through chained assignment using an inplace method.\n",
      "The behavior will change in pandas 3.0. This inplace method will never work because the intermediate object on which we are setting values always behaves as a copy.\n",
      "\n",
      "For example, when doing 'df[col].method(value, inplace=True)', try using 'df.method({col: value}, inplace=True)' or df[col] = df[col].method(value) instead, to perform the operation inplace on the original object.\n",
      "\n",
      "\n",
      "  df.end_station_name.fillna(df.end_station_name.mode()[0],inplace=True)\n"
     ]
    }
   ],
   "source": [
    "df.member_gender.fillna(df.member_gender.mode()[0],inplace=True)\n",
    "df.start_station_name.fillna(df.start_station_name.mode()[0],inplace=True)\n",
    "df.end_station_name.fillna(df.end_station_name.mode()[0],inplace=True)"
   ]
  },
  {
   "cell_type": "code",
   "execution_count": 18,
   "id": "37328e6f",
   "metadata": {
    "execution": {
     "iopub.execute_input": "2024-05-08T19:18:49.965917Z",
     "iopub.status.busy": "2024-05-08T19:18:49.965487Z",
     "iopub.status.idle": "2024-05-08T19:18:49.973222Z",
     "shell.execute_reply": "2024-05-08T19:18:49.971688Z"
    },
    "papermill": {
     "duration": 0.032513,
     "end_time": "2024-05-08T19:18:49.976123",
     "exception": false,
     "start_time": "2024-05-08T19:18:49.943610",
     "status": "completed"
    },
    "tags": []
   },
   "outputs": [
    {
     "name": "stderr",
     "output_type": "stream",
     "text": [
      "C:\\Users\\ASUS\\AppData\\Local\\Temp\\ipykernel_33140\\3273231970.py:1: FutureWarning: A value is trying to be set on a copy of a DataFrame or Series through chained assignment using an inplace method.\n",
      "The behavior will change in pandas 3.0. This inplace method will never work because the intermediate object on which we are setting values always behaves as a copy.\n",
      "\n",
      "For example, when doing 'df[col].method(value, inplace=True)', try using 'df.method({col: value}, inplace=True)' or df[col] = df[col].method(value) instead, to perform the operation inplace on the original object.\n",
      "\n",
      "\n",
      "  df['member_gender'].replace(to_replace=\"Other\",\n",
      "C:\\Users\\ASUS\\AppData\\Local\\Temp\\ipykernel_33140\\3273231970.py:1: FutureWarning: The behavior of Series.replace (and DataFrame.replace) with CategoricalDtype is deprecated. In a future version, replace will only be used for cases that preserve the categories. To change the categories, use ser.cat.rename_categories instead.\n",
      "  df['member_gender'].replace(to_replace=\"Other\",\n"
     ]
    }
   ],
   "source": [
    "df['member_gender'].replace(to_replace=\"Other\",\n",
    "           value= df.member_gender.mode()[0],inplace=True)"
   ]
  },
  {
   "cell_type": "code",
   "execution_count": 19,
   "id": "f965efd2",
   "metadata": {
    "execution": {
     "iopub.execute_input": "2024-05-08T19:18:50.018002Z",
     "iopub.status.busy": "2024-05-08T19:18:50.017545Z",
     "iopub.status.idle": "2024-05-08T19:18:50.095031Z",
     "shell.execute_reply": "2024-05-08T19:18:50.093789Z"
    },
    "papermill": {
     "duration": 0.101688,
     "end_time": "2024-05-08T19:18:50.097806",
     "exception": false,
     "start_time": "2024-05-08T19:18:49.996118",
     "status": "completed"
    },
    "tags": []
   },
   "outputs": [
    {
     "data": {
      "text/html": [
       "<div>\n",
       "<style scoped>\n",
       "    .dataframe tbody tr th:only-of-type {\n",
       "        vertical-align: middle;\n",
       "    }\n",
       "\n",
       "    .dataframe tbody tr th {\n",
       "        vertical-align: top;\n",
       "    }\n",
       "\n",
       "    .dataframe thead th {\n",
       "        text-align: right;\n",
       "    }\n",
       "</style>\n",
       "<table border=\"1\" class=\"dataframe\">\n",
       "  <thead>\n",
       "    <tr style=\"text-align: right;\">\n",
       "      <th></th>\n",
       "      <th>duration_sec</th>\n",
       "      <th>start_time</th>\n",
       "      <th>end_time</th>\n",
       "      <th>start_station_id</th>\n",
       "      <th>start_station_name</th>\n",
       "      <th>start_station_latitude</th>\n",
       "      <th>start_station_longitude</th>\n",
       "      <th>end_station_id</th>\n",
       "      <th>end_station_name</th>\n",
       "      <th>end_station_latitude</th>\n",
       "      <th>end_station_longitude</th>\n",
       "      <th>bike_id</th>\n",
       "      <th>user_type</th>\n",
       "      <th>member_birth_year</th>\n",
       "      <th>member_gender</th>\n",
       "      <th>bike_share_for_all_trip</th>\n",
       "    </tr>\n",
       "  </thead>\n",
       "  <tbody>\n",
       "    <tr>\n",
       "      <th>DataType</th>\n",
       "      <td>int64</td>\n",
       "      <td>category</td>\n",
       "      <td>category</td>\n",
       "      <td>float64</td>\n",
       "      <td>category</td>\n",
       "      <td>float64</td>\n",
       "      <td>float64</td>\n",
       "      <td>float64</td>\n",
       "      <td>category</td>\n",
       "      <td>float64</td>\n",
       "      <td>float64</td>\n",
       "      <td>int64</td>\n",
       "      <td>category</td>\n",
       "      <td>float64</td>\n",
       "      <td>category</td>\n",
       "      <td>category</td>\n",
       "    </tr>\n",
       "    <tr>\n",
       "      <th>Number DataTypes</th>\n",
       "      <td>83687</td>\n",
       "      <td>83687</td>\n",
       "      <td>83687</td>\n",
       "      <td>83687</td>\n",
       "      <td>83687</td>\n",
       "      <td>83687</td>\n",
       "      <td>83687</td>\n",
       "      <td>83687</td>\n",
       "      <td>83687</td>\n",
       "      <td>83687</td>\n",
       "      <td>83687</td>\n",
       "      <td>83687</td>\n",
       "      <td>83687</td>\n",
       "      <td>83687</td>\n",
       "      <td>83687</td>\n",
       "      <td>83687</td>\n",
       "    </tr>\n",
       "    <tr>\n",
       "      <th>Null values</th>\n",
       "      <td>0</td>\n",
       "      <td>0</td>\n",
       "      <td>0</td>\n",
       "      <td>0</td>\n",
       "      <td>0</td>\n",
       "      <td>0</td>\n",
       "      <td>0</td>\n",
       "      <td>0</td>\n",
       "      <td>0</td>\n",
       "      <td>0</td>\n",
       "      <td>0</td>\n",
       "      <td>0</td>\n",
       "      <td>0</td>\n",
       "      <td>0</td>\n",
       "      <td>0</td>\n",
       "      <td>0</td>\n",
       "    </tr>\n",
       "    <tr>\n",
       "      <th>Duplicated</th>\n",
       "      <td>4</td>\n",
       "      <td>4</td>\n",
       "      <td>4</td>\n",
       "      <td>4</td>\n",
       "      <td>4</td>\n",
       "      <td>4</td>\n",
       "      <td>4</td>\n",
       "      <td>4</td>\n",
       "      <td>4</td>\n",
       "      <td>4</td>\n",
       "      <td>4</td>\n",
       "      <td>4</td>\n",
       "      <td>4</td>\n",
       "      <td>4</td>\n",
       "      <td>4</td>\n",
       "      <td>4</td>\n",
       "    </tr>\n",
       "  </tbody>\n",
       "</table>\n",
       "</div>"
      ],
      "text/plain": [
       "                 duration_sec start_time  end_time start_station_id  \\\n",
       "DataType                int64   category  category          float64   \n",
       "Number DataTypes        83687      83687     83687            83687   \n",
       "Null values                 0          0         0                0   \n",
       "Duplicated                  4          4         4                4   \n",
       "\n",
       "                 start_station_name start_station_latitude  \\\n",
       "DataType                   category                float64   \n",
       "Number DataTypes              83687                  83687   \n",
       "Null values                       0                      0   \n",
       "Duplicated                        4                      4   \n",
       "\n",
       "                 start_station_longitude end_station_id end_station_name  \\\n",
       "DataType                         float64        float64         category   \n",
       "Number DataTypes                   83687          83687            83687   \n",
       "Null values                            0              0                0   \n",
       "Duplicated                             4              4                4   \n",
       "\n",
       "                 end_station_latitude end_station_longitude bike_id user_type  \\\n",
       "DataType                      float64               float64   int64  category   \n",
       "Number DataTypes                83687                 83687   83687     83687   \n",
       "Null values                         0                     0       0         0   \n",
       "Duplicated                          4                     4       4         4   \n",
       "\n",
       "                 member_birth_year member_gender bike_share_for_all_trip  \n",
       "DataType                   float64      category                category  \n",
       "Number DataTypes             83687         83687                   83687  \n",
       "Null values                      0             0                       0  \n",
       "Duplicated                       4             4                       4  "
      ]
     },
     "execution_count": 19,
     "metadata": {},
     "output_type": "execute_result"
    }
   ],
   "source": [
    "dataTypes = df.dtypes\n",
    "numberDataTypes = df.nunique().sum()\n",
    "numberOfNull = df.isnull().sum()\n",
    "numberOfDublicated = df.duplicated().sum()\n",
    "dataframe = pd.DataFrame({\"DataType\":dataTypes,\"Number DataTypes\":numberDataTypes,\"Null values\": numberOfNull,\"Duplicated\":numberOfDublicated}).T\n",
    "dataframe"
   ]
  },
  {
   "cell_type": "markdown",
   "id": "3c492d96",
   "metadata": {
    "papermill": {
     "duration": 0.020179,
     "end_time": "2024-05-08T19:18:50.138323",
     "exception": false,
     "start_time": "2024-05-08T19:18:50.118144",
     "status": "completed"
    },
    "tags": []
   },
   "source": [
    "> ## <mark>The result above shows that we deal with all missing data </mark>"
   ]
  },
  {
   "cell_type": "markdown",
   "id": "898da118",
   "metadata": {
    "papermill": {
     "duration": 0.02091,
     "end_time": "2024-05-08T19:18:50.179612",
     "exception": false,
     "start_time": "2024-05-08T19:18:50.158702",
     "status": "completed"
    },
    "tags": []
   },
   "source": [
    "### Now let's check duplicate value"
   ]
  },
  {
   "cell_type": "code",
   "execution_count": null,
   "id": "8a75c2b0",
   "metadata": {
    "execution": {
     "iopub.execute_input": "2024-05-08T19:18:50.224473Z",
     "iopub.status.busy": "2024-05-08T19:18:50.224022Z",
     "iopub.status.idle": "2024-05-08T19:18:50.444357Z",
     "shell.execute_reply": "2024-05-08T19:18:50.442986Z"
    },
    "papermill": {
     "duration": 0.245305,
     "end_time": "2024-05-08T19:18:50.447038",
     "exception": false,
     "start_time": "2024-05-08T19:18:50.201733",
     "status": "completed"
    },
    "tags": []
   },
   "outputs": [],
   "source": []
  },
  {
   "cell_type": "markdown",
   "id": "03c9e674",
   "metadata": {
    "papermill": {
     "duration": 0.021079,
     "end_time": "2024-05-08T19:18:50.489125",
     "exception": false,
     "start_time": "2024-05-08T19:18:50.468046",
     "status": "completed"
    },
    "tags": []
   },
   "source": [
    "> ##If Not significant duplicated , so won't clean it \n",
    "\n",
    "\n",
    "### Now let's check the category columns to make more cleaning dataset "
   ]
  },
  {
   "cell_type": "markdown",
   "id": "77e0fe0d",
   "metadata": {},
   "source": []
  },
  {
   "cell_type": "code",
   "execution_count": 20,
   "id": "b0ca328c",
   "metadata": {
    "execution": {
     "iopub.execute_input": "2024-05-08T19:18:50.531712Z",
     "iopub.status.busy": "2024-05-08T19:18:50.531257Z",
     "iopub.status.idle": "2024-05-08T19:18:50.825026Z",
     "shell.execute_reply": "2024-05-08T19:18:50.823700Z"
    },
    "papermill": {
     "duration": 0.318114,
     "end_time": "2024-05-08T19:18:50.827691",
     "exception": false,
     "start_time": "2024-05-08T19:18:50.509577",
     "status": "completed"
    },
    "tags": []
   },
   "outputs": [
    {
     "data": {
      "text/plain": [
       "'Already done this step ya doc :) '"
      ]
     },
     "execution_count": 20,
     "metadata": {},
     "output_type": "execute_result"
    }
   ],
   "source": [
    "### check the category columns that included object\n",
    "'''Already done this step ya doc :) '''"
   ]
  },
  {
   "cell_type": "markdown",
   "id": "c4d5c747",
   "metadata": {
    "papermill": {
     "duration": 0.020478,
     "end_time": "2024-05-08T19:18:50.869371",
     "exception": false,
     "start_time": "2024-05-08T19:18:50.848893",
     "status": "completed"
    },
    "tags": []
   },
   "source": [
    " > ## From all previous results above I found  :\n",
    " \n",
    " \n",
    " \n",
    " **=========================================================**\n",
    " \n",
    " \n",
    "\n",
    "> 1 ) **unique Value** as in ((`member_gender`)) : Not significant , so won't clean it\n",
    "\n",
    "\n",
    "\n",
    "> 2 ) **Incorrect data type** as in (( `user_type` &&\t`member_gender`)) :  significant change , so I need to clean it.\n",
    "\n",
    "\n",
    "> 3 ) **Good factor** for marketing work as in ((`member_birth_year`)) : so I need to clean it."
   ]
  },
  {
   "cell_type": "code",
   "execution_count": 21,
   "id": "6d5e42ea",
   "metadata": {
    "execution": {
     "iopub.execute_input": "2024-05-08T19:18:50.913447Z",
     "iopub.status.busy": "2024-05-08T19:18:50.912988Z",
     "iopub.status.idle": "2024-05-08T19:18:50.972279Z",
     "shell.execute_reply": "2024-05-08T19:18:50.970960Z"
    },
    "papermill": {
     "duration": 0.084749,
     "end_time": "2024-05-08T19:18:50.974963",
     "exception": false,
     "start_time": "2024-05-08T19:18:50.890214",
     "status": "completed"
    },
    "tags": []
   },
   "outputs": [
    {
     "data": {
      "text/plain": [
       "0       Customer\n",
       "1       Customer\n",
       "2       Customer\n",
       "3     Subscriber\n",
       "4     Subscriber\n",
       "5     Subscriber\n",
       "6     Subscriber\n",
       "7     Subscriber\n",
       "8     Subscriber\n",
       "9     Subscriber\n",
       "10    Subscriber\n",
       "11    Subscriber\n",
       "12      Customer\n",
       "13    Subscriber\n",
       "14    Subscriber\n",
       "15    Subscriber\n",
       "16    Subscriber\n",
       "17    Subscriber\n",
       "18    Subscriber\n",
       "19      Customer\n",
       "Name: user_type, dtype: category\n",
       "Categories (2, object): ['Customer', 'Subscriber']"
      ]
     },
     "execution_count": 21,
     "metadata": {},
     "output_type": "execute_result"
    }
   ],
   "source": [
    "##  step  2 ) Incorrect data type as in (( `user_type` &&\t`member_gender`)) :  significant change , so  need to clean it.\n",
    "\n",
    "df['user_type'].head(20)"
   ]
  },
  {
   "cell_type": "code",
   "execution_count": 22,
   "id": "53487898",
   "metadata": {
    "execution": {
     "iopub.execute_input": "2024-05-08T19:18:51.019200Z",
     "iopub.status.busy": "2024-05-08T19:18:51.018738Z",
     "iopub.status.idle": "2024-05-08T19:18:51.083808Z",
     "shell.execute_reply": "2024-05-08T19:18:51.081907Z"
    },
    "papermill": {
     "duration": 0.090425,
     "end_time": "2024-05-08T19:18:51.086398",
     "exception": false,
     "start_time": "2024-05-08T19:18:50.995973",
     "status": "completed"
    },
    "tags": []
   },
   "outputs": [],
   "source": [
    "## check your work \n",
    "\n"
   ]
  },
  {
   "cell_type": "code",
   "execution_count": 23,
   "id": "8cad598c",
   "metadata": {
    "execution": {
     "iopub.execute_input": "2024-05-08T19:18:51.131723Z",
     "iopub.status.busy": "2024-05-08T19:18:51.130903Z",
     "iopub.status.idle": "2024-05-08T19:18:51.138039Z",
     "shell.execute_reply": "2024-05-08T19:18:51.136935Z"
    },
    "papermill": {
     "duration": 0.033714,
     "end_time": "2024-05-08T19:18:51.140820",
     "exception": false,
     "start_time": "2024-05-08T19:18:51.107106",
     "status": "completed"
    },
    "tags": []
   },
   "outputs": [
    {
     "data": {
      "text/plain": [
       "0    40.00\n",
       "1    39.19\n",
       "2    52.00\n",
       "3    35.00\n",
       "4    50.00\n",
       "5    65.00\n",
       "6    41.00\n",
       "7    35.00\n",
       "8    36.00\n",
       "9    32.00\n",
       "10   28.00\n",
       "11   31.00\n",
       "12   34.00\n",
       "13   39.19\n",
       "14   36.00\n",
       "Name: age, dtype: float64"
      ]
     },
     "execution_count": 23,
     "metadata": {},
     "output_type": "execute_result"
    }
   ],
   "source": [
    "## step 3 ) Good factor for marketing work as in ((`member_birth_year`)) : so need to clean it.\n",
    "## To know the target audience's age and serve on them\n",
    "# create a column for users' age depending on the current year\n",
    "\n",
    "pd.options.display.float_format = '{:,.2f}'.format # Forammting the decimal points while displaying datadrame\n",
    "df[\"age\"] = (2024 - df['member_birth_year'])\n",
    "df[\"age\"].head(15)"
   ]
  },
  {
   "cell_type": "code",
   "execution_count": 24,
   "id": "ebd88c51",
   "metadata": {
    "execution": {
     "iopub.execute_input": "2024-05-08T19:18:51.184908Z",
     "iopub.status.busy": "2024-05-08T19:18:51.184040Z",
     "iopub.status.idle": "2024-05-08T19:18:51.213533Z",
     "shell.execute_reply": "2024-05-08T19:18:51.212514Z"
    },
    "papermill": {
     "duration": 0.054775,
     "end_time": "2024-05-08T19:18:51.216222",
     "exception": false,
     "start_time": "2024-05-08T19:18:51.161447",
     "status": "completed"
    },
    "tags": []
   },
   "outputs": [
    {
     "data": {
      "text/html": [
       "<div>\n",
       "<style scoped>\n",
       "    .dataframe tbody tr th:only-of-type {\n",
       "        vertical-align: middle;\n",
       "    }\n",
       "\n",
       "    .dataframe tbody tr th {\n",
       "        vertical-align: top;\n",
       "    }\n",
       "\n",
       "    .dataframe thead th {\n",
       "        text-align: right;\n",
       "    }\n",
       "</style>\n",
       "<table border=\"1\" class=\"dataframe\">\n",
       "  <thead>\n",
       "    <tr style=\"text-align: right;\">\n",
       "      <th></th>\n",
       "      <th>duration_sec</th>\n",
       "      <th>start_time</th>\n",
       "      <th>end_time</th>\n",
       "      <th>start_station_id</th>\n",
       "      <th>start_station_name</th>\n",
       "      <th>start_station_latitude</th>\n",
       "      <th>start_station_longitude</th>\n",
       "      <th>end_station_id</th>\n",
       "      <th>end_station_name</th>\n",
       "      <th>end_station_latitude</th>\n",
       "      <th>end_station_longitude</th>\n",
       "      <th>bike_id</th>\n",
       "      <th>user_type</th>\n",
       "      <th>member_birth_year</th>\n",
       "      <th>member_gender</th>\n",
       "      <th>bike_share_for_all_trip</th>\n",
       "      <th>age</th>\n",
       "    </tr>\n",
       "  </thead>\n",
       "  <tbody>\n",
       "    <tr>\n",
       "      <th>0</th>\n",
       "      <td>52185</td>\n",
       "      <td>32:10.1</td>\n",
       "      <td>01:56.0</td>\n",
       "      <td>21.00</td>\n",
       "      <td>Montgomery St BART Station (Market St at 2nd St)</td>\n",
       "      <td>37.79</td>\n",
       "      <td>-122.40</td>\n",
       "      <td>13.00</td>\n",
       "      <td>Commercial St at Montgomery St</td>\n",
       "      <td>37.79</td>\n",
       "      <td>-122.40</td>\n",
       "      <td>4902</td>\n",
       "      <td>Customer</td>\n",
       "      <td>1,984.00</td>\n",
       "      <td>Male</td>\n",
       "      <td>No</td>\n",
       "      <td>40.00</td>\n",
       "    </tr>\n",
       "    <tr>\n",
       "      <th>1</th>\n",
       "      <td>42521</td>\n",
       "      <td>53:21.8</td>\n",
       "      <td>42:03.1</td>\n",
       "      <td>23.00</td>\n",
       "      <td>The Embarcadero at Steuart St</td>\n",
       "      <td>37.79</td>\n",
       "      <td>-122.39</td>\n",
       "      <td>81.00</td>\n",
       "      <td>Berry St at 4th St</td>\n",
       "      <td>37.78</td>\n",
       "      <td>-122.39</td>\n",
       "      <td>2535</td>\n",
       "      <td>Customer</td>\n",
       "      <td>1,984.81</td>\n",
       "      <td>Male</td>\n",
       "      <td>No</td>\n",
       "      <td>39.19</td>\n",
       "    </tr>\n",
       "    <tr>\n",
       "      <th>2</th>\n",
       "      <td>61854</td>\n",
       "      <td>13:13.2</td>\n",
       "      <td>24:08.1</td>\n",
       "      <td>86.00</td>\n",
       "      <td>Market St at Dolores St</td>\n",
       "      <td>37.77</td>\n",
       "      <td>-122.43</td>\n",
       "      <td>3.00</td>\n",
       "      <td>Powell St BART Station (Market St at 4th St)</td>\n",
       "      <td>37.79</td>\n",
       "      <td>-122.40</td>\n",
       "      <td>5905</td>\n",
       "      <td>Customer</td>\n",
       "      <td>1,972.00</td>\n",
       "      <td>Male</td>\n",
       "      <td>No</td>\n",
       "      <td>52.00</td>\n",
       "    </tr>\n",
       "    <tr>\n",
       "      <th>3</th>\n",
       "      <td>36490</td>\n",
       "      <td>54:26.0</td>\n",
       "      <td>02:36.8</td>\n",
       "      <td>375.00</td>\n",
       "      <td>Grove St at Masonic Ave</td>\n",
       "      <td>37.77</td>\n",
       "      <td>-122.45</td>\n",
       "      <td>70.00</td>\n",
       "      <td>Central Ave at Fell St</td>\n",
       "      <td>37.77</td>\n",
       "      <td>-122.44</td>\n",
       "      <td>6638</td>\n",
       "      <td>Subscriber</td>\n",
       "      <td>1,989.00</td>\n",
       "      <td>Male</td>\n",
       "      <td>No</td>\n",
       "      <td>35.00</td>\n",
       "    </tr>\n",
       "    <tr>\n",
       "      <th>4</th>\n",
       "      <td>1585</td>\n",
       "      <td>54:18.5</td>\n",
       "      <td>20:44.1</td>\n",
       "      <td>7.00</td>\n",
       "      <td>Frank H Ogawa Plaza</td>\n",
       "      <td>37.80</td>\n",
       "      <td>-122.27</td>\n",
       "      <td>222.00</td>\n",
       "      <td>10th Ave at E 15th St</td>\n",
       "      <td>37.79</td>\n",
       "      <td>-122.25</td>\n",
       "      <td>4898</td>\n",
       "      <td>Subscriber</td>\n",
       "      <td>1,974.00</td>\n",
       "      <td>Male</td>\n",
       "      <td>Yes</td>\n",
       "      <td>50.00</td>\n",
       "    </tr>\n",
       "    <tr>\n",
       "      <th>5</th>\n",
       "      <td>1793</td>\n",
       "      <td>49:58.6</td>\n",
       "      <td>19:51.8</td>\n",
       "      <td>93.00</td>\n",
       "      <td>4th St at Mission Bay Blvd S</td>\n",
       "      <td>37.77</td>\n",
       "      <td>-122.39</td>\n",
       "      <td>323.00</td>\n",
       "      <td>Broadway at Kearny</td>\n",
       "      <td>37.80</td>\n",
       "      <td>-122.41</td>\n",
       "      <td>5200</td>\n",
       "      <td>Subscriber</td>\n",
       "      <td>1,959.00</td>\n",
       "      <td>Male</td>\n",
       "      <td>No</td>\n",
       "      <td>65.00</td>\n",
       "    </tr>\n",
       "    <tr>\n",
       "      <th>6</th>\n",
       "      <td>1147</td>\n",
       "      <td>55:35.1</td>\n",
       "      <td>14:42.6</td>\n",
       "      <td>300.00</td>\n",
       "      <td>Palm St at Willow St</td>\n",
       "      <td>37.32</td>\n",
       "      <td>-121.88</td>\n",
       "      <td>312.00</td>\n",
       "      <td>San Jose Diridon Station</td>\n",
       "      <td>37.33</td>\n",
       "      <td>-121.90</td>\n",
       "      <td>3803</td>\n",
       "      <td>Subscriber</td>\n",
       "      <td>1,983.00</td>\n",
       "      <td>Female</td>\n",
       "      <td>No</td>\n",
       "      <td>41.00</td>\n",
       "    </tr>\n",
       "    <tr>\n",
       "      <th>7</th>\n",
       "      <td>1615</td>\n",
       "      <td>41:06.8</td>\n",
       "      <td>08:02.8</td>\n",
       "      <td>10.00</td>\n",
       "      <td>Washington St at Kearny St</td>\n",
       "      <td>37.80</td>\n",
       "      <td>-122.40</td>\n",
       "      <td>127.00</td>\n",
       "      <td>Valencia St at 21st St</td>\n",
       "      <td>37.76</td>\n",
       "      <td>-122.42</td>\n",
       "      <td>6329</td>\n",
       "      <td>Subscriber</td>\n",
       "      <td>1,989.00</td>\n",
       "      <td>Male</td>\n",
       "      <td>No</td>\n",
       "      <td>35.00</td>\n",
       "    </tr>\n",
       "    <tr>\n",
       "      <th>8</th>\n",
       "      <td>1570</td>\n",
       "      <td>41:48.8</td>\n",
       "      <td>07:59.7</td>\n",
       "      <td>10.00</td>\n",
       "      <td>Washington St at Kearny St</td>\n",
       "      <td>37.80</td>\n",
       "      <td>-122.40</td>\n",
       "      <td>127.00</td>\n",
       "      <td>Valencia St at 21st St</td>\n",
       "      <td>37.76</td>\n",
       "      <td>-122.42</td>\n",
       "      <td>6548</td>\n",
       "      <td>Subscriber</td>\n",
       "      <td>1,988.00</td>\n",
       "      <td>Male</td>\n",
       "      <td>No</td>\n",
       "      <td>36.00</td>\n",
       "    </tr>\n",
       "    <tr>\n",
       "      <th>9</th>\n",
       "      <td>1049</td>\n",
       "      <td>49:47.7</td>\n",
       "      <td>07:17.0</td>\n",
       "      <td>19.00</td>\n",
       "      <td>Post St at Kearny St</td>\n",
       "      <td>37.79</td>\n",
       "      <td>-122.40</td>\n",
       "      <td>121.00</td>\n",
       "      <td>Mission Playground</td>\n",
       "      <td>37.76</td>\n",
       "      <td>-122.42</td>\n",
       "      <td>6488</td>\n",
       "      <td>Subscriber</td>\n",
       "      <td>1,992.00</td>\n",
       "      <td>Male</td>\n",
       "      <td>No</td>\n",
       "      <td>32.00</td>\n",
       "    </tr>\n",
       "    <tr>\n",
       "      <th>10</th>\n",
       "      <td>458</td>\n",
       "      <td>57:57.2</td>\n",
       "      <td>05:35.4</td>\n",
       "      <td>370.00</td>\n",
       "      <td>Jones St at Post St</td>\n",
       "      <td>37.79</td>\n",
       "      <td>-122.41</td>\n",
       "      <td>43.00</td>\n",
       "      <td>San Francisco Public Library (Grove St at Hyde...</td>\n",
       "      <td>37.78</td>\n",
       "      <td>-122.42</td>\n",
       "      <td>5318</td>\n",
       "      <td>Subscriber</td>\n",
       "      <td>1,996.00</td>\n",
       "      <td>Female</td>\n",
       "      <td>Yes</td>\n",
       "      <td>28.00</td>\n",
       "    </tr>\n",
       "    <tr>\n",
       "      <th>11</th>\n",
       "      <td>506</td>\n",
       "      <td>56:55.5</td>\n",
       "      <td>05:21.7</td>\n",
       "      <td>44.00</td>\n",
       "      <td>Civic Center/UN Plaza BART Station (Market St ...</td>\n",
       "      <td>37.78</td>\n",
       "      <td>-122.41</td>\n",
       "      <td>343.00</td>\n",
       "      <td>Bryant St at 2nd St</td>\n",
       "      <td>37.78</td>\n",
       "      <td>-122.39</td>\n",
       "      <td>5848</td>\n",
       "      <td>Subscriber</td>\n",
       "      <td>1,993.00</td>\n",
       "      <td>Male</td>\n",
       "      <td>No</td>\n",
       "      <td>31.00</td>\n",
       "    </tr>\n",
       "    <tr>\n",
       "      <th>12</th>\n",
       "      <td>1176</td>\n",
       "      <td>45:12.7</td>\n",
       "      <td>04:49.2</td>\n",
       "      <td>127.00</td>\n",
       "      <td>Valencia St at 21st St</td>\n",
       "      <td>37.76</td>\n",
       "      <td>-122.42</td>\n",
       "      <td>323.00</td>\n",
       "      <td>Broadway at Kearny</td>\n",
       "      <td>37.80</td>\n",
       "      <td>-122.41</td>\n",
       "      <td>5328</td>\n",
       "      <td>Customer</td>\n",
       "      <td>1,990.00</td>\n",
       "      <td>Male</td>\n",
       "      <td>No</td>\n",
       "      <td>34.00</td>\n",
       "    </tr>\n",
       "    <tr>\n",
       "      <th>13</th>\n",
       "      <td>915</td>\n",
       "      <td>49:06.1</td>\n",
       "      <td>04:21.9</td>\n",
       "      <td>252.00</td>\n",
       "      <td>Channing Way at Shattuck Ave</td>\n",
       "      <td>37.87</td>\n",
       "      <td>-122.27</td>\n",
       "      <td>244.00</td>\n",
       "      <td>Shattuck Ave at Hearst Ave</td>\n",
       "      <td>37.87</td>\n",
       "      <td>-122.27</td>\n",
       "      <td>5101</td>\n",
       "      <td>Subscriber</td>\n",
       "      <td>1,984.81</td>\n",
       "      <td>Male</td>\n",
       "      <td>No</td>\n",
       "      <td>39.19</td>\n",
       "    </tr>\n",
       "    <tr>\n",
       "      <th>14</th>\n",
       "      <td>395</td>\n",
       "      <td>56:26.8</td>\n",
       "      <td>03:01.9</td>\n",
       "      <td>243.00</td>\n",
       "      <td>Bancroft Way at College Ave</td>\n",
       "      <td>37.87</td>\n",
       "      <td>-122.25</td>\n",
       "      <td>252.00</td>\n",
       "      <td>Channing Way at Shattuck Ave</td>\n",
       "      <td>37.87</td>\n",
       "      <td>-122.27</td>\n",
       "      <td>4786</td>\n",
       "      <td>Subscriber</td>\n",
       "      <td>1,988.00</td>\n",
       "      <td>Male</td>\n",
       "      <td>No</td>\n",
       "      <td>36.00</td>\n",
       "    </tr>\n",
       "  </tbody>\n",
       "</table>\n",
       "</div>"
      ],
      "text/plain": [
       "    duration_sec start_time end_time  start_station_id  \\\n",
       "0          52185    32:10.1  01:56.0             21.00   \n",
       "1          42521    53:21.8  42:03.1             23.00   \n",
       "2          61854    13:13.2  24:08.1             86.00   \n",
       "3          36490    54:26.0  02:36.8            375.00   \n",
       "4           1585    54:18.5  20:44.1              7.00   \n",
       "5           1793    49:58.6  19:51.8             93.00   \n",
       "6           1147    55:35.1  14:42.6            300.00   \n",
       "7           1615    41:06.8  08:02.8             10.00   \n",
       "8           1570    41:48.8  07:59.7             10.00   \n",
       "9           1049    49:47.7  07:17.0             19.00   \n",
       "10           458    57:57.2  05:35.4            370.00   \n",
       "11           506    56:55.5  05:21.7             44.00   \n",
       "12          1176    45:12.7  04:49.2            127.00   \n",
       "13           915    49:06.1  04:21.9            252.00   \n",
       "14           395    56:26.8  03:01.9            243.00   \n",
       "\n",
       "                                   start_station_name  start_station_latitude  \\\n",
       "0    Montgomery St BART Station (Market St at 2nd St)                   37.79   \n",
       "1                       The Embarcadero at Steuart St                   37.79   \n",
       "2                             Market St at Dolores St                   37.77   \n",
       "3                             Grove St at Masonic Ave                   37.77   \n",
       "4                                 Frank H Ogawa Plaza                   37.80   \n",
       "5                        4th St at Mission Bay Blvd S                   37.77   \n",
       "6                                Palm St at Willow St                   37.32   \n",
       "7                          Washington St at Kearny St                   37.80   \n",
       "8                          Washington St at Kearny St                   37.80   \n",
       "9                                Post St at Kearny St                   37.79   \n",
       "10                                Jones St at Post St                   37.79   \n",
       "11  Civic Center/UN Plaza BART Station (Market St ...                   37.78   \n",
       "12                             Valencia St at 21st St                   37.76   \n",
       "13                       Channing Way at Shattuck Ave                   37.87   \n",
       "14                        Bancroft Way at College Ave                   37.87   \n",
       "\n",
       "    start_station_longitude  end_station_id  \\\n",
       "0                   -122.40           13.00   \n",
       "1                   -122.39           81.00   \n",
       "2                   -122.43            3.00   \n",
       "3                   -122.45           70.00   \n",
       "4                   -122.27          222.00   \n",
       "5                   -122.39          323.00   \n",
       "6                   -121.88          312.00   \n",
       "7                   -122.40          127.00   \n",
       "8                   -122.40          127.00   \n",
       "9                   -122.40          121.00   \n",
       "10                  -122.41           43.00   \n",
       "11                  -122.41          343.00   \n",
       "12                  -122.42          323.00   \n",
       "13                  -122.27          244.00   \n",
       "14                  -122.25          252.00   \n",
       "\n",
       "                                     end_station_name  end_station_latitude  \\\n",
       "0                      Commercial St at Montgomery St                 37.79   \n",
       "1                                  Berry St at 4th St                 37.78   \n",
       "2        Powell St BART Station (Market St at 4th St)                 37.79   \n",
       "3                              Central Ave at Fell St                 37.77   \n",
       "4                               10th Ave at E 15th St                 37.79   \n",
       "5                                  Broadway at Kearny                 37.80   \n",
       "6                            San Jose Diridon Station                 37.33   \n",
       "7                              Valencia St at 21st St                 37.76   \n",
       "8                              Valencia St at 21st St                 37.76   \n",
       "9                                  Mission Playground                 37.76   \n",
       "10  San Francisco Public Library (Grove St at Hyde...                 37.78   \n",
       "11                                Bryant St at 2nd St                 37.78   \n",
       "12                                 Broadway at Kearny                 37.80   \n",
       "13                         Shattuck Ave at Hearst Ave                 37.87   \n",
       "14                       Channing Way at Shattuck Ave                 37.87   \n",
       "\n",
       "    end_station_longitude  bike_id   user_type  member_birth_year  \\\n",
       "0                 -122.40     4902    Customer           1,984.00   \n",
       "1                 -122.39     2535    Customer           1,984.81   \n",
       "2                 -122.40     5905    Customer           1,972.00   \n",
       "3                 -122.44     6638  Subscriber           1,989.00   \n",
       "4                 -122.25     4898  Subscriber           1,974.00   \n",
       "5                 -122.41     5200  Subscriber           1,959.00   \n",
       "6                 -121.90     3803  Subscriber           1,983.00   \n",
       "7                 -122.42     6329  Subscriber           1,989.00   \n",
       "8                 -122.42     6548  Subscriber           1,988.00   \n",
       "9                 -122.42     6488  Subscriber           1,992.00   \n",
       "10                -122.42     5318  Subscriber           1,996.00   \n",
       "11                -122.39     5848  Subscriber           1,993.00   \n",
       "12                -122.41     5328    Customer           1,990.00   \n",
       "13                -122.27     5101  Subscriber           1,984.81   \n",
       "14                -122.27     4786  Subscriber           1,988.00   \n",
       "\n",
       "   member_gender bike_share_for_all_trip   age  \n",
       "0           Male                      No 40.00  \n",
       "1           Male                      No 39.19  \n",
       "2           Male                      No 52.00  \n",
       "3           Male                      No 35.00  \n",
       "4           Male                     Yes 50.00  \n",
       "5           Male                      No 65.00  \n",
       "6         Female                      No 41.00  \n",
       "7           Male                      No 35.00  \n",
       "8           Male                      No 36.00  \n",
       "9           Male                      No 32.00  \n",
       "10        Female                     Yes 28.00  \n",
       "11          Male                      No 31.00  \n",
       "12          Male                      No 34.00  \n",
       "13          Male                      No 39.19  \n",
       "14          Male                      No 36.00  "
      ]
     },
     "execution_count": 24,
     "metadata": {},
     "output_type": "execute_result"
    }
   ],
   "source": [
    "df.head(15)\n"
   ]
  },
  {
   "cell_type": "code",
   "execution_count": 25,
   "id": "129b23cd",
   "metadata": {
    "execution": {
     "iopub.execute_input": "2024-05-08T19:18:51.263527Z",
     "iopub.status.busy": "2024-05-08T19:18:51.262711Z",
     "iopub.status.idle": "2024-05-08T19:18:51.348559Z",
     "shell.execute_reply": "2024-05-08T19:18:51.346960Z"
    },
    "papermill": {
     "duration": 0.114638,
     "end_time": "2024-05-08T19:18:51.351803",
     "exception": false,
     "start_time": "2024-05-08T19:18:51.237165",
     "status": "completed"
    },
    "tags": []
   },
   "outputs": [
    {
     "data": {
      "text/plain": [
       "183416"
      ]
     },
     "execution_count": 25,
     "metadata": {},
     "output_type": "execute_result"
    }
   ],
   "source": [
    "df[\"age\"].astype(int)\n",
    "len(df['age'])"
   ]
  },
  {
   "cell_type": "code",
   "execution_count": 26,
   "id": "148630fe",
   "metadata": {
    "execution": {
     "iopub.execute_input": "2024-05-08T19:18:51.398506Z",
     "iopub.status.busy": "2024-05-08T19:18:51.397193Z",
     "iopub.status.idle": "2024-05-08T19:18:51.406308Z",
     "shell.execute_reply": "2024-05-08T19:18:51.405081Z"
    },
    "papermill": {
     "duration": 0.03367,
     "end_time": "2024-05-08T19:18:51.408765",
     "exception": false,
     "start_time": "2024-05-08T19:18:51.375095",
     "status": "completed"
    },
    "tags": []
   },
   "outputs": [
    {
     "name": "stdout",
     "output_type": "stream",
     "text": [
      "39.193495897825315\n"
     ]
    }
   ],
   "source": [
    "## create a function to know the average users ages\n",
    "def membersAge(age: str):\n",
    "    print(df[age].mean()) \n",
    "membersAge(\"age\") #Enter the age column in string "
   ]
  },
  {
   "cell_type": "code",
   "execution_count": 27,
   "id": "64bc4039",
   "metadata": {},
   "outputs": [
    {
     "data": {
      "text/plain": [
       "183416"
      ]
     },
     "execution_count": 27,
     "metadata": {},
     "output_type": "execute_result"
    }
   ],
   "source": [
    "len(df['age'])"
   ]
  },
  {
   "cell_type": "code",
   "execution_count": 28,
   "id": "7fc25152",
   "metadata": {},
   "outputs": [
    {
     "data": {
      "text/html": [
       "<div>\n",
       "<style scoped>\n",
       "    .dataframe tbody tr th:only-of-type {\n",
       "        vertical-align: middle;\n",
       "    }\n",
       "\n",
       "    .dataframe tbody tr th {\n",
       "        vertical-align: top;\n",
       "    }\n",
       "\n",
       "    .dataframe thead th {\n",
       "        text-align: right;\n",
       "    }\n",
       "</style>\n",
       "<table border=\"1\" class=\"dataframe\">\n",
       "  <thead>\n",
       "    <tr style=\"text-align: right;\">\n",
       "      <th></th>\n",
       "      <th>duration_sec</th>\n",
       "      <th>start_time</th>\n",
       "      <th>end_time</th>\n",
       "      <th>start_station_id</th>\n",
       "      <th>start_station_name</th>\n",
       "      <th>start_station_latitude</th>\n",
       "      <th>start_station_longitude</th>\n",
       "      <th>end_station_id</th>\n",
       "      <th>end_station_name</th>\n",
       "      <th>end_station_latitude</th>\n",
       "      <th>end_station_longitude</th>\n",
       "      <th>bike_id</th>\n",
       "      <th>user_type</th>\n",
       "      <th>member_birth_year</th>\n",
       "      <th>member_gender</th>\n",
       "      <th>bike_share_for_all_trip</th>\n",
       "      <th>age</th>\n",
       "    </tr>\n",
       "  </thead>\n",
       "  <tbody>\n",
       "    <tr>\n",
       "      <th>0</th>\n",
       "      <td>52185</td>\n",
       "      <td>32:10.1</td>\n",
       "      <td>01:56.0</td>\n",
       "      <td>21.00</td>\n",
       "      <td>Montgomery St BART Station (Market St at 2nd St)</td>\n",
       "      <td>37.79</td>\n",
       "      <td>-122.40</td>\n",
       "      <td>13.00</td>\n",
       "      <td>Commercial St at Montgomery St</td>\n",
       "      <td>37.79</td>\n",
       "      <td>-122.40</td>\n",
       "      <td>4902</td>\n",
       "      <td>Customer</td>\n",
       "      <td>1,984.00</td>\n",
       "      <td>Male</td>\n",
       "      <td>No</td>\n",
       "      <td>40.00</td>\n",
       "    </tr>\n",
       "    <tr>\n",
       "      <th>1</th>\n",
       "      <td>42521</td>\n",
       "      <td>53:21.8</td>\n",
       "      <td>42:03.1</td>\n",
       "      <td>23.00</td>\n",
       "      <td>The Embarcadero at Steuart St</td>\n",
       "      <td>37.79</td>\n",
       "      <td>-122.39</td>\n",
       "      <td>81.00</td>\n",
       "      <td>Berry St at 4th St</td>\n",
       "      <td>37.78</td>\n",
       "      <td>-122.39</td>\n",
       "      <td>2535</td>\n",
       "      <td>Customer</td>\n",
       "      <td>1,984.81</td>\n",
       "      <td>Male</td>\n",
       "      <td>No</td>\n",
       "      <td>39.19</td>\n",
       "    </tr>\n",
       "    <tr>\n",
       "      <th>2</th>\n",
       "      <td>61854</td>\n",
       "      <td>13:13.2</td>\n",
       "      <td>24:08.1</td>\n",
       "      <td>86.00</td>\n",
       "      <td>Market St at Dolores St</td>\n",
       "      <td>37.77</td>\n",
       "      <td>-122.43</td>\n",
       "      <td>3.00</td>\n",
       "      <td>Powell St BART Station (Market St at 4th St)</td>\n",
       "      <td>37.79</td>\n",
       "      <td>-122.40</td>\n",
       "      <td>5905</td>\n",
       "      <td>Customer</td>\n",
       "      <td>1,972.00</td>\n",
       "      <td>Male</td>\n",
       "      <td>No</td>\n",
       "      <td>52.00</td>\n",
       "    </tr>\n",
       "    <tr>\n",
       "      <th>3</th>\n",
       "      <td>36490</td>\n",
       "      <td>54:26.0</td>\n",
       "      <td>02:36.8</td>\n",
       "      <td>375.00</td>\n",
       "      <td>Grove St at Masonic Ave</td>\n",
       "      <td>37.77</td>\n",
       "      <td>-122.45</td>\n",
       "      <td>70.00</td>\n",
       "      <td>Central Ave at Fell St</td>\n",
       "      <td>37.77</td>\n",
       "      <td>-122.44</td>\n",
       "      <td>6638</td>\n",
       "      <td>Subscriber</td>\n",
       "      <td>1,989.00</td>\n",
       "      <td>Male</td>\n",
       "      <td>No</td>\n",
       "      <td>35.00</td>\n",
       "    </tr>\n",
       "    <tr>\n",
       "      <th>4</th>\n",
       "      <td>1585</td>\n",
       "      <td>54:18.5</td>\n",
       "      <td>20:44.1</td>\n",
       "      <td>7.00</td>\n",
       "      <td>Frank H Ogawa Plaza</td>\n",
       "      <td>37.80</td>\n",
       "      <td>-122.27</td>\n",
       "      <td>222.00</td>\n",
       "      <td>10th Ave at E 15th St</td>\n",
       "      <td>37.79</td>\n",
       "      <td>-122.25</td>\n",
       "      <td>4898</td>\n",
       "      <td>Subscriber</td>\n",
       "      <td>1,974.00</td>\n",
       "      <td>Male</td>\n",
       "      <td>Yes</td>\n",
       "      <td>50.00</td>\n",
       "    </tr>\n",
       "  </tbody>\n",
       "</table>\n",
       "</div>"
      ],
      "text/plain": [
       "   duration_sec start_time end_time  start_station_id  \\\n",
       "0         52185    32:10.1  01:56.0             21.00   \n",
       "1         42521    53:21.8  42:03.1             23.00   \n",
       "2         61854    13:13.2  24:08.1             86.00   \n",
       "3         36490    54:26.0  02:36.8            375.00   \n",
       "4          1585    54:18.5  20:44.1              7.00   \n",
       "\n",
       "                                 start_station_name  start_station_latitude  \\\n",
       "0  Montgomery St BART Station (Market St at 2nd St)                   37.79   \n",
       "1                     The Embarcadero at Steuart St                   37.79   \n",
       "2                           Market St at Dolores St                   37.77   \n",
       "3                           Grove St at Masonic Ave                   37.77   \n",
       "4                               Frank H Ogawa Plaza                   37.80   \n",
       "\n",
       "   start_station_longitude  end_station_id  \\\n",
       "0                  -122.40           13.00   \n",
       "1                  -122.39           81.00   \n",
       "2                  -122.43            3.00   \n",
       "3                  -122.45           70.00   \n",
       "4                  -122.27          222.00   \n",
       "\n",
       "                               end_station_name  end_station_latitude  \\\n",
       "0                Commercial St at Montgomery St                 37.79   \n",
       "1                            Berry St at 4th St                 37.78   \n",
       "2  Powell St BART Station (Market St at 4th St)                 37.79   \n",
       "3                        Central Ave at Fell St                 37.77   \n",
       "4                         10th Ave at E 15th St                 37.79   \n",
       "\n",
       "   end_station_longitude  bike_id   user_type  member_birth_year  \\\n",
       "0                -122.40     4902    Customer           1,984.00   \n",
       "1                -122.39     2535    Customer           1,984.81   \n",
       "2                -122.40     5905    Customer           1,972.00   \n",
       "3                -122.44     6638  Subscriber           1,989.00   \n",
       "4                -122.25     4898  Subscriber           1,974.00   \n",
       "\n",
       "  member_gender bike_share_for_all_trip   age  \n",
       "0          Male                      No 40.00  \n",
       "1          Male                      No 39.19  \n",
       "2          Male                      No 52.00  \n",
       "3          Male                      No 35.00  \n",
       "4          Male                     Yes 50.00  "
      ]
     },
     "execution_count": 28,
     "metadata": {},
     "output_type": "execute_result"
    }
   ],
   "source": [
    "df.head()"
   ]
  },
  {
   "cell_type": "code",
   "execution_count": 29,
   "id": "4a619022",
   "metadata": {
    "execution": {
     "iopub.execute_input": "2024-05-08T19:18:51.452980Z",
     "iopub.status.busy": "2024-05-08T19:18:51.452540Z",
     "iopub.status.idle": "2024-05-08T19:18:51.464247Z",
     "shell.execute_reply": "2024-05-08T19:18:51.462991Z"
    },
    "papermill": {
     "duration": 0.037035,
     "end_time": "2024-05-08T19:18:51.467115",
     "exception": false,
     "start_time": "2024-05-08T19:18:51.430080",
     "status": "completed"
    },
    "tags": []
   },
   "outputs": [],
   "source": [
    "## another important factor to offer  marketing services is the trip duration time \n",
    "\n",
    "## need to change the time from second to minute to be more usable\n",
    "df['duration_sec'].dtype\n",
    "duration_min = (df['duration_sec']/60)\n",
    "df.insert(0,'duration_min',duration_min)"
   ]
  },
  {
   "cell_type": "code",
   "execution_count": 30,
   "id": "1fe88b9b",
   "metadata": {},
   "outputs": [
    {
     "data": {
      "text/html": [
       "<div>\n",
       "<style scoped>\n",
       "    .dataframe tbody tr th:only-of-type {\n",
       "        vertical-align: middle;\n",
       "    }\n",
       "\n",
       "    .dataframe tbody tr th {\n",
       "        vertical-align: top;\n",
       "    }\n",
       "\n",
       "    .dataframe thead th {\n",
       "        text-align: right;\n",
       "    }\n",
       "</style>\n",
       "<table border=\"1\" class=\"dataframe\">\n",
       "  <thead>\n",
       "    <tr style=\"text-align: right;\">\n",
       "      <th></th>\n",
       "      <th>duration_min</th>\n",
       "      <th>duration_sec</th>\n",
       "      <th>start_time</th>\n",
       "      <th>end_time</th>\n",
       "      <th>start_station_id</th>\n",
       "      <th>start_station_name</th>\n",
       "      <th>start_station_latitude</th>\n",
       "      <th>start_station_longitude</th>\n",
       "      <th>end_station_id</th>\n",
       "      <th>end_station_name</th>\n",
       "      <th>end_station_latitude</th>\n",
       "      <th>end_station_longitude</th>\n",
       "      <th>bike_id</th>\n",
       "      <th>user_type</th>\n",
       "      <th>member_birth_year</th>\n",
       "      <th>member_gender</th>\n",
       "      <th>bike_share_for_all_trip</th>\n",
       "      <th>age</th>\n",
       "    </tr>\n",
       "  </thead>\n",
       "  <tbody>\n",
       "    <tr>\n",
       "      <th>0</th>\n",
       "      <td>869.75</td>\n",
       "      <td>52185</td>\n",
       "      <td>32:10.1</td>\n",
       "      <td>01:56.0</td>\n",
       "      <td>21.00</td>\n",
       "      <td>Montgomery St BART Station (Market St at 2nd St)</td>\n",
       "      <td>37.79</td>\n",
       "      <td>-122.40</td>\n",
       "      <td>13.00</td>\n",
       "      <td>Commercial St at Montgomery St</td>\n",
       "      <td>37.79</td>\n",
       "      <td>-122.40</td>\n",
       "      <td>4902</td>\n",
       "      <td>Customer</td>\n",
       "      <td>1,984.00</td>\n",
       "      <td>Male</td>\n",
       "      <td>No</td>\n",
       "      <td>40.00</td>\n",
       "    </tr>\n",
       "    <tr>\n",
       "      <th>1</th>\n",
       "      <td>708.68</td>\n",
       "      <td>42521</td>\n",
       "      <td>53:21.8</td>\n",
       "      <td>42:03.1</td>\n",
       "      <td>23.00</td>\n",
       "      <td>The Embarcadero at Steuart St</td>\n",
       "      <td>37.79</td>\n",
       "      <td>-122.39</td>\n",
       "      <td>81.00</td>\n",
       "      <td>Berry St at 4th St</td>\n",
       "      <td>37.78</td>\n",
       "      <td>-122.39</td>\n",
       "      <td>2535</td>\n",
       "      <td>Customer</td>\n",
       "      <td>1,984.81</td>\n",
       "      <td>Male</td>\n",
       "      <td>No</td>\n",
       "      <td>39.19</td>\n",
       "    </tr>\n",
       "    <tr>\n",
       "      <th>2</th>\n",
       "      <td>1,030.90</td>\n",
       "      <td>61854</td>\n",
       "      <td>13:13.2</td>\n",
       "      <td>24:08.1</td>\n",
       "      <td>86.00</td>\n",
       "      <td>Market St at Dolores St</td>\n",
       "      <td>37.77</td>\n",
       "      <td>-122.43</td>\n",
       "      <td>3.00</td>\n",
       "      <td>Powell St BART Station (Market St at 4th St)</td>\n",
       "      <td>37.79</td>\n",
       "      <td>-122.40</td>\n",
       "      <td>5905</td>\n",
       "      <td>Customer</td>\n",
       "      <td>1,972.00</td>\n",
       "      <td>Male</td>\n",
       "      <td>No</td>\n",
       "      <td>52.00</td>\n",
       "    </tr>\n",
       "    <tr>\n",
       "      <th>3</th>\n",
       "      <td>608.17</td>\n",
       "      <td>36490</td>\n",
       "      <td>54:26.0</td>\n",
       "      <td>02:36.8</td>\n",
       "      <td>375.00</td>\n",
       "      <td>Grove St at Masonic Ave</td>\n",
       "      <td>37.77</td>\n",
       "      <td>-122.45</td>\n",
       "      <td>70.00</td>\n",
       "      <td>Central Ave at Fell St</td>\n",
       "      <td>37.77</td>\n",
       "      <td>-122.44</td>\n",
       "      <td>6638</td>\n",
       "      <td>Subscriber</td>\n",
       "      <td>1,989.00</td>\n",
       "      <td>Male</td>\n",
       "      <td>No</td>\n",
       "      <td>35.00</td>\n",
       "    </tr>\n",
       "    <tr>\n",
       "      <th>4</th>\n",
       "      <td>26.42</td>\n",
       "      <td>1585</td>\n",
       "      <td>54:18.5</td>\n",
       "      <td>20:44.1</td>\n",
       "      <td>7.00</td>\n",
       "      <td>Frank H Ogawa Plaza</td>\n",
       "      <td>37.80</td>\n",
       "      <td>-122.27</td>\n",
       "      <td>222.00</td>\n",
       "      <td>10th Ave at E 15th St</td>\n",
       "      <td>37.79</td>\n",
       "      <td>-122.25</td>\n",
       "      <td>4898</td>\n",
       "      <td>Subscriber</td>\n",
       "      <td>1,974.00</td>\n",
       "      <td>Male</td>\n",
       "      <td>Yes</td>\n",
       "      <td>50.00</td>\n",
       "    </tr>\n",
       "  </tbody>\n",
       "</table>\n",
       "</div>"
      ],
      "text/plain": [
       "   duration_min  duration_sec start_time end_time  start_station_id  \\\n",
       "0        869.75         52185    32:10.1  01:56.0             21.00   \n",
       "1        708.68         42521    53:21.8  42:03.1             23.00   \n",
       "2      1,030.90         61854    13:13.2  24:08.1             86.00   \n",
       "3        608.17         36490    54:26.0  02:36.8            375.00   \n",
       "4         26.42          1585    54:18.5  20:44.1              7.00   \n",
       "\n",
       "                                 start_station_name  start_station_latitude  \\\n",
       "0  Montgomery St BART Station (Market St at 2nd St)                   37.79   \n",
       "1                     The Embarcadero at Steuart St                   37.79   \n",
       "2                           Market St at Dolores St                   37.77   \n",
       "3                           Grove St at Masonic Ave                   37.77   \n",
       "4                               Frank H Ogawa Plaza                   37.80   \n",
       "\n",
       "   start_station_longitude  end_station_id  \\\n",
       "0                  -122.40           13.00   \n",
       "1                  -122.39           81.00   \n",
       "2                  -122.43            3.00   \n",
       "3                  -122.45           70.00   \n",
       "4                  -122.27          222.00   \n",
       "\n",
       "                               end_station_name  end_station_latitude  \\\n",
       "0                Commercial St at Montgomery St                 37.79   \n",
       "1                            Berry St at 4th St                 37.78   \n",
       "2  Powell St BART Station (Market St at 4th St)                 37.79   \n",
       "3                        Central Ave at Fell St                 37.77   \n",
       "4                         10th Ave at E 15th St                 37.79   \n",
       "\n",
       "   end_station_longitude  bike_id   user_type  member_birth_year  \\\n",
       "0                -122.40     4902    Customer           1,984.00   \n",
       "1                -122.39     2535    Customer           1,984.81   \n",
       "2                -122.40     5905    Customer           1,972.00   \n",
       "3                -122.44     6638  Subscriber           1,989.00   \n",
       "4                -122.25     4898  Subscriber           1,974.00   \n",
       "\n",
       "  member_gender bike_share_for_all_trip   age  \n",
       "0          Male                      No 40.00  \n",
       "1          Male                      No 39.19  \n",
       "2          Male                      No 52.00  \n",
       "3          Male                      No 35.00  \n",
       "4          Male                     Yes 50.00  "
      ]
     },
     "execution_count": 30,
     "metadata": {},
     "output_type": "execute_result"
    }
   ],
   "source": [
    "df.head()"
   ]
  },
  {
   "cell_type": "code",
   "execution_count": 31,
   "id": "ea302cb7",
   "metadata": {},
   "outputs": [
    {
     "data": {
      "text/plain": [
       "<bound method Series.drop of 0         52185\n",
       "1         42521\n",
       "2         61854\n",
       "3         36490\n",
       "4          1585\n",
       "          ...  \n",
       "183411      271\n",
       "183412      313\n",
       "183413      141\n",
       "183414      139\n",
       "183415      271\n",
       "Name: duration_sec, Length: 183416, dtype: int64>"
      ]
     },
     "execution_count": 31,
     "metadata": {},
     "output_type": "execute_result"
    }
   ],
   "source": [
    "df['duration_sec'].drop"
   ]
  },
  {
   "cell_type": "code",
   "execution_count": 32,
   "id": "f39d9e69",
   "metadata": {
    "execution": {
     "iopub.execute_input": "2024-05-08T19:18:51.511089Z",
     "iopub.status.busy": "2024-05-08T19:18:51.510671Z",
     "iopub.status.idle": "2024-05-08T19:18:51.519872Z",
     "shell.execute_reply": "2024-05-08T19:18:51.518620Z"
    },
    "papermill": {
     "duration": 0.034249,
     "end_time": "2024-05-08T19:18:51.522448",
     "exception": false,
     "start_time": "2024-05-08T19:18:51.488199",
     "status": "completed"
    },
    "tags": []
   },
   "outputs": [],
   "source": [
    "## I need to change the time from second to Houre  to be more usable\n",
    "df['duration_min'].dtype\n",
    "duration_hour = (df['duration_min']/60)\n",
    "df.insert(0,'duration_hour',duration_hour)\n"
   ]
  },
  {
   "cell_type": "code",
   "execution_count": 33,
   "id": "65a7a47f",
   "metadata": {},
   "outputs": [
    {
     "data": {
      "text/plain": [
       "<bound method Series.drop of 0          869.75\n",
       "1          708.68\n",
       "2        1,030.90\n",
       "3          608.17\n",
       "4           26.42\n",
       "           ...   \n",
       "183411       4.52\n",
       "183412       5.22\n",
       "183413       2.35\n",
       "183414       2.32\n",
       "183415       4.52\n",
       "Name: duration_min, Length: 183416, dtype: float64>"
      ]
     },
     "execution_count": 33,
     "metadata": {},
     "output_type": "execute_result"
    }
   ],
   "source": [
    "df['duration_min'].drop"
   ]
  },
  {
   "cell_type": "code",
   "execution_count": 34,
   "id": "bf214403",
   "metadata": {},
   "outputs": [
    {
     "data": {
      "text/html": [
       "<div>\n",
       "<style scoped>\n",
       "    .dataframe tbody tr th:only-of-type {\n",
       "        vertical-align: middle;\n",
       "    }\n",
       "\n",
       "    .dataframe tbody tr th {\n",
       "        vertical-align: top;\n",
       "    }\n",
       "\n",
       "    .dataframe thead th {\n",
       "        text-align: right;\n",
       "    }\n",
       "</style>\n",
       "<table border=\"1\" class=\"dataframe\">\n",
       "  <thead>\n",
       "    <tr style=\"text-align: right;\">\n",
       "      <th></th>\n",
       "      <th>duration_hour</th>\n",
       "      <th>duration_min</th>\n",
       "      <th>duration_sec</th>\n",
       "      <th>start_time</th>\n",
       "      <th>end_time</th>\n",
       "      <th>start_station_id</th>\n",
       "      <th>start_station_name</th>\n",
       "      <th>start_station_latitude</th>\n",
       "      <th>start_station_longitude</th>\n",
       "      <th>end_station_id</th>\n",
       "      <th>end_station_name</th>\n",
       "      <th>end_station_latitude</th>\n",
       "      <th>end_station_longitude</th>\n",
       "      <th>bike_id</th>\n",
       "      <th>user_type</th>\n",
       "      <th>member_birth_year</th>\n",
       "      <th>member_gender</th>\n",
       "      <th>bike_share_for_all_trip</th>\n",
       "      <th>age</th>\n",
       "    </tr>\n",
       "  </thead>\n",
       "  <tbody>\n",
       "    <tr>\n",
       "      <th>0</th>\n",
       "      <td>14.50</td>\n",
       "      <td>869.75</td>\n",
       "      <td>52185</td>\n",
       "      <td>32:10.1</td>\n",
       "      <td>01:56.0</td>\n",
       "      <td>21.00</td>\n",
       "      <td>Montgomery St BART Station (Market St at 2nd St)</td>\n",
       "      <td>37.79</td>\n",
       "      <td>-122.40</td>\n",
       "      <td>13.00</td>\n",
       "      <td>Commercial St at Montgomery St</td>\n",
       "      <td>37.79</td>\n",
       "      <td>-122.40</td>\n",
       "      <td>4902</td>\n",
       "      <td>Customer</td>\n",
       "      <td>1,984.00</td>\n",
       "      <td>Male</td>\n",
       "      <td>No</td>\n",
       "      <td>40.00</td>\n",
       "    </tr>\n",
       "    <tr>\n",
       "      <th>1</th>\n",
       "      <td>11.81</td>\n",
       "      <td>708.68</td>\n",
       "      <td>42521</td>\n",
       "      <td>53:21.8</td>\n",
       "      <td>42:03.1</td>\n",
       "      <td>23.00</td>\n",
       "      <td>The Embarcadero at Steuart St</td>\n",
       "      <td>37.79</td>\n",
       "      <td>-122.39</td>\n",
       "      <td>81.00</td>\n",
       "      <td>Berry St at 4th St</td>\n",
       "      <td>37.78</td>\n",
       "      <td>-122.39</td>\n",
       "      <td>2535</td>\n",
       "      <td>Customer</td>\n",
       "      <td>1,984.81</td>\n",
       "      <td>Male</td>\n",
       "      <td>No</td>\n",
       "      <td>39.19</td>\n",
       "    </tr>\n",
       "    <tr>\n",
       "      <th>2</th>\n",
       "      <td>17.18</td>\n",
       "      <td>1,030.90</td>\n",
       "      <td>61854</td>\n",
       "      <td>13:13.2</td>\n",
       "      <td>24:08.1</td>\n",
       "      <td>86.00</td>\n",
       "      <td>Market St at Dolores St</td>\n",
       "      <td>37.77</td>\n",
       "      <td>-122.43</td>\n",
       "      <td>3.00</td>\n",
       "      <td>Powell St BART Station (Market St at 4th St)</td>\n",
       "      <td>37.79</td>\n",
       "      <td>-122.40</td>\n",
       "      <td>5905</td>\n",
       "      <td>Customer</td>\n",
       "      <td>1,972.00</td>\n",
       "      <td>Male</td>\n",
       "      <td>No</td>\n",
       "      <td>52.00</td>\n",
       "    </tr>\n",
       "    <tr>\n",
       "      <th>3</th>\n",
       "      <td>10.14</td>\n",
       "      <td>608.17</td>\n",
       "      <td>36490</td>\n",
       "      <td>54:26.0</td>\n",
       "      <td>02:36.8</td>\n",
       "      <td>375.00</td>\n",
       "      <td>Grove St at Masonic Ave</td>\n",
       "      <td>37.77</td>\n",
       "      <td>-122.45</td>\n",
       "      <td>70.00</td>\n",
       "      <td>Central Ave at Fell St</td>\n",
       "      <td>37.77</td>\n",
       "      <td>-122.44</td>\n",
       "      <td>6638</td>\n",
       "      <td>Subscriber</td>\n",
       "      <td>1,989.00</td>\n",
       "      <td>Male</td>\n",
       "      <td>No</td>\n",
       "      <td>35.00</td>\n",
       "    </tr>\n",
       "    <tr>\n",
       "      <th>4</th>\n",
       "      <td>0.44</td>\n",
       "      <td>26.42</td>\n",
       "      <td>1585</td>\n",
       "      <td>54:18.5</td>\n",
       "      <td>20:44.1</td>\n",
       "      <td>7.00</td>\n",
       "      <td>Frank H Ogawa Plaza</td>\n",
       "      <td>37.80</td>\n",
       "      <td>-122.27</td>\n",
       "      <td>222.00</td>\n",
       "      <td>10th Ave at E 15th St</td>\n",
       "      <td>37.79</td>\n",
       "      <td>-122.25</td>\n",
       "      <td>4898</td>\n",
       "      <td>Subscriber</td>\n",
       "      <td>1,974.00</td>\n",
       "      <td>Male</td>\n",
       "      <td>Yes</td>\n",
       "      <td>50.00</td>\n",
       "    </tr>\n",
       "  </tbody>\n",
       "</table>\n",
       "</div>"
      ],
      "text/plain": [
       "   duration_hour  duration_min  duration_sec start_time end_time  \\\n",
       "0          14.50        869.75         52185    32:10.1  01:56.0   \n",
       "1          11.81        708.68         42521    53:21.8  42:03.1   \n",
       "2          17.18      1,030.90         61854    13:13.2  24:08.1   \n",
       "3          10.14        608.17         36490    54:26.0  02:36.8   \n",
       "4           0.44         26.42          1585    54:18.5  20:44.1   \n",
       "\n",
       "   start_station_id                                start_station_name  \\\n",
       "0             21.00  Montgomery St BART Station (Market St at 2nd St)   \n",
       "1             23.00                     The Embarcadero at Steuart St   \n",
       "2             86.00                           Market St at Dolores St   \n",
       "3            375.00                           Grove St at Masonic Ave   \n",
       "4              7.00                               Frank H Ogawa Plaza   \n",
       "\n",
       "   start_station_latitude  start_station_longitude  end_station_id  \\\n",
       "0                   37.79                  -122.40           13.00   \n",
       "1                   37.79                  -122.39           81.00   \n",
       "2                   37.77                  -122.43            3.00   \n",
       "3                   37.77                  -122.45           70.00   \n",
       "4                   37.80                  -122.27          222.00   \n",
       "\n",
       "                               end_station_name  end_station_latitude  \\\n",
       "0                Commercial St at Montgomery St                 37.79   \n",
       "1                            Berry St at 4th St                 37.78   \n",
       "2  Powell St BART Station (Market St at 4th St)                 37.79   \n",
       "3                        Central Ave at Fell St                 37.77   \n",
       "4                         10th Ave at E 15th St                 37.79   \n",
       "\n",
       "   end_station_longitude  bike_id   user_type  member_birth_year  \\\n",
       "0                -122.40     4902    Customer           1,984.00   \n",
       "1                -122.39     2535    Customer           1,984.81   \n",
       "2                -122.40     5905    Customer           1,972.00   \n",
       "3                -122.44     6638  Subscriber           1,989.00   \n",
       "4                -122.25     4898  Subscriber           1,974.00   \n",
       "\n",
       "  member_gender bike_share_for_all_trip   age  \n",
       "0          Male                      No 40.00  \n",
       "1          Male                      No 39.19  \n",
       "2          Male                      No 52.00  \n",
       "3          Male                      No 35.00  \n",
       "4          Male                     Yes 50.00  "
      ]
     },
     "execution_count": 34,
     "metadata": {},
     "output_type": "execute_result"
    }
   ],
   "source": [
    "df.head()"
   ]
  },
  {
   "cell_type": "markdown",
   "id": "c6079a1a",
   "metadata": {
    "papermill": {
     "duration": 0.020633,
     "end_time": "2024-05-08T19:18:51.564034",
     "exception": false,
     "start_time": "2024-05-08T19:18:51.543401",
     "status": "completed"
    },
    "tags": []
   },
   "source": []
  },
  {
   "cell_type": "markdown",
   "id": "893a8c3e",
   "metadata": {
    "papermill": {
     "duration": 0.020482,
     "end_time": "2024-05-08T19:18:51.605502",
     "exception": false,
     "start_time": "2024-05-08T19:18:51.585020",
     "status": "completed"
    },
    "tags": []
   },
   "source": [
    "\n",
    "# <p style=\"border-radius:15px;border-style:solid;border-color:lightblue;border-width:3px;background-color:lightblue;padding: 20px;font-family:Verdana;color:#D81F26;font-size:30px;text-align: center;\">Univariate Exploration</p>\n",
    "# <a id=\"011\"> Univariate Exploration</a>\n",
    "\n",
    "\n",
    "\n",
    "> In this section, investigate distributions of individual variables. If\n",
    "you see unusual points or outliers, take a deeper look to clean things up\n",
    "and prepare yourself to look at relationships between variables.\n",
    "\n"
   ]
  },
  {
   "cell_type": "markdown",
   "id": "ce56e6be",
   "metadata": {
    "papermill": {
     "duration": 0.021833,
     "end_time": "2024-05-08T19:18:51.649191",
     "exception": false,
     "start_time": "2024-05-08T19:18:51.627358",
     "status": "completed"
    },
    "tags": []
   },
   "source": [
    "\n",
    "# <a id=\"1\"> 1 ) . What is the distribution for User type?</a>"
   ]
  },
  {
   "cell_type": "code",
   "execution_count": 35,
   "id": "da155188",
   "metadata": {
    "execution": {
     "iopub.execute_input": "2024-05-08T19:18:51.694549Z",
     "iopub.status.busy": "2024-05-08T19:18:51.693993Z",
     "iopub.status.idle": "2024-05-08T19:18:51.698940Z",
     "shell.execute_reply": "2024-05-08T19:18:51.697829Z"
    },
    "papermill": {
     "duration": 0.030263,
     "end_time": "2024-05-08T19:18:51.701329",
     "exception": false,
     "start_time": "2024-05-08T19:18:51.671066",
     "status": "completed"
    },
    "tags": []
   },
   "outputs": [
    {
     "data": {
      "image/png": "[encoded data removed]",
      "text/plain": [
       "<Figure size 2000x1000 with 1 Axes>"
      ]
     },
     "metadata": {},
     "output_type": "display_data"
    }
   ],
   "source": [
    "## I will import seaborn library to support me in making visualizations \n",
    "\n",
    "import seaborn as sns\n",
    "plt.figure(figsize = (10,5), dpi = 200)\n",
    "\n",
    "plot = sns.countplot(data=df, x='bike_share_for_all_trip')\n",
    "\n",
    "plt.xlabel('User distribution')\n",
    "plt.ylabel('Frequency')\n",
    "plt.title(\"Represent the user's distribution depending on being a part of the Trips Program\")\n",
    "\n",
    "plt.show()"
   ]
  },
  {
   "cell_type": "markdown",
   "id": "8fdfefd1",
   "metadata": {
    "execution": {
     "iopub.execute_input": "2022-07-30T03:28:33.811729Z",
     "iopub.status.busy": "2022-07-30T03:28:33.811320Z",
     "iopub.status.idle": "2022-07-30T03:28:33.817587Z",
     "shell.execute_reply": "2022-07-30T03:28:33.816362Z",
     "shell.execute_reply.started": "2022-07-30T03:28:33.811696Z"
    },
    "papermill": {
     "duration": 0.0226,
     "end_time": "2024-05-08T19:18:52.145271",
     "exception": false,
     "start_time": "2024-05-08T19:18:52.122671",
     "status": "completed"
    },
    "tags": []
   },
   "source": [
    "> ### <mark>Your analsys and exploration here </mark>"
   ]
  },
  {
   "cell_type": "markdown",
   "id": "1ab6a61e",
   "metadata": {
    "papermill": {
     "duration": 0.022984,
     "end_time": "2024-05-08T19:18:52.190739",
     "exception": false,
     "start_time": "2024-05-08T19:18:52.167755",
     "status": "completed"
    },
    "tags": []
   },
   "source": [
    "# <a id=\"2\"> 2 ) What is the distribution for the bike share users on all Trips?</a>"
   ]
  },
  {
   "cell_type": "markdown",
   "id": "364ffa81",
   "metadata": {
    "papermill": {
     "duration": 0.024808,
     "end_time": "2024-05-08T19:18:52.704181",
     "exception": false,
     "start_time": "2024-05-08T19:18:52.679373",
     "status": "completed"
    },
    "tags": []
   },
   "source": [
    "## Left Skewed"
   ]
  },
  {
   "cell_type": "code",
   "execution_count": 36,
   "id": "fae5f8bd",
   "metadata": {},
   "outputs": [
    {
     "data": {
      "image/png": "[encoded data removed]",
      "text/plain": [
       "<Figure size 2000x1000 with 1 Axes>"
      ]
     },
     "metadata": {},
     "output_type": "display_data"
    }
   ],
   "source": [
    "import seaborn as sns\n",
    "plt.figure(figsize = (10,5), dpi = 200)\n",
    "\n",
    "plot = sns.countplot(data=df, x='age')\n",
    "plt.xlabel('User distribution')\n",
    "plt.ylabel('Frequency')\n",
    "plt.title(\"Represent the user's distribution depending on being a part of the Trips Program\")\n",
    "\n",
    "plt.show()"
   ]
  },
  {
   "cell_type": "code",
   "execution_count": 37,
   "id": "be163722",
   "metadata": {},
   "outputs": [
    {
     "name": "stderr",
     "output_type": "stream",
     "text": [
      "C:\\Users\\ASUS\\AppData\\Local\\Temp\\ipykernel_33140\\575257461.py:1: FutureWarning: The default of observed=False is deprecated and will be changed to True in a future version of pandas. Pass observed=False to retain current behavior or observed=True to adopt the future default and silence this warning.\n",
      "  df.groupby('member_gender').age.plot(kind='kde')\n"
     ]
    },
    {
     "data": {
      "text/plain": [
       "member_gender\n",
       "Female    Axes(0.125,0.11;0.775x0.77)\n",
       "Male      Axes(0.125,0.11;0.775x0.77)\n",
       "Name: age, dtype: object"
      ]
     },
     "execution_count": 37,
     "metadata": {},
     "output_type": "execute_result"
    },
    {
     "data": {
      "image/png": "[encoded data removed]",
      "text/plain": [
       "<Figure size 640x480 with 1 Axes>"
      ]
     },
     "metadata": {},
     "output_type": "display_data"
    }
   ],
   "source": [
    "df.groupby('member_gender').age.plot(kind='kde')"
   ]
  },
  {
   "cell_type": "markdown",
   "id": "4a656681",
   "metadata": {
    "papermill": {
     "duration": 0.024421,
     "end_time": "2024-05-08T19:18:52.752898",
     "exception": false,
     "start_time": "2024-05-08T19:18:52.728477",
     "status": "completed"
    },
    "tags": []
   },
   "source": [
    "# <a id=\"3\"> 3 ) What is the distribution for users' ages? </a>"
   ]
  },
  {
   "cell_type": "markdown",
   "id": "aaddc041",
   "metadata": {
    "papermill": {
     "duration": 0.024745,
     "end_time": "2024-05-08T19:18:53.219658",
     "exception": false,
     "start_time": "2024-05-08T19:18:53.194913",
     "status": "completed"
    },
    "tags": []
   },
   "source": [
    "## Normal Distribution"
   ]
  },
  {
   "cell_type": "code",
   "execution_count": 38,
   "id": "668d00f4",
   "metadata": {},
   "outputs": [
    {
     "data": {
      "image/png": "[encoded data removed]",
      "text/plain": [
       "<Figure size 640x480 with 1 Axes>"
      ]
     },
     "metadata": {},
     "output_type": "display_data"
    },
    {
     "name": "stdout",
     "output_type": "stream",
     "text": [
      "        duration_hour  duration_min  duration_sec start_time end_time  \\\n",
      "5                0.50         29.88          1793    49:58.6  19:51.8   \n",
      "43               0.03          1.93           116    44:01.0  45:57.5   \n",
      "67               0.19         11.35           681    19:37.4  30:58.9   \n",
      "117              0.06          3.83           230    01:06.2  04:56.8   \n",
      "152              0.06          3.60           216    45:22.2  48:58.8   \n",
      "...               ...           ...           ...        ...      ...   \n",
      "183296           0.13          7.65           459    15:05.2  22:44.3   \n",
      "183304           0.10          6.22           373    42:44.7  48:58.1   \n",
      "183305           0.03          1.67           100    46:54.8  48:34.8   \n",
      "183385           0.11          6.67           400    46:47.3  53:27.6   \n",
      "183388           0.14          8.17           490    39:53.1  48:03.3   \n",
      "\n",
      "        start_station_id                                 start_station_name  \\\n",
      "5                  93.00                       4th St at Mission Bay Blvd S   \n",
      "43                104.00                                  4th St at 16th St   \n",
      "67                 43.00  San Francisco Public Library (Grove St at Hyde...   \n",
      "117                73.00                             Pierce St at Haight St   \n",
      "152               172.00                            College Ave at Taft Ave   \n",
      "...                  ...                                                ...   \n",
      "183296            104.00                                  4th St at 16th St   \n",
      "183304            131.00                              22nd St at Dolores St   \n",
      "183305             80.00                              Townsend St at 5th St   \n",
      "183385            220.00                        San Pablo Ave at MLK Jr Way   \n",
      "183388             61.00                                Howard St at 8th St   \n",
      "\n",
      "        start_station_latitude  start_station_longitude  end_station_id  \\\n",
      "5                        37.77                  -122.39          323.00   \n",
      "43                       37.77                  -122.39           93.00   \n",
      "67                       37.78                  -122.42           70.00   \n",
      "117                      37.77                  -122.43          119.00   \n",
      "152                      37.84                  -122.25          210.00   \n",
      "...                        ...                      ...             ...   \n",
      "183296                   37.77                  -122.39           30.00   \n",
      "183304                   37.76                  -122.43          129.00   \n",
      "183305                   37.78                  -122.40           67.00   \n",
      "183385                   37.81                  -122.27          337.00   \n",
      "183388                   37.78                  -122.41           81.00   \n",
      "\n",
      "                                         end_station_name  \\\n",
      "5                                      Broadway at Kearny   \n",
      "43                           4th St at Mission Bay Blvd S   \n",
      "67                                 Central Ave at Fell St   \n",
      "117                                     18th St at Noe St   \n",
      "152                                     45th St at Manila   \n",
      "...                                                   ...   \n",
      "183296     San Francisco Caltrain (Townsend St at 4th St)   \n",
      "183304                             Harrison St at 20th St   \n",
      "183305  San Francisco Caltrain Station 2  (Townsend St...   \n",
      "183385                              Webster St at 19th St   \n",
      "183388                                 Berry St at 4th St   \n",
      "\n",
      "        end_station_latitude  end_station_longitude  bike_id   user_type  \\\n",
      "5                      37.80                -122.41     5200  Subscriber   \n",
      "43                     37.77                -122.39      823  Subscriber   \n",
      "67                     37.77                -122.44     6333  Subscriber   \n",
      "117                    37.76                -122.43     6321  Subscriber   \n",
      "152                    37.83                -122.26     5701  Subscriber   \n",
      "...                      ...                    ...      ...         ...   \n",
      "183296                 37.78                -122.40     3446  Subscriber   \n",
      "183304                 37.76                -122.41     5427  Subscriber   \n",
      "183305                 37.78                -122.40     3138  Subscriber   \n",
      "183385                 37.81                -122.27     3487  Subscriber   \n",
      "183388                 37.78                -122.39     5411  Subscriber   \n",
      "\n",
      "        member_birth_year member_gender bike_share_for_all_trip   age  \n",
      "5                1,959.00          Male                      No 65.00  \n",
      "43               1,959.00          Male                      No 65.00  \n",
      "67               1,959.00          Male                      No 65.00  \n",
      "117              1,963.00          Male                      No 61.00  \n",
      "152              1,964.00          Male                      No 60.00  \n",
      "...                   ...           ...                     ...   ...  \n",
      "183296           1,959.00          Male                      No 65.00  \n",
      "183304           1,958.00          Male                      No 66.00  \n",
      "183305           1,950.00          Male                      No 74.00  \n",
      "183385           1,945.00          Male                     Yes 79.00  \n",
      "183388           1,927.00          Male                      No 97.00  \n",
      "\n",
      "[9078 rows x 19 columns]\n"
     ]
    },
    {
     "data": {
      "image/png": "[encoded data removed]",
      "text/plain": [
       "<Figure size 640x480 with 1 Axes>"
      ]
     },
     "metadata": {},
     "output_type": "display_data"
    }
   ],
   "source": [
    "plot = sns.boxplot(x='age', data=df, orient='h')\n",
    "plt.show()\n",
    "plt.xlabel(\"Age\")\n",
    "# Identify outliers using IQR\n",
    "Q1 = df['age'].quantile(0.25)\n",
    "Q3 = df['age'].quantile(0.75)\n",
    "IQR = Q3 - Q1\n",
    "\n",
    "outliers = df[(df['age'] < Q1 - 1.5*IQR) | (df['age'] > Q3 + 1.5*IQR)]\n",
    "print(outliers)\n",
    "\n"
   ]
  },
  {
   "cell_type": "markdown",
   "id": "01e99ec2",
   "metadata": {
    "papermill": {
     "duration": 0.024025,
     "end_time": "2024-05-08T19:18:53.268701",
     "exception": false,
     "start_time": "2024-05-08T19:18:53.244676",
     "status": "completed"
    },
    "tags": []
   },
   "source": [
    "\n",
    "# <a id=\"4\">  4 ) . Do the users' ages have outlier values?</a>\n"
   ]
  },
  {
   "cell_type": "markdown",
   "id": "94649142",
   "metadata": {
    "execution": {
     "iopub.execute_input": "2022-07-30T03:30:06.647115Z",
     "iopub.status.busy": "2022-07-30T03:30:06.646700Z",
     "iopub.status.idle": "2022-07-30T03:30:06.654926Z",
     "shell.execute_reply": "2022-07-30T03:30:06.652763Z",
     "shell.execute_reply.started": "2022-07-30T03:30:06.647081Z"
    },
    "papermill": {
     "duration": 0.023611,
     "end_time": "2024-05-08T19:18:53.316739",
     "exception": false,
     "start_time": "2024-05-08T19:18:53.293128",
     "status": "completed"
    },
    "tags": []
   },
   "source": [
    "## YES"
   ]
  },
  {
   "cell_type": "markdown",
   "id": "9594cf70",
   "metadata": {
    "papermill": {
     "duration": 0.025594,
     "end_time": "2024-05-08T19:18:53.787206",
     "exception": false,
     "start_time": "2024-05-08T19:18:53.761612",
     "status": "completed"
    },
    "tags": []
   },
   "source": [
    "# <a id=\"5\">  5 ) . What is the distribution for the trip duration in minutes? </a>"
   ]
  },
  {
   "cell_type": "markdown",
   "id": "088343d0",
   "metadata": {},
   "source": [
    "## SKEWED LEFT"
   ]
  },
  {
   "cell_type": "code",
   "execution_count": 39,
   "id": "b16e11f1",
   "metadata": {
    "execution": {
     "iopub.execute_input": "2024-05-08T19:18:53.841097Z",
     "iopub.status.busy": "2024-05-08T19:18:53.840678Z",
     "iopub.status.idle": "2024-05-08T19:18:53.858264Z",
     "shell.execute_reply": "2024-05-08T19:18:53.857077Z"
    },
    "papermill": {
     "duration": 0.047619,
     "end_time": "2024-05-08T19:18:53.860818",
     "exception": false,
     "start_time": "2024-05-08T19:18:53.813199",
     "status": "completed"
    },
    "tags": []
   },
   "outputs": [
    {
     "data": {
      "image/png": "[encoded data removed]",
      "text/plain": [
       "<Figure size 2000x1000 with 1 Axes>"
      ]
     },
     "metadata": {},
     "output_type": "display_data"
    }
   ],
   "source": [
    "plt.figure(figsize = (10,5), dpi = 200)\n",
    "\n",
    "plot = sns.countplot(data=df, x='duration_min')\n",
    "\n",
    "plt.xlabel('User distribution')\n",
    "plt.ylabel('Frequency')\n",
    "plt.title(\"Represent the user's distribution depending on being a part of the Trips Program\")\n",
    "\n",
    "plt.show()"
   ]
  },
  {
   "cell_type": "code",
   "execution_count": 40,
   "id": "bf5247de",
   "metadata": {
    "execution": {
     "iopub.execute_input": "2024-05-08T19:18:53.914860Z",
     "iopub.status.busy": "2024-05-08T19:18:53.914418Z",
     "iopub.status.idle": "2024-05-08T19:18:54.342662Z",
     "shell.execute_reply": "2024-05-08T19:18:54.341115Z"
    },
    "papermill": {
     "duration": 0.458722,
     "end_time": "2024-05-08T19:18:54.345708",
     "exception": false,
     "start_time": "2024-05-08T19:18:53.886986",
     "status": "completed"
    },
    "tags": []
   },
   "outputs": [],
   "source": [
    "# Make visualization to easy get insight\n"
   ]
  },
  {
   "cell_type": "markdown",
   "id": "6d91b7f7",
   "metadata": {
    "papermill": {
     "duration": 0.027594,
     "end_time": "2024-05-08T19:18:54.401179",
     "exception": false,
     "start_time": "2024-05-08T19:18:54.373585",
     "status": "completed"
    },
    "tags": []
   },
   "source": [
    "> ### <mark>Your analsys and exploration here </mark>"
   ]
  },
  {
   "cell_type": "markdown",
   "id": "d563360f",
   "metadata": {
    "papermill": {
     "duration": 0.027079,
     "end_time": "2024-05-08T19:18:54.456767",
     "exception": false,
     "start_time": "2024-05-08T19:18:54.429688",
     "status": "completed"
    },
    "tags": []
   },
   "source": [
    "\n",
    "# <a id=\"6\"> 6 ) . What is the distribution for member_gender?</a>"
   ]
  },
  {
   "cell_type": "markdown",
   "id": "59795dbc",
   "metadata": {},
   "source": [
    "## Skewed Left"
   ]
  },
  {
   "cell_type": "code",
   "execution_count": 41,
   "id": "65500a29",
   "metadata": {
    "execution": {
     "iopub.execute_input": "2024-05-08T19:18:54.515785Z",
     "iopub.status.busy": "2024-05-08T19:18:54.514596Z",
     "iopub.status.idle": "2024-05-08T19:18:54.814861Z",
     "shell.execute_reply": "2024-05-08T19:18:54.813659Z"
    },
    "papermill": {
     "duration": 0.332401,
     "end_time": "2024-05-08T19:18:54.817557",
     "exception": false,
     "start_time": "2024-05-08T19:18:54.485156",
     "status": "completed"
    },
    "tags": []
   },
   "outputs": [
    {
     "data": {
      "image/png": "[encoded data removed]",
      "text/plain": [
       "<Figure size 2000x1000 with 1 Axes>"
      ]
     },
     "metadata": {},
     "output_type": "display_data"
    }
   ],
   "source": [
    "plt.figure(figsize = (10,5), dpi = 200)\n",
    "\n",
    "plot = sns.countplot(data=df, x='member_gender')\n",
    "plt.xlabel('User distribution')\n",
    "plt.ylabel('Frequency')\n",
    "plt.title(\"Represent the user's distribution depending on being a part of the Trips Program\")\n",
    "\n",
    "plt.show()"
   ]
  },
  {
   "cell_type": "markdown",
   "id": "4629d35e",
   "metadata": {
    "papermill": {
     "duration": 0.028038,
     "end_time": "2024-05-08T19:18:54.874400",
     "exception": false,
     "start_time": "2024-05-08T19:18:54.846362",
     "status": "completed"
    },
    "tags": []
   },
   "source": [
    "> ### <mark>Your analsys and exploration here </mark>"
   ]
  },
  {
   "cell_type": "markdown",
   "id": "ae88af93",
   "metadata": {
    "papermill": {
     "duration": 0.030323,
     "end_time": "2024-05-08T19:18:54.933945",
     "exception": false,
     "start_time": "2024-05-08T19:18:54.903622",
     "status": "completed"
    },
    "tags": []
   },
   "source": [
    "# <a id=\"7\">    7 )  . What is the distribution for the trip duration in Hours?  </a>"
   ]
  },
  {
   "cell_type": "markdown",
   "id": "f16016b5",
   "metadata": {},
   "source": [
    "## Skewed Right"
   ]
  },
  {
   "cell_type": "markdown",
   "id": "8c34fabf",
   "metadata": {
    "papermill": {
     "duration": 0.029429,
     "end_time": "2024-05-08T19:18:55.413759",
     "exception": false,
     "start_time": "2024-05-08T19:18:55.384330",
     "status": "completed"
    },
    "tags": []
   },
   "source": [
    "> ### <mark>Your analsys and exploration here </mark>"
   ]
  },
  {
   "cell_type": "markdown",
   "id": "796695d2",
   "metadata": {
    "papermill": {
     "duration": 0.029701,
     "end_time": "2024-05-08T19:18:55.475214",
     "exception": false,
     "start_time": "2024-05-08T19:18:55.445513",
     "status": "completed"
    },
    "tags": []
   },
   "source": [
    "### The variables distribution:\n",
    "\n",
    "\n",
    "> The distribution of duration present that most of the trips were less than 30 minutes ( we can notice that from the minutes and the hour charts )\n",
    "\n",
    "\n",
    "> And the Age distribution is ( left Skewed ) as most users age are  22 - 39\n",
    "\n",
    "\n",
    "> Most users are subscribers, not Customers and  Males as shown in the charts above.\n",
    "\n",
    "\n",
    "\n",
    "### Were there any interesting and outliers \n",
    "\n",
    "\n",
    "- We got Age outliers for for more than 100 .\n",
    "\n",
    "\n",
    "\n",
    "- The distribution of duration was strange where the minutes and the hour charts were 30 minutes or less."
   ]
  },
  {
   "cell_type": "markdown",
   "id": "e77f0d7b",
   "metadata": {
    "papermill": {
     "duration": 0.030295,
     "end_time": "2024-05-08T19:18:55.535533",
     "exception": false,
     "start_time": "2024-05-08T19:18:55.505238",
     "status": "completed"
    },
    "tags": []
   },
   "source": [
    "# <p style=\"border-radius:15px;border-style:solid;border-color:lightblue;border-width:3px;background-color:lightblue;padding: 20px;font-family:Verdana;color:#D81F26;font-size:30px;text-align: center;\">Bivariate Exploration</p>\n",
    "# <a id=\"111\"> Bivariate Exploration</a>\n",
    "\n",
    "Now let's investigate relationships between pairs of variables in our data."
   ]
  },
  {
   "cell_type": "code",
   "execution_count": 42,
   "id": "1d0c0d65",
   "metadata": {},
   "outputs": [
    {
     "data": {
      "text/html": [
       "<div>\n",
       "<style scoped>\n",
       "    .dataframe tbody tr th:only-of-type {\n",
       "        vertical-align: middle;\n",
       "    }\n",
       "\n",
       "    .dataframe tbody tr th {\n",
       "        vertical-align: top;\n",
       "    }\n",
       "\n",
       "    .dataframe thead th {\n",
       "        text-align: right;\n",
       "    }\n",
       "</style>\n",
       "<table border=\"1\" class=\"dataframe\">\n",
       "  <thead>\n",
       "    <tr style=\"text-align: right;\">\n",
       "      <th></th>\n",
       "      <th>duration_hour</th>\n",
       "      <th>duration_min</th>\n",
       "      <th>duration_sec</th>\n",
       "      <th>start_time</th>\n",
       "      <th>end_time</th>\n",
       "      <th>start_station_id</th>\n",
       "      <th>start_station_name</th>\n",
       "      <th>start_station_latitude</th>\n",
       "      <th>start_station_longitude</th>\n",
       "      <th>end_station_id</th>\n",
       "      <th>end_station_name</th>\n",
       "      <th>end_station_latitude</th>\n",
       "      <th>end_station_longitude</th>\n",
       "      <th>bike_id</th>\n",
       "      <th>user_type</th>\n",
       "      <th>member_birth_year</th>\n",
       "      <th>member_gender</th>\n",
       "      <th>bike_share_for_all_trip</th>\n",
       "      <th>age</th>\n",
       "    </tr>\n",
       "  </thead>\n",
       "  <tbody>\n",
       "    <tr>\n",
       "      <th>0</th>\n",
       "      <td>14.50</td>\n",
       "      <td>869.75</td>\n",
       "      <td>52185</td>\n",
       "      <td>32:10.1</td>\n",
       "      <td>01:56.0</td>\n",
       "      <td>21.00</td>\n",
       "      <td>Montgomery St BART Station (Market St at 2nd St)</td>\n",
       "      <td>37.79</td>\n",
       "      <td>-122.40</td>\n",
       "      <td>13.00</td>\n",
       "      <td>Commercial St at Montgomery St</td>\n",
       "      <td>37.79</td>\n",
       "      <td>-122.40</td>\n",
       "      <td>4902</td>\n",
       "      <td>Customer</td>\n",
       "      <td>1,984.00</td>\n",
       "      <td>Male</td>\n",
       "      <td>No</td>\n",
       "      <td>40.00</td>\n",
       "    </tr>\n",
       "    <tr>\n",
       "      <th>1</th>\n",
       "      <td>11.81</td>\n",
       "      <td>708.68</td>\n",
       "      <td>42521</td>\n",
       "      <td>53:21.8</td>\n",
       "      <td>42:03.1</td>\n",
       "      <td>23.00</td>\n",
       "      <td>The Embarcadero at Steuart St</td>\n",
       "      <td>37.79</td>\n",
       "      <td>-122.39</td>\n",
       "      <td>81.00</td>\n",
       "      <td>Berry St at 4th St</td>\n",
       "      <td>37.78</td>\n",
       "      <td>-122.39</td>\n",
       "      <td>2535</td>\n",
       "      <td>Customer</td>\n",
       "      <td>1,984.81</td>\n",
       "      <td>Male</td>\n",
       "      <td>No</td>\n",
       "      <td>39.19</td>\n",
       "    </tr>\n",
       "    <tr>\n",
       "      <th>2</th>\n",
       "      <td>17.18</td>\n",
       "      <td>1,030.90</td>\n",
       "      <td>61854</td>\n",
       "      <td>13:13.2</td>\n",
       "      <td>24:08.1</td>\n",
       "      <td>86.00</td>\n",
       "      <td>Market St at Dolores St</td>\n",
       "      <td>37.77</td>\n",
       "      <td>-122.43</td>\n",
       "      <td>3.00</td>\n",
       "      <td>Powell St BART Station (Market St at 4th St)</td>\n",
       "      <td>37.79</td>\n",
       "      <td>-122.40</td>\n",
       "      <td>5905</td>\n",
       "      <td>Customer</td>\n",
       "      <td>1,972.00</td>\n",
       "      <td>Male</td>\n",
       "      <td>No</td>\n",
       "      <td>52.00</td>\n",
       "    </tr>\n",
       "    <tr>\n",
       "      <th>3</th>\n",
       "      <td>10.14</td>\n",
       "      <td>608.17</td>\n",
       "      <td>36490</td>\n",
       "      <td>54:26.0</td>\n",
       "      <td>02:36.8</td>\n",
       "      <td>375.00</td>\n",
       "      <td>Grove St at Masonic Ave</td>\n",
       "      <td>37.77</td>\n",
       "      <td>-122.45</td>\n",
       "      <td>70.00</td>\n",
       "      <td>Central Ave at Fell St</td>\n",
       "      <td>37.77</td>\n",
       "      <td>-122.44</td>\n",
       "      <td>6638</td>\n",
       "      <td>Subscriber</td>\n",
       "      <td>1,989.00</td>\n",
       "      <td>Male</td>\n",
       "      <td>No</td>\n",
       "      <td>35.00</td>\n",
       "    </tr>\n",
       "    <tr>\n",
       "      <th>4</th>\n",
       "      <td>0.44</td>\n",
       "      <td>26.42</td>\n",
       "      <td>1585</td>\n",
       "      <td>54:18.5</td>\n",
       "      <td>20:44.1</td>\n",
       "      <td>7.00</td>\n",
       "      <td>Frank H Ogawa Plaza</td>\n",
       "      <td>37.80</td>\n",
       "      <td>-122.27</td>\n",
       "      <td>222.00</td>\n",
       "      <td>10th Ave at E 15th St</td>\n",
       "      <td>37.79</td>\n",
       "      <td>-122.25</td>\n",
       "      <td>4898</td>\n",
       "      <td>Subscriber</td>\n",
       "      <td>1,974.00</td>\n",
       "      <td>Male</td>\n",
       "      <td>Yes</td>\n",
       "      <td>50.00</td>\n",
       "    </tr>\n",
       "    <tr>\n",
       "      <th>5</th>\n",
       "      <td>0.50</td>\n",
       "      <td>29.88</td>\n",
       "      <td>1793</td>\n",
       "      <td>49:58.6</td>\n",
       "      <td>19:51.8</td>\n",
       "      <td>93.00</td>\n",
       "      <td>4th St at Mission Bay Blvd S</td>\n",
       "      <td>37.77</td>\n",
       "      <td>-122.39</td>\n",
       "      <td>323.00</td>\n",
       "      <td>Broadway at Kearny</td>\n",
       "      <td>37.80</td>\n",
       "      <td>-122.41</td>\n",
       "      <td>5200</td>\n",
       "      <td>Subscriber</td>\n",
       "      <td>1,959.00</td>\n",
       "      <td>Male</td>\n",
       "      <td>No</td>\n",
       "      <td>65.00</td>\n",
       "    </tr>\n",
       "    <tr>\n",
       "      <th>6</th>\n",
       "      <td>0.32</td>\n",
       "      <td>19.12</td>\n",
       "      <td>1147</td>\n",
       "      <td>55:35.1</td>\n",
       "      <td>14:42.6</td>\n",
       "      <td>300.00</td>\n",
       "      <td>Palm St at Willow St</td>\n",
       "      <td>37.32</td>\n",
       "      <td>-121.88</td>\n",
       "      <td>312.00</td>\n",
       "      <td>San Jose Diridon Station</td>\n",
       "      <td>37.33</td>\n",
       "      <td>-121.90</td>\n",
       "      <td>3803</td>\n",
       "      <td>Subscriber</td>\n",
       "      <td>1,983.00</td>\n",
       "      <td>Female</td>\n",
       "      <td>No</td>\n",
       "      <td>41.00</td>\n",
       "    </tr>\n",
       "    <tr>\n",
       "      <th>7</th>\n",
       "      <td>0.45</td>\n",
       "      <td>26.92</td>\n",
       "      <td>1615</td>\n",
       "      <td>41:06.8</td>\n",
       "      <td>08:02.8</td>\n",
       "      <td>10.00</td>\n",
       "      <td>Washington St at Kearny St</td>\n",
       "      <td>37.80</td>\n",
       "      <td>-122.40</td>\n",
       "      <td>127.00</td>\n",
       "      <td>Valencia St at 21st St</td>\n",
       "      <td>37.76</td>\n",
       "      <td>-122.42</td>\n",
       "      <td>6329</td>\n",
       "      <td>Subscriber</td>\n",
       "      <td>1,989.00</td>\n",
       "      <td>Male</td>\n",
       "      <td>No</td>\n",
       "      <td>35.00</td>\n",
       "    </tr>\n",
       "    <tr>\n",
       "      <th>8</th>\n",
       "      <td>0.44</td>\n",
       "      <td>26.17</td>\n",
       "      <td>1570</td>\n",
       "      <td>41:48.8</td>\n",
       "      <td>07:59.7</td>\n",
       "      <td>10.00</td>\n",
       "      <td>Washington St at Kearny St</td>\n",
       "      <td>37.80</td>\n",
       "      <td>-122.40</td>\n",
       "      <td>127.00</td>\n",
       "      <td>Valencia St at 21st St</td>\n",
       "      <td>37.76</td>\n",
       "      <td>-122.42</td>\n",
       "      <td>6548</td>\n",
       "      <td>Subscriber</td>\n",
       "      <td>1,988.00</td>\n",
       "      <td>Male</td>\n",
       "      <td>No</td>\n",
       "      <td>36.00</td>\n",
       "    </tr>\n",
       "    <tr>\n",
       "      <th>9</th>\n",
       "      <td>0.29</td>\n",
       "      <td>17.48</td>\n",
       "      <td>1049</td>\n",
       "      <td>49:47.7</td>\n",
       "      <td>07:17.0</td>\n",
       "      <td>19.00</td>\n",
       "      <td>Post St at Kearny St</td>\n",
       "      <td>37.79</td>\n",
       "      <td>-122.40</td>\n",
       "      <td>121.00</td>\n",
       "      <td>Mission Playground</td>\n",
       "      <td>37.76</td>\n",
       "      <td>-122.42</td>\n",
       "      <td>6488</td>\n",
       "      <td>Subscriber</td>\n",
       "      <td>1,992.00</td>\n",
       "      <td>Male</td>\n",
       "      <td>No</td>\n",
       "      <td>32.00</td>\n",
       "    </tr>\n",
       "    <tr>\n",
       "      <th>10</th>\n",
       "      <td>0.13</td>\n",
       "      <td>7.63</td>\n",
       "      <td>458</td>\n",
       "      <td>57:57.2</td>\n",
       "      <td>05:35.4</td>\n",
       "      <td>370.00</td>\n",
       "      <td>Jones St at Post St</td>\n",
       "      <td>37.79</td>\n",
       "      <td>-122.41</td>\n",
       "      <td>43.00</td>\n",
       "      <td>San Francisco Public Library (Grove St at Hyde...</td>\n",
       "      <td>37.78</td>\n",
       "      <td>-122.42</td>\n",
       "      <td>5318</td>\n",
       "      <td>Subscriber</td>\n",
       "      <td>1,996.00</td>\n",
       "      <td>Female</td>\n",
       "      <td>Yes</td>\n",
       "      <td>28.00</td>\n",
       "    </tr>\n",
       "    <tr>\n",
       "      <th>11</th>\n",
       "      <td>0.14</td>\n",
       "      <td>8.43</td>\n",
       "      <td>506</td>\n",
       "      <td>56:55.5</td>\n",
       "      <td>05:21.7</td>\n",
       "      <td>44.00</td>\n",
       "      <td>Civic Center/UN Plaza BART Station (Market St ...</td>\n",
       "      <td>37.78</td>\n",
       "      <td>-122.41</td>\n",
       "      <td>343.00</td>\n",
       "      <td>Bryant St at 2nd St</td>\n",
       "      <td>37.78</td>\n",
       "      <td>-122.39</td>\n",
       "      <td>5848</td>\n",
       "      <td>Subscriber</td>\n",
       "      <td>1,993.00</td>\n",
       "      <td>Male</td>\n",
       "      <td>No</td>\n",
       "      <td>31.00</td>\n",
       "    </tr>\n",
       "    <tr>\n",
       "      <th>12</th>\n",
       "      <td>0.33</td>\n",
       "      <td>19.60</td>\n",
       "      <td>1176</td>\n",
       "      <td>45:12.7</td>\n",
       "      <td>04:49.2</td>\n",
       "      <td>127.00</td>\n",
       "      <td>Valencia St at 21st St</td>\n",
       "      <td>37.76</td>\n",
       "      <td>-122.42</td>\n",
       "      <td>323.00</td>\n",
       "      <td>Broadway at Kearny</td>\n",
       "      <td>37.80</td>\n",
       "      <td>-122.41</td>\n",
       "      <td>5328</td>\n",
       "      <td>Customer</td>\n",
       "      <td>1,990.00</td>\n",
       "      <td>Male</td>\n",
       "      <td>No</td>\n",
       "      <td>34.00</td>\n",
       "    </tr>\n",
       "    <tr>\n",
       "      <th>13</th>\n",
       "      <td>0.25</td>\n",
       "      <td>15.25</td>\n",
       "      <td>915</td>\n",
       "      <td>49:06.1</td>\n",
       "      <td>04:21.9</td>\n",
       "      <td>252.00</td>\n",
       "      <td>Channing Way at Shattuck Ave</td>\n",
       "      <td>37.87</td>\n",
       "      <td>-122.27</td>\n",
       "      <td>244.00</td>\n",
       "      <td>Shattuck Ave at Hearst Ave</td>\n",
       "      <td>37.87</td>\n",
       "      <td>-122.27</td>\n",
       "      <td>5101</td>\n",
       "      <td>Subscriber</td>\n",
       "      <td>1,984.81</td>\n",
       "      <td>Male</td>\n",
       "      <td>No</td>\n",
       "      <td>39.19</td>\n",
       "    </tr>\n",
       "    <tr>\n",
       "      <th>14</th>\n",
       "      <td>0.11</td>\n",
       "      <td>6.58</td>\n",
       "      <td>395</td>\n",
       "      <td>56:26.8</td>\n",
       "      <td>03:01.9</td>\n",
       "      <td>243.00</td>\n",
       "      <td>Bancroft Way at College Ave</td>\n",
       "      <td>37.87</td>\n",
       "      <td>-122.25</td>\n",
       "      <td>252.00</td>\n",
       "      <td>Channing Way at Shattuck Ave</td>\n",
       "      <td>37.87</td>\n",
       "      <td>-122.27</td>\n",
       "      <td>4786</td>\n",
       "      <td>Subscriber</td>\n",
       "      <td>1,988.00</td>\n",
       "      <td>Male</td>\n",
       "      <td>No</td>\n",
       "      <td>36.00</td>\n",
       "    </tr>\n",
       "  </tbody>\n",
       "</table>\n",
       "</div>"
      ],
      "text/plain": [
       "    duration_hour  duration_min  duration_sec start_time end_time  \\\n",
       "0           14.50        869.75         52185    32:10.1  01:56.0   \n",
       "1           11.81        708.68         42521    53:21.8  42:03.1   \n",
       "2           17.18      1,030.90         61854    13:13.2  24:08.1   \n",
       "3           10.14        608.17         36490    54:26.0  02:36.8   \n",
       "4            0.44         26.42          1585    54:18.5  20:44.1   \n",
       "5            0.50         29.88          1793    49:58.6  19:51.8   \n",
       "6            0.32         19.12          1147    55:35.1  14:42.6   \n",
       "7            0.45         26.92          1615    41:06.8  08:02.8   \n",
       "8            0.44         26.17          1570    41:48.8  07:59.7   \n",
       "9            0.29         17.48          1049    49:47.7  07:17.0   \n",
       "10           0.13          7.63           458    57:57.2  05:35.4   \n",
       "11           0.14          8.43           506    56:55.5  05:21.7   \n",
       "12           0.33         19.60          1176    45:12.7  04:49.2   \n",
       "13           0.25         15.25           915    49:06.1  04:21.9   \n",
       "14           0.11          6.58           395    56:26.8  03:01.9   \n",
       "\n",
       "    start_station_id                                 start_station_name  \\\n",
       "0              21.00   Montgomery St BART Station (Market St at 2nd St)   \n",
       "1              23.00                      The Embarcadero at Steuart St   \n",
       "2              86.00                            Market St at Dolores St   \n",
       "3             375.00                            Grove St at Masonic Ave   \n",
       "4               7.00                                Frank H Ogawa Plaza   \n",
       "5              93.00                       4th St at Mission Bay Blvd S   \n",
       "6             300.00                               Palm St at Willow St   \n",
       "7              10.00                         Washington St at Kearny St   \n",
       "8              10.00                         Washington St at Kearny St   \n",
       "9              19.00                               Post St at Kearny St   \n",
       "10            370.00                                Jones St at Post St   \n",
       "11             44.00  Civic Center/UN Plaza BART Station (Market St ...   \n",
       "12            127.00                             Valencia St at 21st St   \n",
       "13            252.00                       Channing Way at Shattuck Ave   \n",
       "14            243.00                        Bancroft Way at College Ave   \n",
       "\n",
       "    start_station_latitude  start_station_longitude  end_station_id  \\\n",
       "0                    37.79                  -122.40           13.00   \n",
       "1                    37.79                  -122.39           81.00   \n",
       "2                    37.77                  -122.43            3.00   \n",
       "3                    37.77                  -122.45           70.00   \n",
       "4                    37.80                  -122.27          222.00   \n",
       "5                    37.77                  -122.39          323.00   \n",
       "6                    37.32                  -121.88          312.00   \n",
       "7                    37.80                  -122.40          127.00   \n",
       "8                    37.80                  -122.40          127.00   \n",
       "9                    37.79                  -122.40          121.00   \n",
       "10                   37.79                  -122.41           43.00   \n",
       "11                   37.78                  -122.41          343.00   \n",
       "12                   37.76                  -122.42          323.00   \n",
       "13                   37.87                  -122.27          244.00   \n",
       "14                   37.87                  -122.25          252.00   \n",
       "\n",
       "                                     end_station_name  end_station_latitude  \\\n",
       "0                      Commercial St at Montgomery St                 37.79   \n",
       "1                                  Berry St at 4th St                 37.78   \n",
       "2        Powell St BART Station (Market St at 4th St)                 37.79   \n",
       "3                              Central Ave at Fell St                 37.77   \n",
       "4                               10th Ave at E 15th St                 37.79   \n",
       "5                                  Broadway at Kearny                 37.80   \n",
       "6                            San Jose Diridon Station                 37.33   \n",
       "7                              Valencia St at 21st St                 37.76   \n",
       "8                              Valencia St at 21st St                 37.76   \n",
       "9                                  Mission Playground                 37.76   \n",
       "10  San Francisco Public Library (Grove St at Hyde...                 37.78   \n",
       "11                                Bryant St at 2nd St                 37.78   \n",
       "12                                 Broadway at Kearny                 37.80   \n",
       "13                         Shattuck Ave at Hearst Ave                 37.87   \n",
       "14                       Channing Way at Shattuck Ave                 37.87   \n",
       "\n",
       "    end_station_longitude  bike_id   user_type  member_birth_year  \\\n",
       "0                 -122.40     4902    Customer           1,984.00   \n",
       "1                 -122.39     2535    Customer           1,984.81   \n",
       "2                 -122.40     5905    Customer           1,972.00   \n",
       "3                 -122.44     6638  Subscriber           1,989.00   \n",
       "4                 -122.25     4898  Subscriber           1,974.00   \n",
       "5                 -122.41     5200  Subscriber           1,959.00   \n",
       "6                 -121.90     3803  Subscriber           1,983.00   \n",
       "7                 -122.42     6329  Subscriber           1,989.00   \n",
       "8                 -122.42     6548  Subscriber           1,988.00   \n",
       "9                 -122.42     6488  Subscriber           1,992.00   \n",
       "10                -122.42     5318  Subscriber           1,996.00   \n",
       "11                -122.39     5848  Subscriber           1,993.00   \n",
       "12                -122.41     5328    Customer           1,990.00   \n",
       "13                -122.27     5101  Subscriber           1,984.81   \n",
       "14                -122.27     4786  Subscriber           1,988.00   \n",
       "\n",
       "   member_gender bike_share_for_all_trip   age  \n",
       "0           Male                      No 40.00  \n",
       "1           Male                      No 39.19  \n",
       "2           Male                      No 52.00  \n",
       "3           Male                      No 35.00  \n",
       "4           Male                     Yes 50.00  \n",
       "5           Male                      No 65.00  \n",
       "6         Female                      No 41.00  \n",
       "7           Male                      No 35.00  \n",
       "8           Male                      No 36.00  \n",
       "9           Male                      No 32.00  \n",
       "10        Female                     Yes 28.00  \n",
       "11          Male                      No 31.00  \n",
       "12          Male                      No 34.00  \n",
       "13          Male                      No 39.19  \n",
       "14          Male                      No 36.00  "
      ]
     },
     "execution_count": 42,
     "metadata": {},
     "output_type": "execute_result"
    }
   ],
   "source": [
    "df.head(15)"
   ]
  },
  {
   "cell_type": "markdown",
   "id": "18cb1241",
   "metadata": {
    "papermill": {
     "duration": 0.031188,
     "end_time": "2024-05-08T19:18:55.597833",
     "exception": false,
     "start_time": "2024-05-08T19:18:55.566645",
     "status": "completed"
    },
    "tags": []
   },
   "source": [
    "# <a id=\"8\"> 8) . What the average duration of trip for the categories of user type?</a>"
   ]
  },
  {
   "cell_type": "code",
   "execution_count": 43,
   "id": "1bc30891",
   "metadata": {
    "execution": {
     "iopub.execute_input": "2024-05-08T19:18:55.663148Z",
     "iopub.status.busy": "2024-05-08T19:18:55.662682Z",
     "iopub.status.idle": "2024-05-08T19:18:55.889207Z",
     "shell.execute_reply": "2024-05-08T19:18:55.887947Z"
    },
    "papermill": {
     "duration": 0.262594,
     "end_time": "2024-05-08T19:18:55.892095",
     "exception": false,
     "start_time": "2024-05-08T19:18:55.629501",
     "status": "completed"
    },
    "tags": []
   },
   "outputs": [
    {
     "data": {
      "image/png": "[encoded data removed]",
      "text/plain": [
       "<Figure size 640x480 with 1 Axes>"
      ]
     },
     "metadata": {},
     "output_type": "display_data"
    }
   ],
   "source": [
    "''' \n",
    "Since it is a distrbution between categorical and numerical data\n",
    "a Bar plot / box plot will be used\n",
    "'''\n",
    "plot = sns.barplot(x='user_type', y='duration_hour', data=df) # x = categorical , y = numerical\n",
    "plt.show()"
   ]
  },
  {
   "cell_type": "code",
   "execution_count": 44,
   "id": "46ff8f5f",
   "metadata": {},
   "outputs": [
    {
     "name": "stdout",
     "output_type": "stream",
     "text": [
      "user_type\n",
      "Customer     0.14\n",
      "Subscriber   0.08\n",
      "Name: duration_hour, dtype: float64\n"
     ]
    },
    {
     "name": "stderr",
     "output_type": "stream",
     "text": [
      "C:\\Users\\ASUS\\AppData\\Local\\Temp\\ipykernel_33140\\3097997787.py:1: FutureWarning: The default of observed=False is deprecated and will be changed to True in a future version of pandas. Pass observed=False to retain current behavior or observed=True to adopt the future default and silence this warning.\n",
      "  mode_by_category = df.groupby('user_type')['duration_hour'].agg(pd.Series.mode)\n"
     ]
    }
   ],
   "source": [
    "mode_by_category = df.groupby('user_type')['duration_hour'].agg(pd.Series.mode)\n",
    "print(mode_by_category)"
   ]
  },
  {
   "cell_type": "markdown",
   "id": "c04bd835",
   "metadata": {
    "papermill": {
     "duration": 0.030573,
     "end_time": "2024-05-08T19:18:55.954202",
     "exception": false,
     "start_time": "2024-05-08T19:18:55.923629",
     "status": "completed"
    },
    "tags": []
   },
   "source": [
    "# Make visualization to easy get insight\n"
   ]
  },
  {
   "cell_type": "markdown",
   "id": "3a40f5e2",
   "metadata": {},
   "source": [
    "> ### <mark>Your analsys and exploration here </mark>"
   ]
  },
  {
   "cell_type": "markdown",
   "id": "aadd20d4",
   "metadata": {
    "papermill": {
     "duration": 0.029335,
     "end_time": "2024-05-08T19:18:56.013896",
     "exception": false,
     "start_time": "2024-05-08T19:18:55.984561",
     "status": "completed"
    },
    "tags": []
   },
   "source": [
    "# <a id=\"9\">    9 ) . How long is the duration of the trip for each gender in minutes?  </a>"
   ]
  },
  {
   "cell_type": "code",
   "execution_count": 45,
   "id": "c5cfff86",
   "metadata": {
    "execution": {
     "iopub.execute_input": "2024-05-08T19:18:56.075806Z",
     "iopub.status.busy": "2024-05-08T19:18:56.074968Z",
     "iopub.status.idle": "2024-05-08T19:18:58.998551Z",
     "shell.execute_reply": "2024-05-08T19:18:58.997208Z"
    },
    "papermill": {
     "duration": 2.958578,
     "end_time": "2024-05-08T19:18:59.002139",
     "exception": false,
     "start_time": "2024-05-08T19:18:56.043561",
     "status": "completed"
    },
    "tags": []
   },
   "outputs": [
    {
     "name": "stdout",
     "output_type": "stream",
     "text": [
      "member_gender\n",
      "Female   0.10\n",
      "Male     0.08\n",
      "Name: duration_hour, dtype: float64\n"
     ]
    },
    {
     "name": "stderr",
     "output_type": "stream",
     "text": [
      "C:\\Users\\ASUS\\AppData\\Local\\Temp\\ipykernel_33140\\1953662300.py:3: FutureWarning: The default of observed=False is deprecated and will be changed to True in a future version of pandas. Pass observed=False to retain current behavior or observed=True to adopt the future default and silence this warning.\n",
      "  mode_by_category = df.groupby('member_gender')['duration_hour'].agg(pd.Series.mode)\n"
     ]
    }
   ],
   "source": [
    "# Make visualization to easy get insight\n",
    "\n",
    "mode_by_category = df.groupby('member_gender')['duration_hour'].agg(pd.Series.mode)\n",
    "print(mode_by_category)\n"
   ]
  },
  {
   "cell_type": "markdown",
   "id": "5adf025b",
   "metadata": {
    "papermill": {
     "duration": 0.031591,
     "end_time": "2024-05-08T19:18:59.064827",
     "exception": false,
     "start_time": "2024-05-08T19:18:59.033236",
     "status": "completed"
    },
    "tags": []
   },
   "source": [
    "# Make visualization to easy get insight\n"
   ]
  },
  {
   "cell_type": "markdown",
   "id": "aee81203",
   "metadata": {},
   "source": [
    "> ### <mark>Your analsys and exploration here </mark>"
   ]
  },
  {
   "cell_type": "markdown",
   "id": "695f4dd0",
   "metadata": {
    "papermill": {
     "duration": 0.032573,
     "end_time": "2024-05-08T19:18:59.128580",
     "exception": false,
     "start_time": "2024-05-08T19:18:59.096007",
     "status": "completed"
    },
    "tags": []
   },
   "source": [
    "# <a id=\"10 \"> 10 ) . How long is the duration of the trip for each user_type in minutes?  </a>"
   ]
  },
  {
   "cell_type": "code",
   "execution_count": 46,
   "id": "a9af5bd1",
   "metadata": {
    "execution": {
     "iopub.execute_input": "2024-05-08T19:18:59.193725Z",
     "iopub.status.busy": "2024-05-08T19:18:59.193329Z",
     "iopub.status.idle": "2024-05-08T19:18:59.370471Z",
     "shell.execute_reply": "2024-05-08T19:18:59.369530Z"
    },
    "papermill": {
     "duration": 0.213174,
     "end_time": "2024-05-08T19:18:59.372944",
     "exception": false,
     "start_time": "2024-05-08T19:18:59.159770",
     "status": "completed"
    },
    "tags": []
   },
   "outputs": [
    {
     "data": {
      "image/png": "[encoded data removed]",
      "text/plain": [
       "<Figure size 640x480 with 1 Axes>"
      ]
     },
     "metadata": {},
     "output_type": "display_data"
    }
   ],
   "source": [
    "plot = sns.boxplot(x='user_type', y='duration_min', data=df) # x = categorical , y = numerical\n"
   ]
  },
  {
   "cell_type": "markdown",
   "id": "2fbfffdd",
   "metadata": {
    "papermill": {
     "duration": 0.030586,
     "end_time": "2024-05-08T19:18:59.436672",
     "exception": false,
     "start_time": "2024-05-08T19:18:59.406086",
     "status": "completed"
    },
    "tags": []
   },
   "source": [
    "> ### <mark>Your analsys and exploration here </mark>"
   ]
  },
  {
   "cell_type": "markdown",
   "id": "1c031115",
   "metadata": {
    "papermill": {
     "duration": 0.030853,
     "end_time": "2024-05-08T19:18:59.500064",
     "exception": false,
     "start_time": "2024-05-08T19:18:59.469211",
     "status": "completed"
    },
    "tags": []
   },
   "source": [
    "# <a id=\"11\">  11 ) . How the user distribution depending on their Age and user_type ? </a>"
   ]
  },
  {
   "cell_type": "markdown",
   "id": "96de9b02",
   "metadata": {},
   "source": [
    "## Normal Distribution"
   ]
  },
  {
   "cell_type": "code",
   "execution_count": 47,
   "id": "e96a9783",
   "metadata": {},
   "outputs": [
    {
     "name": "stderr",
     "output_type": "stream",
     "text": [
      "C:\\Users\\ASUS\\AppData\\Local\\Temp\\ipykernel_33140\\4111386133.py:5: FutureWarning: Downcasting behavior in `replace` is deprecated and will be removed in a future version. To retain the old behavior, explicitly call `result.infer_objects(copy=False)`. To opt-in to the future behavior, set `pd.set_option('future.no_silent_downcasting', True)`\n",
      "  user_typeBinary = df['user_type'].replace(dic)\n",
      "C:\\Users\\ASUS\\AppData\\Local\\Temp\\ipykernel_33140\\4111386133.py:5: FutureWarning: The behavior of Series.replace (and DataFrame.replace) with CategoricalDtype is deprecated. In a future version, replace will only be used for cases that preserve the categories. To change the categories, use ser.cat.rename_categories instead.\n",
      "  user_typeBinary = df['user_type'].replace(dic)\n"
     ]
    }
   ],
   "source": [
    "dic = {\n",
    "    'Customer':0,\n",
    "    'Subscriber':1\n",
    "}\n",
    "user_typeBinary = df['user_type'].replace(dic)\n",
    "df.insert(7, 'userTypeBinary' ,user_typeBinary)"
   ]
  },
  {
   "cell_type": "code",
   "execution_count": 48,
   "id": "024f8b14",
   "metadata": {},
   "outputs": [
    {
     "data": {
      "text/html": [
       "<div>\n",
       "<style scoped>\n",
       "    .dataframe tbody tr th:only-of-type {\n",
       "        vertical-align: middle;\n",
       "    }\n",
       "\n",
       "    .dataframe tbody tr th {\n",
       "        vertical-align: top;\n",
       "    }\n",
       "\n",
       "    .dataframe thead th {\n",
       "        text-align: right;\n",
       "    }\n",
       "</style>\n",
       "<table border=\"1\" class=\"dataframe\">\n",
       "  <thead>\n",
       "    <tr style=\"text-align: right;\">\n",
       "      <th></th>\n",
       "      <th>duration_hour</th>\n",
       "      <th>duration_min</th>\n",
       "      <th>duration_sec</th>\n",
       "      <th>start_time</th>\n",
       "      <th>end_time</th>\n",
       "      <th>start_station_id</th>\n",
       "      <th>start_station_name</th>\n",
       "      <th>userTypeBinary</th>\n",
       "      <th>start_station_latitude</th>\n",
       "      <th>start_station_longitude</th>\n",
       "      <th>end_station_id</th>\n",
       "      <th>end_station_name</th>\n",
       "      <th>end_station_latitude</th>\n",
       "      <th>end_station_longitude</th>\n",
       "      <th>bike_id</th>\n",
       "      <th>user_type</th>\n",
       "      <th>member_birth_year</th>\n",
       "      <th>member_gender</th>\n",
       "      <th>bike_share_for_all_trip</th>\n",
       "      <th>age</th>\n",
       "    </tr>\n",
       "  </thead>\n",
       "  <tbody>\n",
       "    <tr>\n",
       "      <th>0</th>\n",
       "      <td>14.50</td>\n",
       "      <td>869.75</td>\n",
       "      <td>52185</td>\n",
       "      <td>32:10.1</td>\n",
       "      <td>01:56.0</td>\n",
       "      <td>21.00</td>\n",
       "      <td>Montgomery St BART Station (Market St at 2nd St)</td>\n",
       "      <td>0</td>\n",
       "      <td>37.79</td>\n",
       "      <td>-122.40</td>\n",
       "      <td>13.00</td>\n",
       "      <td>Commercial St at Montgomery St</td>\n",
       "      <td>37.79</td>\n",
       "      <td>-122.40</td>\n",
       "      <td>4902</td>\n",
       "      <td>Customer</td>\n",
       "      <td>1,984.00</td>\n",
       "      <td>Male</td>\n",
       "      <td>No</td>\n",
       "      <td>40.00</td>\n",
       "    </tr>\n",
       "    <tr>\n",
       "      <th>1</th>\n",
       "      <td>11.81</td>\n",
       "      <td>708.68</td>\n",
       "      <td>42521</td>\n",
       "      <td>53:21.8</td>\n",
       "      <td>42:03.1</td>\n",
       "      <td>23.00</td>\n",
       "      <td>The Embarcadero at Steuart St</td>\n",
       "      <td>0</td>\n",
       "      <td>37.79</td>\n",
       "      <td>-122.39</td>\n",
       "      <td>81.00</td>\n",
       "      <td>Berry St at 4th St</td>\n",
       "      <td>37.78</td>\n",
       "      <td>-122.39</td>\n",
       "      <td>2535</td>\n",
       "      <td>Customer</td>\n",
       "      <td>1,984.81</td>\n",
       "      <td>Male</td>\n",
       "      <td>No</td>\n",
       "      <td>39.19</td>\n",
       "    </tr>\n",
       "    <tr>\n",
       "      <th>2</th>\n",
       "      <td>17.18</td>\n",
       "      <td>1,030.90</td>\n",
       "      <td>61854</td>\n",
       "      <td>13:13.2</td>\n",
       "      <td>24:08.1</td>\n",
       "      <td>86.00</td>\n",
       "      <td>Market St at Dolores St</td>\n",
       "      <td>0</td>\n",
       "      <td>37.77</td>\n",
       "      <td>-122.43</td>\n",
       "      <td>3.00</td>\n",
       "      <td>Powell St BART Station (Market St at 4th St)</td>\n",
       "      <td>37.79</td>\n",
       "      <td>-122.40</td>\n",
       "      <td>5905</td>\n",
       "      <td>Customer</td>\n",
       "      <td>1,972.00</td>\n",
       "      <td>Male</td>\n",
       "      <td>No</td>\n",
       "      <td>52.00</td>\n",
       "    </tr>\n",
       "    <tr>\n",
       "      <th>3</th>\n",
       "      <td>10.14</td>\n",
       "      <td>608.17</td>\n",
       "      <td>36490</td>\n",
       "      <td>54:26.0</td>\n",
       "      <td>02:36.8</td>\n",
       "      <td>375.00</td>\n",
       "      <td>Grove St at Masonic Ave</td>\n",
       "      <td>1</td>\n",
       "      <td>37.77</td>\n",
       "      <td>-122.45</td>\n",
       "      <td>70.00</td>\n",
       "      <td>Central Ave at Fell St</td>\n",
       "      <td>37.77</td>\n",
       "      <td>-122.44</td>\n",
       "      <td>6638</td>\n",
       "      <td>Subscriber</td>\n",
       "      <td>1,989.00</td>\n",
       "      <td>Male</td>\n",
       "      <td>No</td>\n",
       "      <td>35.00</td>\n",
       "    </tr>\n",
       "    <tr>\n",
       "      <th>4</th>\n",
       "      <td>0.44</td>\n",
       "      <td>26.42</td>\n",
       "      <td>1585</td>\n",
       "      <td>54:18.5</td>\n",
       "      <td>20:44.1</td>\n",
       "      <td>7.00</td>\n",
       "      <td>Frank H Ogawa Plaza</td>\n",
       "      <td>1</td>\n",
       "      <td>37.80</td>\n",
       "      <td>-122.27</td>\n",
       "      <td>222.00</td>\n",
       "      <td>10th Ave at E 15th St</td>\n",
       "      <td>37.79</td>\n",
       "      <td>-122.25</td>\n",
       "      <td>4898</td>\n",
       "      <td>Subscriber</td>\n",
       "      <td>1,974.00</td>\n",
       "      <td>Male</td>\n",
       "      <td>Yes</td>\n",
       "      <td>50.00</td>\n",
       "    </tr>\n",
       "  </tbody>\n",
       "</table>\n",
       "</div>"
      ],
      "text/plain": [
       "   duration_hour  duration_min  duration_sec start_time end_time  \\\n",
       "0          14.50        869.75         52185    32:10.1  01:56.0   \n",
       "1          11.81        708.68         42521    53:21.8  42:03.1   \n",
       "2          17.18      1,030.90         61854    13:13.2  24:08.1   \n",
       "3          10.14        608.17         36490    54:26.0  02:36.8   \n",
       "4           0.44         26.42          1585    54:18.5  20:44.1   \n",
       "\n",
       "   start_station_id                                start_station_name  \\\n",
       "0             21.00  Montgomery St BART Station (Market St at 2nd St)   \n",
       "1             23.00                     The Embarcadero at Steuart St   \n",
       "2             86.00                           Market St at Dolores St   \n",
       "3            375.00                           Grove St at Masonic Ave   \n",
       "4              7.00                               Frank H Ogawa Plaza   \n",
       "\n",
       "  userTypeBinary  start_station_latitude  start_station_longitude  \\\n",
       "0              0                   37.79                  -122.40   \n",
       "1              0                   37.79                  -122.39   \n",
       "2              0                   37.77                  -122.43   \n",
       "3              1                   37.77                  -122.45   \n",
       "4              1                   37.80                  -122.27   \n",
       "\n",
       "   end_station_id                              end_station_name  \\\n",
       "0           13.00                Commercial St at Montgomery St   \n",
       "1           81.00                            Berry St at 4th St   \n",
       "2            3.00  Powell St BART Station (Market St at 4th St)   \n",
       "3           70.00                        Central Ave at Fell St   \n",
       "4          222.00                         10th Ave at E 15th St   \n",
       "\n",
       "   end_station_latitude  end_station_longitude  bike_id   user_type  \\\n",
       "0                 37.79                -122.40     4902    Customer   \n",
       "1                 37.78                -122.39     2535    Customer   \n",
       "2                 37.79                -122.40     5905    Customer   \n",
       "3                 37.77                -122.44     6638  Subscriber   \n",
       "4                 37.79                -122.25     4898  Subscriber   \n",
       "\n",
       "   member_birth_year member_gender bike_share_for_all_trip   age  \n",
       "0           1,984.00          Male                      No 40.00  \n",
       "1           1,984.81          Male                      No 39.19  \n",
       "2           1,972.00          Male                      No 52.00  \n",
       "3           1,989.00          Male                      No 35.00  \n",
       "4           1,974.00          Male                     Yes 50.00  "
      ]
     },
     "execution_count": 48,
     "metadata": {},
     "output_type": "execute_result"
    }
   ],
   "source": [
    "df.head()"
   ]
  },
  {
   "cell_type": "code",
   "execution_count": 49,
   "id": "3b90bb19",
   "metadata": {
    "execution": {
     "iopub.execute_input": "2024-05-08T19:18:59.566719Z",
     "iopub.status.busy": "2024-05-08T19:18:59.566085Z",
     "iopub.status.idle": "2024-05-08T19:18:59.912305Z",
     "shell.execute_reply": "2024-05-08T19:18:59.911119Z"
    },
    "papermill": {
     "duration": 0.382956,
     "end_time": "2024-05-08T19:18:59.915371",
     "exception": false,
     "start_time": "2024-05-08T19:18:59.532415",
     "status": "completed"
    },
    "tags": []
   },
   "outputs": [
    {
     "data": {
      "image/png": "[encoded data removed]",
      "text/plain": [
       "<Figure size 640x480 with 1 Axes>"
      ]
     },
     "metadata": {},
     "output_type": "display_data"
    }
   ],
   "source": [
    "\n",
    "plot = sns.barplot(data=df, x='user_type',y = 'age')\n",
    "plt.xlabel('User distribution')\n",
    "plt.ylabel('Frequency')\n",
    "plt.title(\"Represent the user's distribution depending on being a part of the Trips Program\")\n",
    "\n",
    "plt.show()"
   ]
  },
  {
   "cell_type": "markdown",
   "id": "4cbe24d3",
   "metadata": {
    "papermill": {
     "duration": 0.031741,
     "end_time": "2024-05-08T19:18:59.980930",
     "exception": false,
     "start_time": "2024-05-08T19:18:59.949189",
     "status": "completed"
    },
    "tags": []
   },
   "source": [
    "> ### <mark>Your analsys and exploration here </mark>"
   ]
  },
  {
   "cell_type": "code",
   "execution_count": 50,
   "id": "8c39a5ed",
   "metadata": {},
   "outputs": [
    {
     "data": {
      "image/png": "[encoded data removed]",
      "text/plain": [
       "<Figure size 640x480 with 1 Axes>"
      ]
     },
     "metadata": {},
     "output_type": "display_data"
    }
   ],
   "source": [
    "sns.scatterplot(x='age', y='userTypeBinary', data=df)\n",
    "plt.show()"
   ]
  },
  {
   "cell_type": "markdown",
   "id": "2b64f4e9",
   "metadata": {
    "papermill": {
     "duration": 0.033128,
     "end_time": "2024-05-08T19:19:00.046934",
     "exception": false,
     "start_time": "2024-05-08T19:19:00.013806",
     "status": "completed"
    },
    "tags": []
   },
   "source": [
    "#  <a id=\"12\"> 12 ). How the user distribution depending on their Age and member_gender ?</a>"
   ]
  },
  {
   "cell_type": "markdown",
   "id": "d9baa82b",
   "metadata": {},
   "source": [
    "## Normal"
   ]
  },
  {
   "cell_type": "code",
   "execution_count": 51,
   "id": "6dacd14a",
   "metadata": {
    "execution": {
     "iopub.execute_input": "2024-05-08T19:19:00.114966Z",
     "iopub.status.busy": "2024-05-08T19:19:00.114490Z",
     "iopub.status.idle": "2024-05-08T19:19:00.491590Z",
     "shell.execute_reply": "2024-05-08T19:19:00.490321Z"
    },
    "papermill": {
     "duration": 0.415016,
     "end_time": "2024-05-08T19:19:00.495267",
     "exception": false,
     "start_time": "2024-05-08T19:19:00.080251",
     "status": "completed"
    },
    "tags": []
   },
   "outputs": [
    {
     "data": {
      "image/png": "[encoded data removed]",
      "text/plain": [
       "<Figure size 640x480 with 1 Axes>"
      ]
     },
     "metadata": {},
     "output_type": "display_data"
    }
   ],
   "source": [
    "plot = sns.barplot(x = 'member_gender' , y = 'age' , data = df)\n"
   ]
  },
  {
   "cell_type": "markdown",
   "id": "2dd41e12",
   "metadata": {
    "papermill": {
     "duration": 0.033401,
     "end_time": "2024-05-08T19:19:00.565677",
     "exception": false,
     "start_time": "2024-05-08T19:19:00.532276",
     "status": "completed"
    },
    "tags": []
   },
   "source": [
    "> ### <mark>Your analsys and exploration here </mark>"
   ]
  },
  {
   "cell_type": "markdown",
   "id": "e8970237",
   "metadata": {
    "papermill": {
     "duration": 0.033295,
     "end_time": "2024-05-08T19:19:00.633271",
     "exception": false,
     "start_time": "2024-05-08T19:19:00.599976",
     "status": "completed"
    },
    "tags": []
   },
   "source": [
    "### Talk about some of the relationships you observed in this part of the investigation. How did the feature(s) of interest vary with other features in the dataset?\n",
    "\n",
    "> The dataset is well-collected, as most of the relationships between variant is normal disturbed.\n",
    "\n",
    "\n",
    "### Did you observe any interesting relationships between the other features (not the main feature(s) of interest)?\n",
    "\n",
    "> age and gender were interesting and they are almost equal to each other which means that while targeting the audinece to our\n",
    "bike systems it doesn't matter whether the user is male or female. but it's preferable to target the male audience than females"
   ]
  },
  {
   "cell_type": "markdown",
   "id": "be04d446",
   "metadata": {
    "papermill": {
     "duration": 0.03374,
     "end_time": "2024-05-08T19:19:00.701869",
     "exception": false,
     "start_time": "2024-05-08T19:19:00.668129",
     "status": "completed"
    },
    "tags": []
   },
   "source": [
    "# <p style=\"border-radius:15px;border-style:solid;border-color:lightblue;border-width:3px;background-color:lightblue;padding: 20px;font-family:Verdana;color:#D81F26;font-size:30px;text-align: center;\">Multivariate Exploration</p>\n",
    "# <a id=\"1111\"> Multivariate Exploration </a>\n",
    "\n",
    "> Create plots of three or more variables to investigate your data even\n",
    "further. Make sure that your investigations are justified, and follow from\n",
    "your work in the previous sections."
   ]
  },
  {
   "cell_type": "code",
   "execution_count": 52,
   "id": "94da7cd0",
   "metadata": {},
   "outputs": [],
   "source": [
    "## check your work \n"
   ]
  },
  {
   "cell_type": "markdown",
   "id": "ade8b4be",
   "metadata": {
    "papermill": {
     "duration": 0.034492,
     "end_time": "2024-05-08T19:19:00.771230",
     "exception": false,
     "start_time": "2024-05-08T19:19:00.736738",
     "status": "completed"
    },
    "tags": []
   },
   "source": [
    "\n",
    "# <a id=\"13\">  13 ) . What is the  Correlation between each variable in the dataset?</a>"
   ]
  },
  {
   "cell_type": "code",
   "execution_count": 53,
   "id": "ddba4e75",
   "metadata": {
    "execution": {
     "iopub.execute_input": "2024-05-08T19:19:00.842561Z",
     "iopub.status.busy": "2024-05-08T19:19:00.841730Z",
     "iopub.status.idle": "2024-05-08T19:19:02.331091Z",
     "shell.execute_reply": "2024-05-08T19:19:02.329589Z"
    },
    "papermill": {
     "duration": 1.531842,
     "end_time": "2024-05-08T19:19:02.338068",
     "exception": false,
     "start_time": "2024-05-08T19:19:00.806226",
     "status": "completed"
    },
    "tags": []
   },
   "outputs": [
    {
     "data": {
      "image/png": "[encoded data removed]",
      "text/plain": [
       "<Figure size 640x480 with 1 Axes>"
      ]
     },
     "metadata": {},
     "output_type": "display_data"
    }
   ],
   "source": [
    "fig = plt.figure()\n",
    "ax = fig.add_subplot(111, projection='3d')\n",
    "ax.scatter(df['age'].astype(int), df['duration_hour'].astype(int), df[\"userTypeBinary\"])\n",
    "plt.show()"
   ]
  },
  {
   "cell_type": "markdown",
   "id": "81bf674a",
   "metadata": {
    "papermill": {
     "duration": 0.040414,
     "end_time": "2024-05-08T19:19:02.419056",
     "exception": false,
     "start_time": "2024-05-08T19:19:02.378642",
     "status": "completed"
    },
    "tags": []
   },
   "source": [
    "\n",
    "\n",
    "> ### <mark>Your analsys and exploration here </mark>\n",
    "\n",
    "Example usage\n",
    "- There is `no Correlation` for any variable with time ( `duration sec /minutes/hours`)\n"
   ]
  },
  {
   "cell_type": "markdown",
   "id": "0de8bcef",
   "metadata": {
    "papermill": {
     "duration": 0.041216,
     "end_time": "2024-05-08T19:19:02.501874",
     "exception": false,
     "start_time": "2024-05-08T19:19:02.460658",
     "status": "completed"
    },
    "tags": []
   },
   "source": [
    "\n",
    "# <a id=\"14\"> 14 )  .  What is the  Correlation between `specific numeric variables` in the dataset?</a>\n"
   ]
  },
  {
   "cell_type": "code",
   "execution_count": 54,
   "id": "d8c18d8b",
   "metadata": {},
   "outputs": [],
   "source": [
    "numuric_col.extend(['duration_hour', \"duration_min\"])"
   ]
  },
  {
   "cell_type": "code",
   "execution_count": 55,
   "id": "7eacd20c",
   "metadata": {},
   "outputs": [],
   "source": [
    "numuric_col.append('age')"
   ]
  },
  {
   "cell_type": "code",
   "execution_count": 56,
   "id": "ca98e22c",
   "metadata": {},
   "outputs": [
    {
     "name": "stdout",
     "output_type": "stream",
     "text": [
      "['duration_sec', 'start_station_id', 'start_station_latitude', 'start_station_longitude', 'end_station_id', 'end_station_latitude', 'end_station_longitude', 'bike_id', 'member_birth_year', 'duration_hour', 'duration_min', 'age']\n"
     ]
    }
   ],
   "source": [
    "print(numuric_col)"
   ]
  },
  {
   "cell_type": "code",
   "execution_count": 57,
   "id": "4e1851c8",
   "metadata": {
    "execution": {
     "iopub.execute_input": "2024-05-08T19:19:02.586438Z",
     "iopub.status.busy": "2024-05-08T19:19:02.585564Z",
     "iopub.status.idle": "2024-05-08T19:19:15.830347Z",
     "shell.execute_reply": "2024-05-08T19:19:15.829084Z"
    },
    "papermill": {
     "duration": 13.29349,
     "end_time": "2024-05-08T19:19:15.835911",
     "exception": false,
     "start_time": "2024-05-08T19:19:02.542421",
     "status": "completed"
    },
    "tags": []
   },
   "outputs": [
    {
     "data": {
      "image/png": "[encoded data removed]",
      "text/plain": [
       "<Figure size 1000x500 with 2 Axes>"
      ]
     },
     "metadata": {},
     "output_type": "display_data"
    }
   ],
   "source": [
    "plt.figure(figsize=(10,5))\n",
    "corr_matrix = df[numuric_col].corr()\n",
    "sns.heatmap(corr_matrix, annot=True)\n",
    "plt.show()\n"
   ]
  },
  {
   "cell_type": "markdown",
   "id": "b5e3995b",
   "metadata": {
    "papermill": {
     "duration": 0.046689,
     "end_time": "2024-05-08T19:19:15.930253",
     "exception": false,
     "start_time": "2024-05-08T19:19:15.883564",
     "status": "completed"
    },
    "tags": []
   },
   "source": [
    "> ### <mark>Your analsys and exploration here </mark>\n",
    "\n",
    "Example usage\n",
    "- There is `no Correlation` for any variable with time ( `duration sec /minutes`)\n",
    "\n",
    "\n",
    "\n",
    "\n",
    "- \n",
    "\n",
    "\n",
    "\n",
    "\n",
    "- \n",
    "\n",
    "\n"
   ]
  },
  {
   "cell_type": "markdown",
   "id": "97fea6e5",
   "metadata": {
    "papermill": {
     "duration": 0.044683,
     "end_time": "2024-05-08T19:19:16.022736",
     "exception": false,
     "start_time": "2024-05-08T19:19:15.978053",
     "status": "completed"
    },
    "tags": []
   },
   "source": [
    "# <a id=\"15\">  15 ) What is the  Correlation between data_stat variables in the dataset?</a>\n"
   ]
  },
  {
   "cell_type": "markdown",
   "id": "33301163",
   "metadata": {
    "papermill": {
     "duration": 0.047459,
     "end_time": "2024-05-08T19:19:16.653147",
     "exception": false,
     "start_time": "2024-05-08T19:19:16.605688",
     "status": "completed"
    },
    "tags": []
   },
   "source": [
    "> ### <mark>The above charts show how Correlation between specific numeric variables in the dataset using heatmap plots  </mark>\n",
    "\n",
    "\n",
    "\n",
    "**Actually the `heat map`  display the above ideas in clear percentages**\n",
    "\n",
    "\n",
    "\n",
    "- There is `no Correlation` for any variable with time ( `duration sec /minutes`)\n",
    "\n",
    "\n",
    "\n",
    "\n",
    "- There is a `negative  Correlation` between  member_birth_year  and age which normal.\n",
    "\n",
    "\n",
    "\n",
    "\n",
    "- There is `no significant Correlation` for any variable with `bike_id `\n",
    "\n"
   ]
  },
  {
   "cell_type": "markdown",
   "id": "c7d52286",
   "metadata": {
    "papermill": {
     "duration": 0.047263,
     "end_time": "2024-05-08T19:19:16.750071",
     "exception": false,
     "start_time": "2024-05-08T19:19:16.702808",
     "status": "completed"
    },
    "tags": []
   },
   "source": [
    "# <p style=\"border-radius:15px;border-style:solid;border-color:lightblue;border-width:3px;background-color:lightblue;padding: 20px;font-family:Verdana;color:#D81F26;font-size:30px;text-align: center;\">Conclusions</p>\n",
    "# <a id=\"1100\"> Conclusions </a>\n",
    "\n",
    "#example\n",
    "- Most users were Male.\n",
    "\n",
    "\n",
    "- \n",
    "\n",
    "- \n",
    "\n",
    "- \n",
    "\n",
    "\n",
    "\n",
    "## limitation \n",
    "example\n",
    "- We got missing data which we fix some of them.\n"
   ]
  },
  {
   "cell_type": "markdown",
   "id": "8960d6bc",
   "metadata": {},
   "source": []
  }
 ],
 "metadata": {
  "kaggle": {
   "accelerator": "none",
   "dataSources": [
    {
     "datasetId": 2328822,
     "sourceId": 4414579,
     "sourceType": "datasetVersion"
    }
   ],
   "dockerImageVersionId": 30203,
   "isGpuEnabled": false,
   "isInternetEnabled": true,
   "language": "python",
   "sourceType": "notebook"
  },
  "kernelspec": {
   "display_name": ".venv",
   "language": "python",
   "name": "python3"
  },
  "language_info": {
   "codemirror_mode": {
    "name": "ipython",
    "version": 3
   },
   "file_extension": ".py",
   "mimetype": "text/x-python",
   "name": "python",
   "nbconvert_exporter": "python",
   "pygments_lexer": "ipython3",
   "version": "3.13.0"
  },
  "papermill": {
   "default_parameters": {},
   "duration": 42.862916,
   "end_time": "2024-05-08T19:19:17.815863",
   "environment_variables": {},
   "exception": null,
   "input_path": "__notebook__.ipynb",
   "output_path": "__notebook__.ipynb",
   "parameters": {},
   "start_time": "2024-05-08T19:18:34.952947",
   "version": "2.3.4"
  }
 },
 "nbformat": 4,
 "nbformat_minor": 5
}
